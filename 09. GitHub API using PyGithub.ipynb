{
 "cells": [
  {
   "cell_type": "markdown",
   "id": "79ce8699",
   "metadata": {},
   "source": [
    "[PyGithub](https://pygithub.readthedocs.io/en/latest/introduction.html)"
   ]
  },
  {
   "cell_type": "code",
   "execution_count": 1,
   "id": "013d170f",
   "metadata": {},
   "outputs": [
    {
     "name": "stdout",
     "output_type": "stream",
     "text": [
      "Collecting PyGithub\n",
      "  Downloading PyGithub-2.1.1-py3-none-any.whl (302 kB)\n",
      "     -------------------------------------- 302.9/302.9 kB 6.4 MB/s eta 0:00:00\n",
      "Requirement already satisfied: requests>=2.14.0 in c:\\users\\vega2\\anaconda3\\lib\\site-packages (from PyGithub) (2.28.1)\n",
      "Collecting Deprecated\n",
      "  Downloading Deprecated-1.2.14-py2.py3-none-any.whl (9.6 kB)\n",
      "Requirement already satisfied: pyjwt[crypto]>=2.4.0 in c:\\users\\vega2\\anaconda3\\lib\\site-packages (from PyGithub) (2.4.0)\n",
      "Requirement already satisfied: python-dateutil in c:\\users\\vega2\\anaconda3\\lib\\site-packages (from PyGithub) (2.8.2)\n",
      "Requirement already satisfied: typing-extensions>=4.0.0 in c:\\users\\vega2\\anaconda3\\lib\\site-packages (from PyGithub) (4.4.0)\n",
      "Requirement already satisfied: pynacl>=1.4.0 in c:\\users\\vega2\\anaconda3\\lib\\site-packages (from PyGithub) (1.5.0)\n",
      "Requirement already satisfied: urllib3>=1.26.0 in c:\\users\\vega2\\anaconda3\\lib\\site-packages (from PyGithub) (1.26.14)\n",
      "Requirement already satisfied: cryptography>=3.3.1 in c:\\users\\vega2\\anaconda3\\lib\\site-packages (from pyjwt[crypto]>=2.4.0->PyGithub) (39.0.1)\n",
      "Requirement already satisfied: cffi>=1.4.1 in c:\\users\\vega2\\anaconda3\\lib\\site-packages (from pynacl>=1.4.0->PyGithub) (1.15.1)\n",
      "Requirement already satisfied: charset-normalizer<3,>=2 in c:\\users\\vega2\\anaconda3\\lib\\site-packages (from requests>=2.14.0->PyGithub) (2.0.4)\n",
      "Requirement already satisfied: certifi>=2017.4.17 in c:\\users\\vega2\\anaconda3\\lib\\site-packages (from requests>=2.14.0->PyGithub) (2022.12.7)\n",
      "Requirement already satisfied: idna<4,>=2.5 in c:\\users\\vega2\\anaconda3\\lib\\site-packages (from requests>=2.14.0->PyGithub) (3.4)\n",
      "Requirement already satisfied: wrapt<2,>=1.10 in c:\\users\\vega2\\anaconda3\\lib\\site-packages (from Deprecated->PyGithub) (1.14.1)\n",
      "Requirement already satisfied: six>=1.5 in c:\\users\\vega2\\anaconda3\\lib\\site-packages (from python-dateutil->PyGithub) (1.16.0)\n",
      "Requirement already satisfied: pycparser in c:\\users\\vega2\\anaconda3\\lib\\site-packages (from cffi>=1.4.1->pynacl>=1.4.0->PyGithub) (2.21)\n",
      "Installing collected packages: Deprecated, PyGithub\n",
      "Successfully installed Deprecated-1.2.14 PyGithub-2.1.1\n"
     ]
    }
   ],
   "source": [
    "!pip install PyGithub"
   ]
  },
  {
   "cell_type": "code",
   "execution_count": 2,
   "id": "e5c17c76",
   "metadata": {},
   "outputs": [
    {
     "name": "stdout",
     "output_type": "stream",
     "text": [
      "Collecting prettytable\n",
      "  Downloading prettytable-3.9.0-py3-none-any.whl (27 kB)\n",
      "Requirement already satisfied: wcwidth in c:\\users\\vega2\\anaconda3\\lib\\site-packages (from prettytable) (0.2.5)\n",
      "Installing collected packages: prettytable\n",
      "Successfully installed prettytable-3.9.0\n"
     ]
    }
   ],
   "source": [
    "!pip install prettytable"
   ]
  },
  {
   "cell_type": "markdown",
   "id": "aa044de2",
   "metadata": {},
   "source": [
    "### 1. Get User Data From GitHub"
   ]
  },
  {
   "cell_type": "code",
   "execution_count": 3,
   "id": "96b0b657",
   "metadata": {},
   "outputs": [
    {
     "name": "stdout",
     "output_type": "stream",
     "text": [
      "+---------------------+-------------------------------------------------------------+\n",
      "|         Key         |                            Value                            |\n",
      "+---------------------+-------------------------------------------------------------+\n",
      "|        login        |                           mysoyul                           |\n",
      "|          id         |                           89883683                          |\n",
      "|       node_id       |                     MDQ6VXNlcjg5ODgzNjgz                    |\n",
      "|      avatar_url     |     https://avatars.githubusercontent.com/u/89883683?v=4    |\n",
      "|     gravatar_id     |                                                             |\n",
      "|         url         |             https://api.github.com/users/mysoyul            |\n",
      "|       html_url      |                  https://github.com/mysoyul                 |\n",
      "|    followers_url    |        https://api.github.com/users/mysoyul/followers       |\n",
      "|    following_url    | https://api.github.com/users/mysoyul/following{/other_user} |\n",
      "|      gists_url      |     https://api.github.com/users/mysoyul/gists{/gist_id}    |\n",
      "|     starred_url     | https://api.github.com/users/mysoyul/starred{/owner}{/repo} |\n",
      "|  subscriptions_url  |      https://api.github.com/users/mysoyul/subscriptions     |\n",
      "|  organizations_url  |          https://api.github.com/users/mysoyul/orgs          |\n",
      "|      repos_url      |          https://api.github.com/users/mysoyul/repos         |\n",
      "|      events_url     |    https://api.github.com/users/mysoyul/events{/privacy}    |\n",
      "| received_events_url |     https://api.github.com/users/mysoyul/received_events    |\n",
      "|         type        |                             User                            |\n",
      "|      site_admin     |                            False                            |\n",
      "|         name        |                             None                            |\n",
      "|       company       |                             None                            |\n",
      "|         blog        |                                                             |\n",
      "|       location      |                             None                            |\n",
      "|        email        |                             None                            |\n",
      "|       hireable      |                             None                            |\n",
      "|         bio         |                             None                            |\n",
      "|   twitter_username  |                             None                            |\n",
      "|     public_repos    |                              72                             |\n",
      "|     public_gists    |                             101                             |\n",
      "|      followers      |                              6                              |\n",
      "|      following      |                              0                              |\n",
      "|      created_at     |                     2021-09-01T01:00:15Z                    |\n",
      "|      updated_at     |                     2023-11-17T06:56:29Z                    |\n",
      "+---------------------+-------------------------------------------------------------+\n"
     ]
    }
   ],
   "source": [
    "import requests\n",
    "from prettytable import PrettyTable\n",
    "\n",
    "table = PrettyTable()\n",
    "table.field_names = [\"Key\", \"Value\"]\n",
    "\n",
    "github_username  = \"username\"\n",
    "\n",
    "#api url to grab public user data\n",
    "api_url = f\"https://api.github.com/users/{github_username}\"\n",
    "\n",
    "#send get request\n",
    "response = requests.get(api_url)\n",
    "\n",
    "#get the data in json or equivalent dict format\n",
    "data =  response.json()\n",
    "\n",
    "for key, value in data.items():\n",
    "    table.add_row([key, value])\n",
    "\n",
    "print(table)"
   ]
  },
  {
   "cell_type": "markdown",
   "id": "0a3368f7",
   "metadata": {},
   "source": [
    "### 2. Get User Public Repositories Data from GitHub"
   ]
  },
  {
   "cell_type": "code",
   "execution_count": 4,
   "id": "78ac1a4c",
   "metadata": {},
   "outputs": [
    {
     "name": "stdout",
     "output_type": "stream",
     "text": [
      "+------------------------------+----------------------+\n",
      "|       Repository Name        |     Created Date     |\n",
      "+------------------------------+----------------------+\n",
      "|       Angular_HeroApp        | 2022-01-06T05:14:51Z |\n",
      "|    bogosystem_vuehelloapp    | 2021-11-20T07:09:18Z |\n",
      "|     Boot3_REST_Thymeleaf     | 2023-10-15T14:44:38Z |\n",
      "|    botosystem_vueTodoApp     | 2021-11-21T01:50:27Z |\n",
      "|           Boxiting           | 2021-09-01T07:42:20Z |\n",
      "|     Client_Pokemon_Vue3      | 2023-11-21T07:15:24Z |\n",
      "|      config-remote-repo      | 2022-07-27T00:29:07Z |\n",
      "|        DataJPAStudent        | 2022-12-04T15:06:54Z |\n",
      "|       firstSpringBoot        | 2021-09-01T07:26:33Z |\n",
      "|       GiHubActionTest        | 2023-07-10T14:16:30Z |\n",
      "| ibkbank_webscraping_analysis | 2021-11-16T09:07:54Z |\n",
      "|    ibk_python_progrmming     | 2021-11-15T08:41:19Z |\n",
      "|      Java8Lambda_Stream      | 2021-10-23T02:42:16Z |\n",
      "|     Java8_Lambda_Stream      | 2023-07-06T04:02:12Z |\n",
      "|   JavaLambda_Stream_202311   | 2023-11-06T04:53:39Z |\n",
      "|    Jpa_Thymeleaf_Restapi     | 2021-10-20T00:10:37Z |\n",
      "|     kosta_django_blogApp     | 2021-11-22T08:33:20Z |\n",
      "| kosta_ecmascript6_tutorials  | 2021-11-26T00:04:59Z |\n",
      "|      kosta_Java8Lambda       | 2022-03-03T01:57:07Z |\n",
      "|   kosta_webscaping_anaysis   | 2021-11-11T04:00:16Z |\n",
      "|   kosta_webscraping_202003   | 2022-03-14T04:53:07Z |\n",
      "|      KT_Reactor_Webflux      | 2023-03-30T01:48:31Z |\n",
      "|         KT_REST_JWT          | 2023-03-06T01:06:38Z |\n",
      "| MachineLearningBasic_Python  | 2021-12-21T20:57:39Z |\n",
      "|       MongoDB_Pymongo        | 2021-12-16T04:09:32Z |\n",
      "|            MyApp             | 2021-11-03T02:04:34Z |\n",
      "|           MyAppNew           | 2021-10-12T02:08:39Z |\n",
      "|           MyAppOld           | 2021-09-01T01:44:54Z |\n",
      "|      MyRestAPI_Boot3.1       | 2023-08-08T05:15:47Z |\n",
      "|       MySpringbootApp        | 2022-04-06T16:19:43Z |\n",
      "+------------------------------+----------------------+\n"
     ]
    }
   ],
   "source": [
    "import requests\n",
    "from prettytable import PrettyTable\n",
    "\n",
    "table = PrettyTable()\n",
    "table.field_names = [\"Repository Name\", \"Created Date\"]\n",
    "\n",
    "github_username  = \"username\"   #specify your User name\n",
    "\n",
    "#api url to grab public user repositories\n",
    "api_url = f\"https://api.github.com/users/{github_username}/repos\"\n",
    "\n",
    "#send get request\n",
    "response = requests.get(api_url)\n",
    "\n",
    "#get the json data\n",
    "data =  response.json()\n",
    "\n",
    "for repository in data:\n",
    "    table.add_row([repository[\"name\"], repository[\"created_at\"]])\n",
    "\n",
    "print(table)"
   ]
  },
  {
   "cell_type": "markdown",
   "id": "d78197f5",
   "metadata": {},
   "source": [
    "### 3. Search Repositories in GitHub"
   ]
  },
  {
   "cell_type": "code",
   "execution_count": 5,
   "id": "89e9493b",
   "metadata": {},
   "outputs": [
    {
     "name": "stdout",
     "output_type": "stream",
     "text": [
      "+-----------------------------------------+----------------------+------------------+--------+\n",
      "|             Repository Name             |     Created Date     |     Language     | Stars  |\n",
      "+-----------------------------------------+----------------------+------------------+--------+\n",
      "|           TheAlgorithms/Python          | 2016-07-16T09:44:01Z |      Python      | 173551 |\n",
      "|           walter201230/Python           | 2017-06-07T11:52:22Z |       None       | 17229  |\n",
      "|             injetlee/Python             | 2016-06-23T15:15:23Z |      Python      |  8865  |\n",
      "|         kubernetes-client/python        | 2016-10-31T20:08:03Z |      Python      |  6151  |\n",
      "|         Show-Me-the-Code/python         | 2014-11-28T01:39:43Z |       HTML       |  3698  |\n",
      "|              xxg1413/python             | 2012-09-06T07:00:59Z |       None       |  3247  |\n",
      "|              gxcuizy/Python             | 2018-06-08T01:33:56Z |      Python      |  2504  |\n",
      "|          docker-library/python          | 2014-06-20T22:55:57Z |      Shell       |  2360  |\n",
      "|            joeyajames/Python            | 2015-06-15T02:32:30Z | Jupyter Notebook |  1464  |\n",
      "|    jakevdp/PythonDataScienceHandbook    | 2016-08-10T14:24:36Z | Jupyter Notebook | 40239  |\n",
      "|             exercism/python             | 2014-02-28T03:48:58Z |      Python      |  1586  |\n",
      "|       AtsushiSakai/PythonRobotics       | 2016-03-21T09:34:43Z |      Python      | 20422  |\n",
      "|           vinta/awesome-python          | 2014-06-27T21:00:06Z |      Python      | 188603 |\n",
      "|               poise/python              | 2012-03-14T18:37:54Z |      Python      |  550   |\n",
      "|        jackfrued/Python-100-Days        | 2018-03-01T16:05:52Z |      Python      | 143117 |\n",
      "|           Tanu-N-Prabhu/Python          | 2019-04-27T04:49:56Z | Jupyter Notebook |  907   |\n",
      "| Pierian-Data/Complete-Python-3-Bootcamp | 2018-02-12T19:30:10Z | Jupyter Notebook | 25330  |\n",
      "|           521xueweihan/python           | 2015-05-08T04:41:52Z |      Python      |  1016  |\n",
      "|              joe011/python              | 2013-08-07T06:08:24Z |      Python      |  784   |\n",
      "|      wistbean/learn_python3_spider      | 2019-04-02T20:19:54Z |      Python      | 14113  |\n",
      "|        michaelliao/learn-python3        | 2015-05-15T05:29:05Z |       None       |  6041  |\n",
      "|             Yonv1943/Python             | 2018-06-08T04:36:49Z |      Python      |  620   |\n",
      "|        yidao620c/python3-cookbook       | 2014-08-19T03:13:07Z | Jupyter Notebook | 11106  |\n",
      "|             zhanghe06/python            | 2015-01-22T08:44:20Z |      Python      |  474   |\n",
      "|           faif/python-patterns          | 2012-06-06T21:02:35Z |      Python      | 38502  |\n",
      "|         Jack-Cherish/PythonPark         | 2020-04-29T06:24:33Z |      Python      |  8118  |\n",
      "|       lining0806/PythonSpiderNotes      | 2015-08-19T03:48:30Z |      Python      |  6419  |\n",
      "|              Zy143L/python              | 2021-06-26T14:52:47Z |       None       |  405   |\n",
      "|         gto76/python-cheatsheet         | 2018-01-25T04:16:53Z |      Python      | 34367  |\n",
      "|               nnja/python               | 2019-02-17T02:38:04Z |       CSS        |  408   |\n",
      "+-----------------------------------------+----------------------+------------------+--------+\n"
     ]
    }
   ],
   "source": [
    "import requests\n",
    "from prettytable import PrettyTable\n",
    "\n",
    "table = PrettyTable()\n",
    "table.field_names = [\"Repository Name\", \"Created Date\",\"Language\", \"Stars\"]\n",
    "\n",
    "query= \"python\"\n",
    "#first page\n",
    "page=1\n",
    "\n",
    "#search for the top repositories\n",
    "api_url = f\"https://api.github.com/search/repositories?q={query}&{page}\"\n",
    "\n",
    "#send get request\n",
    "response = requests.get(api_url)\n",
    "\n",
    "#get the json data\n",
    "data =  response.json()\n",
    "\n",
    "for repository in data[\"items\"]:\n",
    "    name = repository[\"full_name\"]\n",
    "    created_date = repository[\"created_at\"]\n",
    "    language = repository[\"language\"]\n",
    "    stars = repository[\"stargazers_count\"]\n",
    "    \n",
    "    table.add_row([name, created_date, language, stars ])\n",
    "\n",
    "print(table)"
   ]
  },
  {
   "cell_type": "markdown",
   "id": "fe6e0682",
   "metadata": {},
   "source": [
    "### 4. Python Program to Access All Repositories on GitHub"
   ]
  },
  {
   "cell_type": "code",
   "execution_count": 6,
   "id": "7f69cd38",
   "metadata": {},
   "outputs": [
    {
     "name": "stdout",
     "output_type": "stream",
     "text": [
      "+-----------------------------------------+---------+--------+---------------------------+------------------+\n",
      "|             Repository Name             | Private | Public |        Created Date       |     Language     |\n",
      "+-----------------------------------------+---------+--------+---------------------------+------------------+\n",
      "|       -SpringCloud_level4_rabbitmq      |   True  | False  | 2022-06-22 04:59:24+00:00 |       Java       |\n",
      "|             Angular_HeroApp             |  False  |  True  | 2022-01-06 05:14:51+00:00 |    TypeScript    |\n",
      "|          bogosystem_vuehelloapp         |  False  |  True  | 2021-11-20 07:09:18+00:00 |       Vue        |\n",
      "|           Boot3_REST_Thymeleaf          |  False  |  True  | 2023-10-15 14:44:38+00:00 |       Java       |\n",
      "|          botosystem_vueTodoApp          |  False  |  True  | 2021-11-21 01:50:27+00:00 |       Vue        |\n",
      "|                 Boxiting                |  False  |  True  | 2021-09-01 07:42:20+00:00 |       HTML       |\n",
      "|                   CICD                  |   True  | False  | 2022-04-13 12:18:30+00:00 |       None       |\n",
      "|           Client_Pokemon_Vue3           |  False  |  True  | 2023-11-21 07:15:24+00:00 |       Vue        |\n",
      "|            config-remote-repo           |  False  |  True  | 2022-07-27 00:29:07+00:00 |       None       |\n",
      "|              DataJPAStudent             |  False  |  True  | 2022-12-04 15:06:54+00:00 |       Java       |\n",
      "|             firstSpringBoot             |  False  |  True  | 2021-09-01 07:26:33+00:00 |       Java       |\n",
      "|             GiHubActionTest             |  False  |  True  | 2023-07-10 14:16:30+00:00 |       Java       |\n",
      "|       ibkbank_webscraping_analysis      |  False  |  True  | 2021-11-16 09:07:54+00:00 | Jupyter Notebook |\n",
      "|          ibk_python_progrmming          |  False  |  True  | 2021-11-15 08:41:19+00:00 | Jupyter Notebook |\n",
      "|            Java8Lambda_Stream           |  False  |  True  | 2021-10-23 02:42:16+00:00 |       Java       |\n",
      "|           Java8_Lambda_Stream           |  False  |  True  | 2023-07-06 04:02:12+00:00 |       Java       |\n",
      "|         JavaLambda_Stream_202311        |  False  |  True  | 2023-11-06 04:53:39+00:00 |       Java       |\n",
      "|          Jpa_Thymeleaf_Restapi          |  False  |  True  | 2021-10-20 00:10:37+00:00 |       Java       |\n",
      "|           kosta_django_blogApp          |  False  |  True  | 2021-11-22 08:33:20+00:00 |      Python      |\n",
      "|       kosta_ecmascript6_tutorials       |  False  |  True  | 2021-11-26 00:04:59+00:00 |    JavaScript    |\n",
      "|            kosta_Java8Lambda            |  False  |  True  | 2022-03-03 01:57:07+00:00 |       Java       |\n",
      "|         kosta_webscaping_anaysis        |  False  |  True  | 2021-11-11 04:00:16+00:00 | Jupyter Notebook |\n",
      "|         kosta_webscraping_202003        |  False  |  True  | 2022-03-14 04:53:07+00:00 | Jupyter Notebook |\n",
      "|            KT_Reactor_Webflux           |  False  |  True  | 2023-03-30 01:48:31+00:00 |       Java       |\n",
      "|               KT_REST_JWT               |  False  |  True  | 2023-03-06 01:06:38+00:00 |       Java       |\n",
      "|       MachineLearningBasic_Python       |  False  |  True  | 2021-12-21 20:57:39+00:00 | Jupyter Notebook |\n",
      "|             MongoDB_Pymongo             |  False  |  True  | 2021-12-16 04:09:32+00:00 | Jupyter Notebook |\n",
      "|                  MyApp                  |  False  |  True  | 2021-11-03 02:04:34+00:00 |       HTML       |\n",
      "|                 MyAppNew                |  False  |  True  | 2021-10-12 02:08:39+00:00 |       HTML       |\n",
      "|                 MyAppOld                |  False  |  True  | 2021-09-01 01:44:54+00:00 |       HTML       |\n",
      "|            MyRestAPI_Boot3.1            |  False  |  True  | 2023-08-08 05:15:47+00:00 |       Java       |\n",
      "|             MySpringbootApp             |  False  |  True  | 2022-04-06 16:19:43+00:00 |       Java       |\n",
      "|            nextjs-boilerplate           |   True  | False  | 2023-04-21 02:08:53+00:00 |       CSS        |\n",
      "|         nextjs-fullstack-search         |  False  |  True  | 2023-04-21 04:09:09+00:00 |    TypeScript    |\n",
      "|          nextjs-prisma-supabase         |  False  |  True  | 2023-04-27 07:35:26+00:00 |    TypeScript    |\n",
      "|           nextjs-wikipedia-api          |  False  |  True  | 2023-04-21 01:40:54+00:00 |    TypeScript    |\n",
      "|         nextjs-wikipedia-deploy         |  False  |  True  | 2023-04-27 02:28:33+00:00 |    TypeScript    |\n",
      "|      node_express_typescript_Server     |  False  |  True  | 2023-02-15 12:55:19+00:00 |    TypeScript    |\n",
      "|            PokemonReviewBoot3           |  False  |  True  | 2023-07-24 04:06:35+00:00 |       Java       |\n",
      "|            Python_Webscraping           |  False  |  True  | 2023-06-12 01:53:54+00:00 | Jupyter Notebook |\n",
      "|       python_webscraping_analysis       |  False  |  True  | 2021-09-28 03:03:48+00:00 | Jupyter Notebook |\n",
      "|          Reactive_Webflux_Mongo         |   True  | False  | 2021-12-02 08:30:02+00:00 |       Java       |\n",
      "|          Reactive_Webflux_R2DBC         |   True  | False  | 2021-11-30 01:22:17+00:00 |       Java       |\n",
      "| ReactJS-Spring-Boot-CRUD-Full-Stack-App |  False  |  True  | 2022-04-13 06:52:29+00:00 |    JavaScript    |\n",
      "|        reactjs_springboot_client        |  False  |  True  | 2022-04-13 08:51:34+00:00 |    JavaScript    |\n",
      "|           ReactJS_Todo_202304           |  False  |  True  | 2023-04-17 08:31:33+00:00 |    JavaScript    |\n",
      "|         React_Hooks_Redux_Router        |   True  | False  | 2022-11-18 11:29:08+00:00 |    JavaScript    |\n",
      "|              react_node_aws             |  False  |  True  | 2023-02-20 15:02:13+00:00 |    JavaScript    |\n",
      "|            React_TodoListApp            |  False  |  True  | 2022-01-04 06:11:44+00:00 |    JavaScript    |\n",
      "|             Redux_CounterApp            |  False  |  True  | 2022-01-05 06:12:40+00:00 |    JavaScript    |\n",
      "|           Rest_Hateoas_Swagger          |  False  |  True  | 2023-05-15 03:48:06+00:00 |       Java       |\n",
      "|                 REST_JPA                |  False  |  True  | 2023-05-23 01:13:55+00:00 |       Java       |\n",
      "|         Server_PokemonReviewAPI         |  False  |  True  | 2023-11-20 04:11:10+00:00 |       Java       |\n",
      "|             spring-boot3-jwt            |  False  |  True  | 2023-03-14 06:50:55+00:00 |       None       |\n",
      "|           SpringBoot3_BasicApp          |  False  |  True  | 2023-05-31 00:19:31+00:00 |       Java       |\n",
      "|         SpringBoot3_RESTAPI_JWT         |   True  | False  | 2023-07-04 01:52:19+00:00 |       Java       |\n",
      "|           SpringBoot3_REST_JWT          |  False  |  True  | 2023-11-14 03:58:09+00:00 |       Java       |\n",
      "|     SpringBootReactive_Webflux_Mongo    |  False  |  True  | 2021-12-21 02:21:49+00:00 |       Java       |\n",
      "|     SpringBootReactive_Webflux_R2DBC    |  False  |  True  | 2021-12-20 04:02:27+00:00 |       Java       |\n",
      "|             SpringBoot_Basic            |   True  | False  | 2022-08-10 07:59:25+00:00 |       Java       |\n",
      "|           SpringBoot_BasicApp           |  False  |  True  | 2023-08-01 11:12:57+00:00 |       Java       |\n",
      "|          SpringBoot_Basic_Maven         |  False  |  True  | 2022-08-10 08:02:52+00:00 |       Java       |\n",
      "|            SpringBoot_RESTAPI           |  False  |  True  | 2021-12-13 04:00:12+00:00 |       Java       |\n",
      "|          SpringBoot_RESTAPI_JWT         |   True  | False  | 2022-08-10 05:33:45+00:00 |       Java       |\n",
      "|      SpringBoot_RESTAPI_Lecture_JWT     |   True  | False  | 2022-08-16 15:49:25+00:00 |       Java       |\n",
      "|        SpringBoot_RESTAPI_Oauth2        |   True  | False  | 2022-08-10 05:06:51+00:00 |       Java       |\n",
      "|        SpringCloud_Config_Remote        |  False  |  True  | 2022-06-21 08:02:00+00:00 |       None       |\n",
      "|            SpringCloud_level1           |   True  | False  | 2022-06-15 02:08:00+00:00 |       Java       |\n",
      "|            SpringCloud_level2           |   True  | False  | 2022-06-15 02:11:12+00:00 |       Java       |\n",
      "|            SpringCloud_level3           |   True  | False  | 2022-06-15 03:20:34+00:00 |       Java       |\n",
      "|            SpringCloud_level4           |   True  | False  | 2022-06-20 05:03:59+00:00 |       Java       |\n",
      "|            SpringCloud_level5           |   True  | False  | 2022-06-23 13:04:22+00:00 |       Java       |\n",
      "|         SpringCloud_level5_kafka        |   True  | False  | 2022-06-29 03:53:34+00:00 |       Java       |\n",
      "|     SpringCloud_level6_resilience4j     |   True  | False  | 2022-07-02 03:14:59+00:00 |       Java       |\n",
      "|             springcloud_old             |  False  |  True  | 2022-06-02 05:10:30+00:00 |       None       |\n",
      "|        SpringCloud_Remote_Config        |  False  |  True  | 2023-08-03 07:25:37+00:00 |       None       |\n",
      "|              SpringFW5_App              |  False  |  True  | 2023-07-10 04:50:36+00:00 |       Java       |\n",
      "|                test_ist2                |  False  |  True  | 2023-04-26 04:22:40+00:00 |       None       |\n",
      "|      Todo_Hooks_CustomHook_Context      |   True  | False  | 2022-11-15 15:55:33+00:00 |    JavaScript    |\n",
      "|          Todo_Hooks_useReducer          |   True  | False  | 2022-11-18 11:51:30+00:00 |    JavaScript    |\n",
      "|              Todo_ReactHook             |   True  | False  | 2022-06-09 06:40:13+00:00 |    JavaScript    |\n",
      "|           ucamp_vuejs2_todoapp          |  False  |  True  | 2023-09-26 03:30:15+00:00 |       Vue        |\n",
      "|             uplus_springboot            |  False  |  True  | 2022-01-17 07:51:26+00:00 |       Java       |\n",
      "|           vue-todo-typescript           |   True  | False  | 2023-02-02 14:07:36+00:00 |       Vue        |\n",
      "|              vue2_todo_post             |  False  |  True  | 2023-09-26 16:35:49+00:00 |       Vue        |\n",
      "|             vue3-todo-ts-cli            |  False  |  True  | 2023-11-09 06:49:36+00:00 |       Vue        |\n",
      "|               vue3-TodoApp              |   True  | False  | 2023-03-24 06:06:52+00:00 |       Vue        |\n",
      "|             Vue3-TodoApp-CLI            |  False  |  True  | 2023-08-10 05:52:13+00:00 |       Vue        |\n",
      "|           vue3-todoapp-ts-ver2          |   True  | False  | 2023-02-14 15:01:33+00:00 |       Vue        |\n",
      "|         Vue3-TodoApp-Vite-Pinia         |  False  |  True  | 2023-08-10 23:33:14+00:00 |       Vue        |\n",
      "|             vue3-vite-pinia             |  False  |  True  | 2023-11-11 04:09:19+00:00 |       Vue        |\n",
      "|             Vue3_TodoApp-TS             |  False  |  True  | 2023-06-22 04:54:43+00:00 |       Vue        |\n",
      "|             vuejs-hello-app             |  False  |  True  | 2021-10-26 05:55:56+00:00 |       Vue        |\n",
      "|            vuejs-todolist-app           |  False  |  True  | 2021-10-26 08:28:54+00:00 |       Vue        |\n",
      "|             vuejs3-todo-app             |  False  |  True  | 2023-05-08 04:21:11+00:00 |       Vue        |\n",
      "|              Vuejs_TodoApp              |  False  |  True  | 2021-09-09 01:38:09+00:00 |       Vue        |\n",
      "|            WebScraping_Update           |   True  | False  | 2022-10-10 03:12:18+00:00 | Jupyter Notebook |\n",
      "+-----------------------------------------+---------+--------+---------------------------+------------------+\n"
     ]
    }
   ],
   "source": [
    "from github import Github\n",
    "from prettytable import PrettyTable\n",
    "\n",
    "table = PrettyTable()\n",
    "table.field_names = [\"Repository Name\", \"Private\", \"Public\",\"Created Date\",\"Language\"]\n",
    "\n",
    "#github generated access token\n",
    "access_token =\"<Enter Your Access Token>\"\n",
    "\n",
    "#login with access token\n",
    "login  = Github(access_token)\n",
    "\n",
    "#get the user\n",
    "user  = login.get_user()\n",
    "\n",
    "#get all repositories\n",
    "my_repos = user.get_repos()\n",
    "\n",
    "for repository in my_repos:\n",
    "    name =  repository.name\n",
    "    private,public = repository.private, not(repository.private)\n",
    "    created_date = repository.created_at\n",
    "    language = repository.language\n",
    "    table.add_row([name, private, public, created_date, language])\n",
    "\n",
    "print(table)"
   ]
  },
  {
   "cell_type": "markdown",
   "id": "699725af",
   "metadata": {},
   "source": [
    "### Create a New GitHub Repository"
   ]
  },
  {
   "cell_type": "code",
   "execution_count": 7,
   "id": "543b19ce",
   "metadata": {},
   "outputs": [
    {
     "data": {
      "text/plain": [
       "{'content': ContentFile(path=\"New-File.txt\"),\n",
       " 'commit': Commit(sha=\"b9455c78bcc05ea0e0e5ac9f253cd0de8035036e\")}"
      ]
     },
     "execution_count": 7,
     "metadata": {},
     "output_type": "execute_result"
    }
   ],
   "source": [
    "from github import Github\n",
    "\n",
    "#generated access token\n",
    "access_token =\"<Enter Your Access Token>\"\n",
    "\n",
    "#login into github account\n",
    "login  = Github(access_token)\n",
    "\n",
    "#get the user\n",
    "user  = login.get_user()\n",
    "\n",
    "repository_name= \"PyGithub-Repo\"\n",
    "\n",
    "#create repository\n",
    "new_repo = user.create_repo(repository_name)\n",
    "\n",
    "#create new file\n",
    "new_repo.create_file(\"New-File.txt\", \"new commit\", \"Data Inside the File\")"
   ]
  },
  {
   "cell_type": "code",
   "execution_count": null,
   "id": "a5b2487f",
   "metadata": {},
   "outputs": [],
   "source": []
  }
 ],
 "metadata": {
  "kernelspec": {
   "display_name": "Python 3 (ipykernel)",
   "language": "python",
   "name": "python3"
  },
  "language_info": {
   "codemirror_mode": {
    "name": "ipython",
    "version": 3
   },
   "file_extension": ".py",
   "mimetype": "text/x-python",
   "name": "python",
   "nbconvert_exporter": "python",
   "pygments_lexer": "ipython3",
   "version": "3.10.9"
  }
 },
 "nbformat": 4,
 "nbformat_minor": 5
}
