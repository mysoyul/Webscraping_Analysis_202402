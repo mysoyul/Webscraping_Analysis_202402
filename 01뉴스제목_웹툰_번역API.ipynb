{
 "cells": [
  {
   "cell_type": "markdown",
   "id": "eb0bfa44",
   "metadata": {},
   "source": [
    "## 1. 뉴스제목 가져오기\n",
    "* user-agent 요청 헤더를 반드시 설정해야 한다."
   ]
  },
  {
   "cell_type": "code",
   "execution_count": 1,
   "id": "f0d27781",
   "metadata": {},
   "outputs": [
    {
     "name": "stdout",
     "output_type": "stream",
     "text": [
      "Name: requests\n",
      "Version: 2.28.1\n",
      "Summary: Python HTTP for Humans.\n",
      "Home-page: https://requests.readthedocs.io\n",
      "Author: Kenneth Reitz\n",
      "Author-email: me@kennethreitz.org\n",
      "License: Apache 2.0\n",
      "Location: c:\\users\\vega2\\anaconda3\\lib\\site-packages\n",
      "Requires: certifi, charset-normalizer, idna, urllib3\n",
      "Required-by: anaconda-client, anaconda-project, conda, conda-build, conda-repo-cli, conda_package_streaming, cookiecutter, datashader, huggingface-hub, jupyterlab_server, panel, pooch, PyGithub, requests-file, requests-toolbelt, Sphinx, tldextract, transformers, webdriver-manager\n"
     ]
    }
   ],
   "source": [
    "!pip show requests"
   ]
  },
  {
   "cell_type": "code",
   "execution_count": 6,
   "id": "bf80a429",
   "metadata": {},
   "outputs": [],
   "source": [
    "import requests\n",
    "import bs4\n",
    "from bs4 import BeautifulSoup"
   ]
  },
  {
   "cell_type": "code",
   "execution_count": 7,
   "id": "9788d6ac",
   "metadata": {
    "scrolled": true
   },
   "outputs": [
    {
     "name": "stdout",
     "output_type": "stream",
     "text": [
      "request ver  2.28.1\n",
      "beautifulsoup  4.11.1\n"
     ]
    }
   ],
   "source": [
    "print('request ver ' , requests.__version__)\n",
    "print('beautifulsoup ', bs4.__version__)"
   ]
  },
  {
   "cell_type": "code",
   "execution_count": 29,
   "id": "94c12fd6",
   "metadata": {},
   "outputs": [
    {
     "name": "stdout",
     "output_type": "stream",
     "text": [
      "200\n",
      "88\n",
      "“신작 게임 롬, 리니지W 베꼈다”…게임업계 소송 일파만파 https://n.news.naver.com/mnews/article/028/0002678273\n",
      " https://n.news.naver.com/mnews/article/comment/028/0002678273\n",
      "하렉스인포텍, 세계인공지능학회서 혁신상 수상 https://n.news.naver.com/mnews/article/009/0005263604\n",
      " https://n.news.naver.com/mnews/article/comment/009/0005263604\n",
      "삼성 '갤럭시 링' 첫 실물 등판…AI폰 이어 애플에 한방 날리나 [MWC 2024] https://n.news.naver.com/mnews/article/015/0004952618\n",
      " https://n.news.naver.com/mnews/article/comment/015/0004952618\n",
      "CJ올리브네트웍스, 작년 영업익 45.3% 성장…“2026년 매출 1조 달성” https://n.news.naver.com/mnews/article/138/0002167535\n",
      " https://n.news.naver.com/mnews/article/comment/138/0002167535\n",
      "중국 아너 · 샤오미, 'AI 기술 탑재' 신제품 스마트폰 출시 https://n.news.naver.com/mnews/article/055/0001133899\n",
      " https://n.news.naver.com/mnews/article/comment/055/0001133899\n",
      "\"韓웹툰 씨앗 뿌려 현지 웹툰 수확\"…해외 작가 발굴하는 플랫폼 https://n.news.naver.com/mnews/article/001/0014525344\n",
      " https://n.news.naver.com/mnews/article/comment/001/0014525344\n",
      "과기정통부, 신임 차관 취임…선도형R&D·기술융합 한목소리 https://n.news.naver.com/mnews/article/011/0004304655\n",
      " https://n.news.naver.com/mnews/article/comment/011/0004304655\n",
      "인티그리트, SK텔레콤과 함께 AI 안내형 디바이스 ‘MWC2024’ 선보여 https://n.news.naver.com/mnews/article/011/0004304563\n",
      " https://n.news.naver.com/mnews/article/comment/011/0004304563\n",
      "한달도 채 안남은 확률형아이템 정보공개...게임업계 고민 심화 https://n.news.naver.com/mnews/article/092/0002322541\n",
      " https://n.news.naver.com/mnews/article/comment/092/0002322541\n",
      "화웨이서 분사한 아너…'눈'으로 車 제어하는 기술 내놨다 https://n.news.naver.com/mnews/article/015/0004952770\n",
      " https://n.news.naver.com/mnews/article/comment/015/0004952770\n",
      "유튜브, '유목민' 단속한다… “6개월마다 국가 인증” https://n.news.naver.com/mnews/article/030/0003183864\n",
      " https://n.news.naver.com/mnews/article/comment/030/0003183864\n",
      "삼성전자 ‘링’ 공개...5000명 몰린 현장 열기 https://n.news.naver.com/mnews/article/016/0002271860\n",
      " https://n.news.naver.com/mnews/article/comment/016/0002271860\n",
      "\"비전프로, 부품원가 200만원 넘어…마이크로 OLED가 가장 비싸\" https://n.news.naver.com/mnews/article/092/0002322537\n",
      " https://n.news.naver.com/mnews/article/comment/092/0002322537\n",
      "김정회 반도체산업협회 부회장 \"美 보조금 받는데, 정부 역할 중요\" https://n.news.naver.com/mnews/article/092/0002322536\n",
      " https://n.news.naver.com/mnews/article/comment/092/0002322536\n",
      "“진짜 사람같네?” 머스크, 부드럽게 걷는 로봇 영상 공개…이틀새 7600만 재생 https://n.news.naver.com/mnews/article/023/0003818803\n",
      " https://n.news.naver.com/mnews/article/comment/023/0003818803\n",
      "\"AI·로봇과 만난 OLED\"…삼성D, MWC2024서 공개 전시 https://n.news.naver.com/mnews/article/092/0002322535\n",
      " https://n.news.naver.com/mnews/article/comment/092/0002322535\n",
      "구글 또 소송 당해…이번엔 '픽셀6 프로' 과열 문제 https://n.news.naver.com/mnews/article/092/0002322533\n",
      " https://n.news.naver.com/mnews/article/comment/092/0002322533\n",
      "머스크가 올린 영상 뭐길래…\"진짜 가정부 로봇 나오겠네\" 흥분 https://n.news.naver.com/mnews/article/015/0004952760\n",
      " https://n.news.naver.com/mnews/article/comment/015/0004952760\n",
      "전 세계 돈 다 끌어모으는 ‘창고’의 비밀 https://n.news.naver.com/mnews/article/016/0002271822\n",
      " https://n.news.naver.com/mnews/article/comment/016/0002271822\n",
      "[속보] 정부 “전공의 집단행동, 3월부터 수사 기소 사법처리 불가피” https://n.news.naver.com/mnews/article/366/0000973184\n",
      " https://n.news.naver.com/mnews/article/comment/366/0000973184\n",
      "'리니지W 표절' 논란 '롬' 출시 일정대로...오늘 사전 다운로드 https://n.news.naver.com/mnews/article/008/0005003831\n",
      " https://n.news.naver.com/mnews/article/comment/008/0005003831\n",
      "[속보] 정부 “전공의 1만34명 사직서 제출,  9006명 근무지 이탈” https://n.news.naver.com/mnews/article/366/0000973182\n",
      " https://n.news.naver.com/mnews/article/comment/366/0000973182\n",
      "'소통' 특명 받은 과기부 차관들 \"만남 늘리겠다\" 한목소리 https://n.news.naver.com/mnews/article/001/0014527185\n",
      " https://n.news.naver.com/mnews/article/comment/001/0014527185\n",
      "삼성전자, 에너지 절약 강화된 '24년형 비스포크 무풍에어컨' 출시 https://n.news.naver.com/mnews/article/092/0002322526\n",
      " https://n.news.naver.com/mnews/article/comment/092/0002322526\n",
      "전공의 사직 일주일째…전임의·인턴 이탈 조짐에 병원 운영 비상사태 우려 https://n.news.naver.com/mnews/article/029/0002857440\n",
      " https://n.news.naver.com/mnews/article/comment/029/0002857440\n",
      "과기정통부 신임 차관들 \"R&D 예산 분명 증액될 것\"(종합) https://n.news.naver.com/mnews/article/003/0012392415\n",
      " https://n.news.naver.com/mnews/article/comment/003/0012392415\n",
      "中 전문가 \"중국 AI 기술, 1~2년 뒤 미국 능가할 것\" https://n.news.naver.com/mnews/article/092/0002322520\n",
      " https://n.news.naver.com/mnews/article/comment/092/0002322520\n",
      "[MWC현장]\"실사구시형 AI가 뜬다\"…3대 관전포인트는? https://n.news.naver.com/mnews/article/277/0005384514\n",
      " https://n.news.naver.com/mnews/article/comment/277/0005384514\n",
      "류광준 본부장 \"내년 R&D예산 증액? 부족한 곳에 필요한 만큼\" https://n.news.naver.com/mnews/article/018/0005680500\n",
      " https://n.news.naver.com/mnews/article/comment/018/0005680500\n",
      "\"AI비서로 항공·호텔 예약 한번에\"…獨 도이치텔레콤 AI폰 공개[MWC 24] https://n.news.naver.com/mnews/article/003/0012392328\n",
      " https://n.news.naver.com/mnews/article/comment/003/0012392328\n",
      "컴퓨터 메모리 혁신·차세대 노벨상 화두 '교자성'…한국 연구진 두각 https://n.news.naver.com/mnews/article/584/0000026056\n",
      " https://n.news.naver.com/mnews/article/comment/584/0000026056\n",
      "[MWC 2024] 국산 하늘택시 떴다…SKT·KT, 나란히 UAM 기술 선봬 https://n.news.naver.com/mnews/article/011/0004304634\n",
      " https://n.news.naver.com/mnews/article/comment/011/0004304634\n",
      "애플, 메타·아마존 이어 스마트 글라스 개발하나 https://n.news.naver.com/mnews/article/138/0002167517\n",
      " https://n.news.naver.com/mnews/article/comment/138/0002167517\n",
      "[주간 클라우드 동향/2월④] 수장 교체한 구글클라우드 한국사업 향방은? https://n.news.naver.com/mnews/article/138/0002167515\n",
      " https://n.news.naver.com/mnews/article/comment/138/0002167515\n",
      "MS ‘빙’ 매입 제안에 애플 “구글에 비해 품질이 떨어져” 거절 https://n.news.naver.com/mnews/article/023/0003818785\n",
      " https://n.news.naver.com/mnews/article/comment/023/0003818785\n",
      "'과학도 등용문' 삼성휴먼테크논문대상 30주년 맞아 https://n.news.naver.com/mnews/article/001/0014527047\n",
      " https://n.news.naver.com/mnews/article/comment/001/0014527047\n",
      "'스마트팩토리 껑충' CJ올리브네트웍스, 역대 최대 실적 https://n.news.naver.com/mnews/article/648/0000023593\n",
      " https://n.news.naver.com/mnews/article/comment/648/0000023593\n",
      "서울의대 교수들, 전공의와 회동…\"전공의 복귀 위해선 협박·강제 아닌 설득 필요\" https://n.news.naver.com/mnews/article/029/0002857427\n",
      " https://n.news.naver.com/mnews/article/comment/029/0002857427\n",
      "넥슨 대표 IP ‘던파’, 올해 또 한번의 ‘점프’ 노린다 https://n.news.naver.com/mnews/article/009/0005263618\n",
      " https://n.news.naver.com/mnews/article/comment/009/0005263618\n",
      "\"눈빛 하나로 조작 가능\"…진화한 'AI폰' 등장 https://n.news.naver.com/mnews/article/215/0001150148\n",
      " https://n.news.naver.com/mnews/article/comment/215/0001150148\n",
      "정부 \"전공의 29일까지 복귀하면 지나간 책임 묻지 않겠다\" https://n.news.naver.com/mnews/article/029/0002857422\n",
      " https://n.news.naver.com/mnews/article/comment/029/0002857422\n",
      "\"애플, 스마트 반지·스마트 글래스 검토 중…카메라 탑재 에어팟도\" https://n.news.naver.com/mnews/article/092/0002322503\n",
      " https://n.news.naver.com/mnews/article/comment/092/0002322503\n",
      "[MWC 2024] 스페인 MZ 사로잡은 삼성…갤럭시 팝업스토어 가보니 https://n.news.naver.com/mnews/article/031/0000815435\n",
      " https://n.news.naver.com/mnews/article/comment/031/0000815435\n",
      "“손에 잡히는 AI”…실 생활 파고든 신기술 뜬다 [MWC 2024] https://n.news.naver.com/mnews/article/016/0002271740\n",
      " https://n.news.naver.com/mnews/article/comment/016/0002271740\n"
     ]
    }
   ],
   "source": [
    "# IT/과학 뉴스\n",
    "req_param = {\n",
    "    'sid': 105\n",
    "}\n",
    "url = 'https://news.naver.com/section/{sid}'.format(**req_param)\n",
    "# 요청 헤더 설정 : 브라우저 정보\n",
    "req_header = {\n",
    "    'user-agent': 'Mozilla/5.0 (Windows NT 10.0; Win64; x64) AppleWebKit/537.36 (KHTML, like Gecko) Chrome/104.0.0.0 Safari/537.36'\n",
    "}\n",
    "res = requests.get(url, headers=req_header)\n",
    "print(res.status_code)\n",
    "# print('요청 header', res.request.headers)\n",
    "# print('응답 header', res.headers)\n",
    "if res.ok:\n",
    "    html = res.text # 소스보기 텍스트\n",
    "    soup = BeautifulSoup(html, 'html.parser')\n",
    "    '''\n",
    "        <div class=\"sa_text\"> div.sa_text\n",
    "    '''\n",
    "    print(len(soup.select(\"div.sa_text a[href*='n.news.naver.com/mnews/article']\")))\n",
    "    a_tag_list = soup.select(\"div.sa_text a[href*='n.news.naver.com/mnews/article']\")\n",
    "    for a_tag in a_tag_list:\n",
    "        title = a_tag.text.strip()\n",
    "        link = a_tag['href']\n",
    "        print(title, link)"
   ]
  },
  {
   "cell_type": "code",
   "execution_count": 31,
   "id": "b093cde2",
   "metadata": {},
   "outputs": [
    {
     "name": "stdout",
     "output_type": "stream",
     "text": [
      "생활/문화\n"
     ]
    }
   ],
   "source": [
    "section_dict = {100:'정치',101:'경제',102:'사회',103:'생활/문화',104:'세계',105:'IT/과학'}\n",
    "print(section_dict[103])"
   ]
  },
  {
   "cell_type": "code",
   "execution_count": null,
   "id": "81cd804b",
   "metadata": {},
   "outputs": [],
   "source": [
    "import requests\n",
    "import bs4\n",
    "from bs4 import BeautifulSoup\n",
    "\n",
    "def print_news(sid, section):    \n",
    "    # 요청 Parameter\n",
    "    req_param = {\n",
    "    'sid': sid\n",
    "    }\n",
    "    url = 'https://news.naver.com/section/{sid}'.format(**req_param)\n",
    "    \n",
    "    print(f'======> {url} {section} 뉴스 <======')\n",
    "    \n",
    "    # 요청 헤더 설정 : 브라우저 정보\n",
    "    req_header = {\n",
    "        'user-agent': 'Mozilla/5.0 (Windows NT 10.0; Win64; x64) AppleWebKit/537.36 (KHTML, like Gecko) Chrome/104.0.0.0 Safari/537.36'\n",
    "    }\n",
    "    res = requests.get(url, headers=req_header)\n",
    "    print(res.status_code)\n",
    "    print(res.ok)\n",
    "    #print('요청 header', res.request.headers)\n",
    "    #print('응답 header', res.headers)\n",
    "    if res.ok:\n",
    "        html = res.text #소스보기 텍스트 추출\n",
    "        soup = BeautifulSoup(html, 'html.parser')\n",
    "        print(len(soup.select(\"div.sa_text a[href*='n.news.naver.com/mnews/article']\")))\n",
    "        a_tags = soup.select(\"div.sa_text a[href*='n.news.naver.com/mnews/article']\")\n",
    "        for a_tag in a_tags:\n",
    "            #print(a_tag)\n",
    "            title = a_tag.text.strip()\n",
    "            link = a_tag['href']\n",
    "            print(title, link)"
   ]
  },
  {
   "cell_type": "markdown",
   "id": "323196dc",
   "metadata": {},
   "source": [
    "### 2. Image 다운로드\n",
    "* referer 요청 헤더를 반드시 설정해야 한다."
   ]
  },
  {
   "cell_type": "code",
   "execution_count": 49,
   "id": "e39dce7a",
   "metadata": {},
   "outputs": [],
   "source": [
    "import requests\n",
    "import os"
   ]
  },
  {
   "cell_type": "code",
   "execution_count": 61,
   "id": "c72d6cb1",
   "metadata": {},
   "outputs": [
    {
     "name": "stdout",
     "output_type": "stream",
     "text": [
      "20220804112251_d97bd1e1b38f0cd022e4e3639d2926b3_IMAG01_1.jpg\n",
      " writing to 20220804112251_d97bd1e1b38f0cd022e4e3639d2926b3_IMAG01_1.jpg(299,319 bytes)\n",
      "20220804112251_d97bd1e1b38f0cd022e4e3639d2926b3_IMAG01_2.jpg\n",
      " writing to 20220804112251_d97bd1e1b38f0cd022e4e3639d2926b3_IMAG01_2.jpg(163,333 bytes)\n",
      "20220804112251_d97bd1e1b38f0cd022e4e3639d2926b3_IMAG01_3.jpg\n",
      " writing to 20220804112251_d97bd1e1b38f0cd022e4e3639d2926b3_IMAG01_3.jpg(182,530 bytes)\n"
     ]
    }
   ],
   "source": [
    "req_header = {\n",
    "    'referer':'https://comic.naver.com/webtoon/detail?titleId=798173&no=5&amp;weekday=thu'\n",
    "}\n",
    "img_urls = [\n",
    "    'https://image-comic.pstatic.net/webtoon/798173/5/20220804112251_d97bd1e1b38f0cd022e4e3639d2926b3_IMAG01_1.jpg',\n",
    "    'https://image-comic.pstatic.net/webtoon/798173/5/20220804112251_d97bd1e1b38f0cd022e4e3639d2926b3_IMAG01_2.jpg',\n",
    "    'https://image-comic.pstatic.net/webtoon/798173/5/20220804112251_d97bd1e1b38f0cd022e4e3639d2926b3_IMAG01_3.jpg'\n",
    "]\n",
    "for img_url in img_urls:\n",
    "    res = requests.get(img_url, headers=req_header)\n",
    "    if res.ok:\n",
    "        img_data = res.content\n",
    "        file_name = os.path.basename(img_url)\n",
    "        print(file_name)\n",
    "        # binary data를 file로 저장하기\n",
    "        with open(file_name, 'wb') as file:\n",
    "            print(f' writing to {file_name}({len(img_data):,} bytes)')\n",
    "            file.write(img_data)"
   ]
  },
  {
   "cell_type": "markdown",
   "id": "e8b00a04",
   "metadata": {},
   "source": [
    "#### 현재 요청된 페이지의 image 모두 다운로드 해보기"
   ]
  },
  {
   "cell_type": "code",
   "execution_count": 71,
   "id": "b30f7bf5",
   "metadata": {},
   "outputs": [
    {
     "name": "stdout",
     "output_type": "stream",
     "text": [
      "200 True\n",
      "68\n"
     ]
    }
   ],
   "source": [
    "  "
   ]
  },
  {
   "cell_type": "markdown",
   "id": "2ac9f5f9",
   "metadata": {},
   "source": [
    "### 파일 업로드 하기\n",
    "* http://httpbin.org/post 업로드 요청을 할 수 있는 url"
   ]
  },
  {
   "cell_type": "code",
   "execution_count": null,
   "id": "04da4790",
   "metadata": {},
   "outputs": [],
   "source": []
  },
  {
   "cell_type": "markdown",
   "id": "7ad65f12",
   "metadata": {},
   "source": [
    "### 번역 Open API 이용하기\n",
    "* urllib 를 사용한 예제"
   ]
  },
  {
   "cell_type": "code",
   "execution_count": 77,
   "id": "abbb0ebf",
   "metadata": {},
   "outputs": [
    {
     "name": "stdout",
     "output_type": "stream",
     "text": [
      "{\"message\":{\"result\":{\"srcLangType\":\"en\",\"tarLangType\":\"ko\",\"translatedText\":\"어제 나의 모든 고민은 너무 멀리 있는 것 같았다.\",\"engineType\":\"N2MT\",\"pivot\":null,\"dict\":null,\"tarDict\":null},\"@type\":\"response\",\"@service\":\"naverservice.nmt.proxy\",\"@version\":\"1.0.0\"}}\n"
     ]
    }
   ],
   "source": [
    "# ZAZjlfXS4P5FW5DtE0wg\n",
    "# RNbe1ikysg\n",
    "import os\n",
    "import sys\n",
    "import urllib.request\n",
    "\n",
    "client_id = \"ZAZjlfXS4P5FW5DtE0wg\" # 개발자센터에서 발급받은 Client ID 값\n",
    "client_secret = \"RNbe1ikysg\" # 개발자센터에서 발급받은 Client Secret 값\n",
    "encText = urllib.parse.quote(\"Yesterday all my troubles seemed so far away\")\n",
    "data = \"source=en&target=ko&text=\" + encText\n",
    "url = \"https://openapi.naver.com/v1/papago/n2mt\"\n",
    "\n",
    "request = urllib.request.Request(url)\n",
    "request.add_header(\"X-Naver-Client-Id\",client_id)\n",
    "request.add_header(\"X-Naver-Client-Secret\",client_secret)\n",
    "\n",
    "response = urllib.request.urlopen(request, data=data.encode(\"utf-8\"))\n",
    "rescode = response.getcode()\n",
    "if(rescode==200):\n",
    "    response_body = response.read()\n",
    "    print(response_body.decode('utf-8'))\n",
    "else:\n",
    "    print(\"Error Code:\" + rescode)\n"
   ]
  },
  {
   "cell_type": "markdown",
   "id": "b7d984a6",
   "metadata": {},
   "source": [
    "* requests를 사용한 코드로 변경하기\n",
    "* [requests docs](https://requests.readthedocs.io/en/latest/user/quickstart/)"
   ]
  },
  {
   "cell_type": "code",
   "execution_count": null,
   "id": "727b427b",
   "metadata": {},
   "outputs": [],
   "source": []
  }
 ],
 "metadata": {
  "kernelspec": {
   "display_name": "Python 3 (ipykernel)",
   "language": "python",
   "name": "python3"
  },
  "language_info": {
   "codemirror_mode": {
    "name": "ipython",
    "version": 3
   },
   "file_extension": ".py",
   "mimetype": "text/x-python",
   "name": "python",
   "nbconvert_exporter": "python",
   "pygments_lexer": "ipython3",
   "version": "3.10.9"
  }
 },
 "nbformat": 4,
 "nbformat_minor": 5
}
