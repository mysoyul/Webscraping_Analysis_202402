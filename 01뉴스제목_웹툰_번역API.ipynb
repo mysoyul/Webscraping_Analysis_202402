{
 "cells": [
  {
   "cell_type": "markdown",
   "id": "eb0bfa44",
   "metadata": {},
   "source": [
    "## 1. 뉴스제목 가져오기\n",
    "* user-agent 요청 헤더를 반드시 설정해야 한다."
   ]
  },
  {
   "cell_type": "code",
   "execution_count": 1,
   "id": "f0d27781",
   "metadata": {},
   "outputs": [
    {
     "name": "stdout",
     "output_type": "stream",
     "text": [
      "Name: requests\n",
      "Version: 2.28.1\n",
      "Summary: Python HTTP for Humans.\n",
      "Home-page: https://requests.readthedocs.io\n",
      "Author: Kenneth Reitz\n",
      "Author-email: me@kennethreitz.org\n",
      "License: Apache 2.0\n",
      "Location: c:\\users\\vega2\\anaconda3\\lib\\site-packages\n",
      "Requires: certifi, charset-normalizer, idna, urllib3\n",
      "Required-by: anaconda-client, anaconda-project, conda, conda-build, conda-repo-cli, conda_package_streaming, cookiecutter, datashader, huggingface-hub, jupyterlab_server, panel, pooch, PyGithub, requests-file, requests-toolbelt, Sphinx, tldextract, transformers, webdriver-manager\n"
     ]
    }
   ],
   "source": [
    "!pip show requests"
   ]
  },
  {
   "cell_type": "code",
   "execution_count": 6,
   "id": "bf80a429",
   "metadata": {},
   "outputs": [],
   "source": [
    "import requests\n",
    "import bs4\n",
    "from bs4 import BeautifulSoup"
   ]
  },
  {
   "cell_type": "code",
   "execution_count": 7,
   "id": "9788d6ac",
   "metadata": {
    "scrolled": true
   },
   "outputs": [
    {
     "name": "stdout",
     "output_type": "stream",
     "text": [
      "request ver  2.28.1\n",
      "beautifulsoup  4.11.1\n"
     ]
    }
   ],
   "source": [
    "print('request ver ' , requests.__version__)\n",
    "print('beautifulsoup ', bs4.__version__)"
   ]
  },
  {
   "cell_type": "code",
   "execution_count": 38,
   "id": "94c12fd6",
   "metadata": {},
   "outputs": [
    {
     "name": "stdout",
     "output_type": "stream",
     "text": [
      "200\n",
      "44\n",
      "과기정통부 신임 차관·혁신본부장 취임…\"R&D 혁신·AI 생태계 조성\" https://n.news.naver.com/mnews/article/277/0005384529\n",
      " https://n.news.naver.com/mnews/article/comment/277/0005384529\n",
      "강도현 과기정통부 신임 2차관 \"디지털 모범 국가 정착…AI·디지털 G3 시대 원년\" https://n.news.naver.com/mnews/article/421/0007373768\n",
      " https://n.news.naver.com/mnews/article/comment/421/0007373768\n",
      "KT \"UAM 대중화 앞당긴다\"…스페인 MWC에서 신기술 공개 https://n.news.naver.com/mnews/article/055/0001133875\n",
      " https://n.news.naver.com/mnews/article/comment/055/0001133875\n",
      "과기정통부, 올해 클라우드 산업 육성에 1219억원 투입…SaaS 중점 투자 https://n.news.naver.com/mnews/article/015/0004952786\n",
      " https://n.news.naver.com/mnews/article/comment/015/0004952786\n",
      "“삼성 매장 입장, 1시간 기다렸어요” 애플 매장 썰렁한 이유 알고보니 [MWC 2024] https://n.news.naver.com/mnews/article/016/0002271615\n",
      " https://n.news.naver.com/mnews/article/comment/016/0002271615\n",
      "이경전 경희대 교수 연구팀, 세계인공지능학회 ‘혁신적 AI 응용상’ 수상 https://n.news.naver.com/mnews/article/366/0000973218\n",
      " https://n.news.naver.com/mnews/article/comment/366/0000973218\n",
      "네오위즈 '고양이와 스프: 말랑 타운' 28일까지 CBT 참가자 모집 https://n.news.naver.com/mnews/article/008/0005003787\n",
      " https://n.news.naver.com/mnews/article/comment/008/0005003787\n",
      "CJ올리브네트웍스, 지난해 영업익 510억...45.3% 증가 https://n.news.naver.com/mnews/article/018/0005680234\n",
      " https://n.news.naver.com/mnews/article/comment/018/0005680234\n",
      "마이크로바이옴 표적 항암백신…난치성 암 정복기술 뜬다 https://n.news.naver.com/mnews/article/016/0002271929\n",
      " https://n.news.naver.com/mnews/article/comment/016/0002271929\n",
      "“사망률 60% 무서운 간암”…치료제 약물내성 없앨 ‘저해제’ 나온다 https://n.news.naver.com/mnews/article/016/0002271927\n",
      " https://n.news.naver.com/mnews/article/comment/016/0002271927\n",
      "과기정통부, 올해 클라우드 산업 육성에 1219억원 투입한다 https://n.news.naver.com/mnews/article/138/0002167564\n",
      " https://n.news.naver.com/mnews/article/comment/138/0002167564\n",
      "공정위, 게임 표준약관 개정… 아이템 확률 공개‧환불 전담 창구 운영 https://n.news.naver.com/mnews/article/138/0002167563\n",
      " https://n.news.naver.com/mnews/article/comment/138/0002167563\n",
      "테슬라 로봇, 인간처럼 걷는다… ‘옵티머스’ 진화 버전 공개 https://n.news.naver.com/mnews/article/021/0002623323\n",
      " https://n.news.naver.com/mnews/article/comment/021/0002623323\n",
      "갤럭시S24 年 3600만대 판매 전망… ‘역대 최고’ 기대 https://n.news.naver.com/mnews/article/021/0002623322\n",
      " https://n.news.naver.com/mnews/article/comment/021/0002623322\n",
      "샤오미도 AI폰… 갤럭시S24에 도전장 https://n.news.naver.com/mnews/article/021/0002623321\n",
      " https://n.news.naver.com/mnews/article/comment/021/0002623321\n",
      "반도체 초격차 위해 민⋅관 머리 맞댔다…산업부, '기업인들과 간담회' 개최 https://n.news.naver.com/mnews/article/138/0002167560\n",
      " https://n.news.naver.com/mnews/article/comment/138/0002167560\n",
      "유튜브, 4월부터 장기 구독자에 인상가 적용…네티즌 “디지털 망명” https://n.news.naver.com/mnews/article/022/0003907850\n",
      " https://n.news.naver.com/mnews/article/comment/022/0003907850\n",
      "군사시설 방불케 하는 오픈AI 베일속 숨은 권력자로 변하다 https://n.news.naver.com/mnews/article/016/0002271898\n",
      " https://n.news.naver.com/mnews/article/comment/016/0002271898\n",
      "[MWC24] 요리사 로봇이 OLED 기술 소개…혁신 내세운 삼성디스플레이 부스 https://n.news.naver.com/mnews/article/138/0002167556\n",
      " https://n.news.naver.com/mnews/article/comment/138/0002167556\n",
      "한달도 채 안남은 확률형아이템 정보공개...게임업계 고민 심화 https://n.news.naver.com/mnews/article/092/0002322541\n",
      " https://n.news.naver.com/mnews/article/comment/092/0002322541\n",
      "화웨이서 분사한 아너…'눈'으로 車 제어하는 기술 내놨다 https://n.news.naver.com/mnews/article/015/0004952770\n",
      " https://n.news.naver.com/mnews/article/comment/015/0004952770\n",
      "유튜브, '유목민' 단속한다… “6개월마다 국가 인증” https://n.news.naver.com/mnews/article/030/0003183864\n",
      " https://n.news.naver.com/mnews/article/comment/030/0003183864\n",
      "美하원, 머스크에 “대만서 미군 위성 인터넷 사용 허가하라” https://n.news.naver.com/mnews/article/023/0003818807\n",
      " https://n.news.naver.com/mnews/article/comment/023/0003818807\n",
      "신세계 정용진, '인재 경영'…신입 면접부터 교육까지 꼼꼼히 챙겨 https://n.news.naver.com/mnews/article/092/0002322540\n",
      " https://n.news.naver.com/mnews/article/comment/092/0002322540\n",
      "삼성전자 ‘링’ 공개...5000명 몰린 현장 열기 https://n.news.naver.com/mnews/article/016/0002271860\n",
      " https://n.news.naver.com/mnews/article/comment/016/0002271860\n",
      "“손에 잡히는 AI” 실생활 파고든 신기술 향연 https://n.news.naver.com/mnews/article/016/0002271858\n",
      " https://n.news.naver.com/mnews/article/comment/016/0002271858\n",
      "\"비전프로, 부품원가 200만원 넘어…마이크로 OLED가 가장 비싸\" https://n.news.naver.com/mnews/article/092/0002322537\n",
      " https://n.news.naver.com/mnews/article/comment/092/0002322537\n",
      "\"스마트폰 빈자리 'XR 헤드셋으로 메운다\"…LG전자, 메타와 'XR 동맹' 초읽기 https://n.news.naver.com/mnews/article/629/0000269577\n",
      " https://n.news.naver.com/mnews/article/comment/629/0000269577\n",
      "김정회 반도체산업협회 부회장 \"美 보조금 받는데 정부 역할 중요해\" https://n.news.naver.com/mnews/article/092/0002322536\n",
      " https://n.news.naver.com/mnews/article/comment/092/0002322536\n",
      "“진짜 사람같네?” 머스크, 부드럽게 걷는 로봇 영상 공개…이틀새 7600만 재생 https://n.news.naver.com/mnews/article/023/0003818803\n",
      " https://n.news.naver.com/mnews/article/comment/023/0003818803\n",
      "\"AI·로봇과 만난 OLED\"…삼성D, MWC2024서 공개 전시 https://n.news.naver.com/mnews/article/092/0002322535\n",
      " https://n.news.naver.com/mnews/article/comment/092/0002322535\n",
      "구글 또 소송 당해…이번엔 '픽셀6 프로' 과열 문제 https://n.news.naver.com/mnews/article/092/0002322533\n",
      " https://n.news.naver.com/mnews/article/comment/092/0002322533\n",
      "머스크가 올린 영상 뭐길래…\"진짜 가정부 로봇 나오겠네\" 흥분 https://n.news.naver.com/mnews/article/015/0004952760\n",
      " https://n.news.naver.com/mnews/article/comment/015/0004952760\n",
      "“AI와 의료 결합해 암 정복할 것” https://n.news.naver.com/mnews/article/016/0002271823\n",
      " https://n.news.naver.com/mnews/article/comment/016/0002271823\n",
      "전 세계 돈 다 끌어모으는 ‘창고’의 비밀 https://n.news.naver.com/mnews/article/016/0002271822\n",
      " https://n.news.naver.com/mnews/article/comment/016/0002271822\n",
      "[속보] 정부 “전공의 집단행동, 3월부터 수사 기소 사법처리 불가피” https://n.news.naver.com/mnews/article/366/0000973184\n",
      " https://n.news.naver.com/mnews/article/comment/366/0000973184\n",
      "'리니지W 표절' 논란 '롬' 출시 일정대로...오늘 사전 다운로드 https://n.news.naver.com/mnews/article/008/0005003831\n",
      " https://n.news.naver.com/mnews/article/comment/008/0005003831\n",
      "[속보] 정부 “전공의 1만34명 사직서 제출,  9006명 근무지 이탈” https://n.news.naver.com/mnews/article/366/0000973182\n",
      " https://n.news.naver.com/mnews/article/comment/366/0000973182\n",
      "'소통' 특명 받은 과기부 차관들 \"만남 늘리겠다\" 한목소리 https://n.news.naver.com/mnews/article/001/0014527185\n",
      " https://n.news.naver.com/mnews/article/comment/001/0014527185\n",
      "삼성전자, 에너지 절약 강화된 '24년형 비스포크 무풍에어컨' 출시 https://n.news.naver.com/mnews/article/092/0002322526\n",
      " https://n.news.naver.com/mnews/article/comment/092/0002322526\n",
      "전공의 사직 일주일째…전임의·인턴 이탈 조짐에 병원 운영 비상사태 우려 https://n.news.naver.com/mnews/article/029/0002857440\n",
      " https://n.news.naver.com/mnews/article/comment/029/0002857440\n",
      "과기정통부 신임 차관들 \"R&D 예산 분명 증액될 것\"(종합) https://n.news.naver.com/mnews/article/003/0012392415\n",
      " https://n.news.naver.com/mnews/article/comment/003/0012392415\n",
      "中 전문가 \"중국 AI 기술, 1~2년 뒤 미국 능가할 것\" https://n.news.naver.com/mnews/article/092/0002322520\n",
      " https://n.news.naver.com/mnews/article/comment/092/0002322520\n",
      "[MWC현장]\"실사구시형 AI가 뜬다\"…3대 관전포인트는? https://n.news.naver.com/mnews/article/277/0005384514\n",
      " https://n.news.naver.com/mnews/article/comment/277/0005384514\n"
     ]
    }
   ],
   "source": [
    "# IT/과학 뉴스\n",
    "req_param = {\n",
    "    'sid': 105\n",
    "}\n",
    "url = 'https://news.naver.com/section/{sid}'.format(**req_param)\n",
    "# 요청 헤더 설정 : 브라우저 정보\n",
    "req_header = {\n",
    "    'user-agent': 'Mozilla/5.0 (Windows NT 10.0; Win64; x64) AppleWebKit/537.36 (KHTML, like Gecko) Chrome/104.0.0.0 Safari/537.36'\n",
    "}\n",
    "res = requests.get(url, headers=req_header)\n",
    "print(res.status_code)\n",
    "# print('요청 header', res.request.headers)\n",
    "# print('응답 header', res.headers)\n",
    "if res.ok:\n",
    "    html = res.text # 소스보기 텍스트\n",
    "    soup = BeautifulSoup(html, 'html.parser')\n",
    "    '''\n",
    "        <div class=\"sa_text\"> div.sa_text\n",
    "    '''\n",
    "    print(len(soup.select(\"div.sa_text a[href*='n.news.naver.com/mnews/article']\")))\n",
    "    a_tag_list = soup.select(\"div.sa_text a[href*='n.news.naver.com/mnews/article']\")\n",
    "    for a_tag in a_tag_list:\n",
    "        title = a_tag.text.strip()\n",
    "        link = a_tag['href']\n",
    "        print(title, link)"
   ]
  },
  {
   "cell_type": "code",
   "execution_count": 32,
   "id": "6a4d1733",
   "metadata": {},
   "outputs": [],
   "source": [
    "import requests\n",
    "from bs4 import BeautifulSoup\n",
    "\n",
    "def print_news(sid, section):    \n",
    "    # 요청 Parameter\n",
    "    req_param = {\n",
    "    'sid': sid\n",
    "    }\n",
    "    url = 'https://news.naver.com/section/{sid}'.format(**req_param)\n",
    "    \n",
    "    print(f'======> {url} {section} 뉴스 <======')\n",
    "    \n",
    "    # 요청 헤더 설정 : 브라우저 정보\n",
    "    req_header = {\n",
    "        'user-agent': 'Mozilla/5.0 (Windows NT 10.0; Win64; x64) AppleWebKit/537.36 (KHTML, like Gecko) Chrome/104.0.0.0 Safari/537.36'\n",
    "    }\n",
    "    res = requests.get(url, headers=req_header)\n",
    "    print(res.status_code)\n",
    "    print(res.ok)\n",
    "    if res.ok:\n",
    "        html = res.text #소스보기 텍스트 추출\n",
    "        soup = BeautifulSoup(html, 'html.parser')\n",
    "        print(len(soup.select(\"div.sa_text a[href*='n.news.naver.com/mnews/article']\")))\n",
    "        a_tags = soup.select(\"div.sa_text a[href*='n.news.naver.com/mnews/article']\")\n",
    "        for a_tag in a_tags:\n",
    "            #print(a_tag)\n",
    "            title = a_tag.text.strip()\n",
    "            link = a_tag['href']\n",
    "            print(title, link)"
   ]
  },
  {
   "cell_type": "code",
   "execution_count": 35,
   "id": "bcf077cd",
   "metadata": {},
   "outputs": [
    {
     "name": "stdout",
     "output_type": "stream",
     "text": [
      "======> https://news.naver.com/section/104 세계 뉴스 <======\n",
      "200\n",
      "True\n",
      "90\n",
      "나발니 시신, 사망 9일 만에 모친에게 인계돼…장례식은 아직 https://n.news.naver.com/mnews/article/421/0007372206\n",
      " https://n.news.naver.com/mnews/article/comment/421/0007372206\n",
      "트럼프, 가족 이름 거명하면서 차남 부부는 '깜빡' https://n.news.naver.com/mnews/article/015/0004952739\n",
      " https://n.news.naver.com/mnews/article/comment/015/0004952739\n",
      "北 여자축구 대표팀 일본 입국...北 선수, 5년 만에 방문 https://n.news.naver.com/mnews/article/052/0002002657\n",
      " https://n.news.naver.com/mnews/article/comment/052/0002002657\n",
      "우크라 “전쟁 2년간 군인 3만1000명 전사”…첫 공식 발표 https://n.news.naver.com/mnews/article/020/0003549990\n",
      " https://n.news.naver.com/mnews/article/comment/020/0003549990\n",
      "한때 중국 최고 부자…와하하그룹 쭝칭허우 회장 별세 https://n.news.naver.com/mnews/article/021/0002623211\n",
      " https://n.news.naver.com/mnews/article/comment/021/0002623211\n",
      "TSMC·소니·도요타 회장 총집결…“일본 반도체 르네상스” https://n.news.naver.com/mnews/article/025/0003343494\n",
      " https://n.news.naver.com/mnews/article/comment/025/0003343494\n",
      "가자협상 카타르서 후속 회동‥이스라엘 대표단 파견 https://n.news.naver.com/mnews/article/214/0001332782\n",
      " https://n.news.naver.com/mnews/article/comment/214/0001332782\n",
      "대만 국민당 부주석 방중‥양안 대화 물꼬 주목 https://n.news.naver.com/mnews/article/214/0001332812\n",
      " https://n.news.naver.com/mnews/article/comment/214/0001332812\n",
      "日, 기업에 남성 육아휴직 사용률 목표 설정 의무화 추진 https://n.news.naver.com/mnews/article/011/0004304659\n",
      " https://n.news.naver.com/mnews/article/comment/011/0004304659\n",
      "러 8만 3000명 vs 우크라 3만 1000명 사망…2년간 최악 소모전 [핫이슈] https://n.news.naver.com/mnews/article/081/0003432905\n",
      " https://n.news.naver.com/mnews/article/comment/081/0003432905\n",
      "[친절한 뉴스K] 3년째 접어든 러시아·우크라 전쟁…올해 있을 변화는? https://n.news.naver.com/mnews/article/056/0011669298\n",
      " https://n.news.naver.com/mnews/article/comment/056/0011669298\n",
      "잠재력 큰 '추론용' AI 반도체 시장…엔비디아 따라잡을 차세대 강자는? https://n.news.naver.com/mnews/article/374/0000371963\n",
      " https://n.news.naver.com/mnews/article/comment/374/0000371963\n",
      "‘맥주의 나라’ 독일, 30년 만에 맥주 소비 최저…왜? https://n.news.naver.com/mnews/article/056/0011669293\n",
      " https://n.news.naver.com/mnews/article/comment/056/0011669293\n",
      "[자막뉴스] 이민자 급증한 캐나다, 돌연...한인들 사이 퍼지는 불안감 https://n.news.naver.com/mnews/article/052/0002002731\n",
      " https://n.news.naver.com/mnews/article/comment/052/0002002731\n",
      "트렌드포스 \"일본 진출 TSMC 올해 파운드리 점유율 62%…삼성은 하락\" https://n.news.naver.com/mnews/article/374/0000371955\n",
      " https://n.news.naver.com/mnews/article/comment/374/0000371955\n",
      "유통량 최대인 미국 100달러 지폐, 쓰기는 가장 어려워 https://n.news.naver.com/mnews/article/055/0001133927\n",
      " https://n.news.naver.com/mnews/article/comment/055/0001133927\n",
      "\"표적도 확인해준다…CIA, 우크라 군사작전 깊숙이 개입·지원\" https://n.news.naver.com/mnews/article/001/0014527389\n",
      " https://n.news.naver.com/mnews/article/comment/001/0014527389\n",
      "“일본 라멘, 한국인은 2배 내라”?…日, ‘이중가격제’ 도입 논란 https://n.news.naver.com/mnews/article/016/0002271918\n",
      " https://n.news.naver.com/mnews/article/comment/016/0002271918\n",
      "이상고온에 공급 과잉…천연가스 30년 최저 수준 ‘뚝’ https://n.news.naver.com/mnews/article/011/0004304715\n",
      " https://n.news.naver.com/mnews/article/comment/011/0004304715\n",
      "휴전 재개 눈앞… 이 ‘라파 공격’은 변수 https://n.news.naver.com/mnews/article/021/0002623312\n",
      " https://n.news.naver.com/mnews/article/comment/021/0002623312\n",
      "북한, 관광객 받으면서 국제구호단체는 여전히 차단 https://n.news.naver.com/mnews/article/001/0014527376\n",
      " https://n.news.naver.com/mnews/article/comment/001/0014527376\n",
      "우크라 “러 침공 2년간 3만1천명 전사” 첫 공식 발표 https://n.news.naver.com/mnews/article/028/0002678389\n",
      " https://n.news.naver.com/mnews/article/comment/028/0002678389\n",
      "美안보보좌관 \"가자 휴전·인질석방 윤곽 합의\"(종합)[이-팔 전쟁] https://n.news.naver.com/mnews/article/003/0012392590\n",
      " https://n.news.naver.com/mnews/article/comment/003/0012392590\n",
      "푸틴 침략의지 여전…러, 최신 점령지 주민에도 '강제 시민권' https://n.news.naver.com/mnews/article/001/0014527306\n",
      " https://n.news.naver.com/mnews/article/comment/001/0014527306\n",
      "지지율 바닥친 日기시다 왜 교체 안될까?…\"더 낮은 野지지율 등 때문\" https://n.news.naver.com/mnews/article/003/0012392587\n",
      " https://n.news.naver.com/mnews/article/comment/003/0012392587\n",
      "\"포르쉐보다 빨라\"…3억원 넘는 中 '전기 슈퍼카' 나왔다 https://n.news.naver.com/mnews/article/015/0004952767\n",
      " https://n.news.naver.com/mnews/article/comment/015/0004952767\n",
      "셧다운에 우크라 지원까지...초조한 바이든, 여야 대표 소집 https://n.news.naver.com/mnews/article/014/0005147395\n",
      " https://n.news.naver.com/mnews/article/comment/014/0005147395\n",
      "휴전협상 큰 틀 합의됐다는데…못마땅한 네타냐후, 재뿌리나 https://n.news.naver.com/mnews/article/001/0014527250\n",
      " https://n.news.naver.com/mnews/article/comment/001/0014527250\n",
      "후티 공격에 홍해 환경재앙 위기…침몰위기 배에 화학비료 가득 https://n.news.naver.com/mnews/article/056/0011669252\n",
      " https://n.news.naver.com/mnews/article/comment/056/0011669252\n",
      "우크라 '한달이 고비'…젤렌스키 \"영토 계속 더 잃는다\" 공포 https://n.news.naver.com/mnews/article/001/0014527234\n",
      " https://n.news.naver.com/mnews/article/comment/001/0014527234\n",
      "세계 집값 하락세 진정 후 반등 조짐…\"침체 전환기 맞아\" https://n.news.naver.com/mnews/article/374/0000371933\n",
      " https://n.news.naver.com/mnews/article/comment/374/0000371933\n",
      "또 웃은 트럼프…美공화 경선 5연승, 본선행 '쐐기' https://n.news.naver.com/mnews/article/586/0000073477\n",
      " https://n.news.naver.com/mnews/article/comment/586/0000073477\n",
      "\"러시아의 우크라이나 침공, 남의 일 아냐...한반도도 위협\" [Y녹취록] https://n.news.naver.com/mnews/article/052/0002002700\n",
      " https://n.news.naver.com/mnews/article/comment/052/0002002700\n",
      "한때 중국부자 1위 와하하 쭝칭허우 사망…‘개혁개방 1세대’ 사업가 https://n.news.naver.com/mnews/article/028/0002678383\n",
      " https://n.news.naver.com/mnews/article/comment/028/0002678383\n",
      "‘배당 연금’ 노려볼까…월가 최고 애널리스트들이 꼽은 배당주는? https://n.news.naver.com/mnews/article/016/0002271827\n",
      " https://n.news.naver.com/mnews/article/comment/016/0002271827\n",
      "휴머노이드 경쟁 나선 빅테크…테슬라도 ‘옵티머스’ 추가 영상 공개 https://n.news.naver.com/mnews/article/011/0004304687\n",
      " https://n.news.naver.com/mnews/article/comment/011/0004304687\n",
      "“한국·대만인에 라멘값·신칸센값 더 받자”…日 ‘이중가격제’ 논의 https://n.news.naver.com/mnews/article/023/0003818798\n",
      " https://n.news.naver.com/mnews/article/comment/023/0003818798\n",
      "고향서도 트럼프에게 밀린 헤일리…사퇴 안 하는 이유[세모금] https://n.news.naver.com/mnews/article/016/0002271820\n",
      " https://n.news.naver.com/mnews/article/comment/016/0002271820\n",
      "자수성가 기업인 별세, 후계자는?…“나보다 낫다” 칭찬받던 외동딸 유력 https://n.news.naver.com/mnews/article/009/0005263663\n",
      " https://n.news.naver.com/mnews/article/comment/009/0005263663\n",
      "젤렌스키 “2년 전쟁에서 군인 3만1000명 전사...새로운 반격 준비 중” https://n.news.naver.com/mnews/article/025/0003343622\n",
      " https://n.news.naver.com/mnews/article/comment/025/0003343622\n",
      "가자 휴전협상 카타르서 후속 회동…이스라엘 대표단 파견 https://n.news.naver.com/mnews/article/055/0001133889\n",
      " https://n.news.naver.com/mnews/article/comment/055/0001133889\n",
      "LNG 강국 카타르, 美 공백 틈타 수출 1위 노린다 https://n.news.naver.com/mnews/article/016/0002271784\n",
      " https://n.news.naver.com/mnews/article/comment/016/0002271784\n",
      "국민당 부주석, 양안 신경전 가운데 전격 중국 방문 https://n.news.naver.com/mnews/article/014/0005147343\n",
      " https://n.news.naver.com/mnews/article/comment/014/0005147343\n",
      "미국 \"이스라엘 · 하마스 인질 석방 · 휴전 협상 기본 윤곽 합의\" https://n.news.naver.com/mnews/article/055/0001133886\n",
      " https://n.news.naver.com/mnews/article/comment/055/0001133886\n",
      "美 지난 4분기 EV판매량 40%↑…\"전기차 시장 붕괴는 잘못된 평가\" https://n.news.naver.com/mnews/article/123/0002328250\n",
      " https://n.news.naver.com/mnews/article/comment/123/0002328250\n"
     ]
    }
   ],
   "source": [
    "section_dict = {100:'정치',101:'경제',102:'사회',103:'생활/문화',104:'세계',105:'IT/과학'}\n",
    "#print(section_dict[104])\n",
    "print_news(104, section_dict[104])"
   ]
  },
  {
   "cell_type": "markdown",
   "id": "323196dc",
   "metadata": {},
   "source": [
    "### 2. Image 다운로드\n",
    "* referer 요청 헤더를 반드시 설정해야 한다."
   ]
  },
  {
   "cell_type": "code",
   "execution_count": 39,
   "id": "e39dce7a",
   "metadata": {},
   "outputs": [],
   "source": [
    "import requests\n",
    "import os"
   ]
  },
  {
   "cell_type": "code",
   "execution_count": 45,
   "id": "c72d6cb1",
   "metadata": {},
   "outputs": [
    {
     "name": "stdout",
     "output_type": "stream",
     "text": [
      "20220804112251_d97bd1e1b38f0cd022e4e3639d2926b3_IMAG01_1.jpg\n",
      " writing to 20220804112251_d97bd1e1b38f0cd022e4e3639d2926b3_IMAG01_1.jpg(299,319 bytes)\n",
      "20220804112251_d97bd1e1b38f0cd022e4e3639d2926b3_IMAG01_2.jpg\n",
      " writing to 20220804112251_d97bd1e1b38f0cd022e4e3639d2926b3_IMAG01_2.jpg(163,333 bytes)\n",
      "20220804112251_d97bd1e1b38f0cd022e4e3639d2926b3_IMAG01_3.jpg\n",
      " writing to 20220804112251_d97bd1e1b38f0cd022e4e3639d2926b3_IMAG01_3.jpg(182,530 bytes)\n"
     ]
    }
   ],
   "source": [
    "req_header = {\n",
    "    'referer':'https://comic.naver.com/webtoon/detail?titleId=798173&no=5&amp;weekday=thu'\n",
    "}\n",
    "img_urls = [\n",
    "    'https://image-comic.pstatic.net/webtoon/798173/5/20220804112251_d97bd1e1b38f0cd022e4e3639d2926b3_IMAG01_1.jpg',\n",
    "    'https://image-comic.pstatic.net/webtoon/798173/5/20220804112251_d97bd1e1b38f0cd022e4e3639d2926b3_IMAG01_2.jpg',\n",
    "    'https://image-comic.pstatic.net/webtoon/798173/5/20220804112251_d97bd1e1b38f0cd022e4e3639d2926b3_IMAG01_3.jpg'\n",
    "]\n",
    "for img_url in img_urls:\n",
    "    res = requests.get(img_url, headers=req_header)\n",
    "    if res.ok:\n",
    "        img_data = res.content\n",
    "        #print(img_data)\n",
    "        file_name = os.path.basename(img_url)\n",
    "        print(file_name)\n",
    "        # binary data를 file로 저장하기\n",
    "        with open(file_name, 'wb') as file:\n",
    "            print(f' writing to {file_name}({len(img_data):,} bytes)')\n",
    "            file.write(img_data)\n",
    "    else:\n",
    "        print(res.status_code)"
   ]
  },
  {
   "cell_type": "markdown",
   "id": "e8b00a04",
   "metadata": {},
   "source": [
    "#### 현재 요청된 페이지의 image 모두 다운로드 해보기"
   ]
  },
  {
   "cell_type": "code",
   "execution_count": 46,
   "id": "b1fbc1cc",
   "metadata": {},
   "outputs": [
    {
     "name": "stdout",
     "output_type": "stream",
     "text": [
      "18\n"
     ]
    }
   ],
   "source": [
    "import requests\n",
    "import os\n",
    "\n",
    "url = 'https://comic.naver.com/webtoon/detail?titleId=817945&no=37&week=mon'\n",
    "req_header = {\n",
    "    'referer': url\n",
    "}\n",
    "res = requests.get(url)\n",
    "if res.ok: #200\n",
    "    soup = BeautifulSoup(res.text, 'html.parser')\n",
    "    print(len(soup.select(\"img[src*='IMAG01']\")))\n",
    "    img_tags = soup.select(\"img[src*='IMAG01']\")\n",
    "    \n",
    "    img_url_list = []\n",
    "    for img_tag in img_tags:\n",
    "        img_url_list.append(img_tag['src'])\n",
    "    #print(img_url_list)    \n",
    "    \n",
    "    # img 디렉토리가 없다면 생성\n",
    "    if not os.path.isdir('img'):\n",
    "        os.mkdir('img')\n",
    "        \n",
    "    for img_url in img_url_list:\n",
    "        res = requests.get(img_url, headers=req_header)\n",
    "        if res.ok:\n",
    "            img_data = res.content\n",
    "            file_name = os.path.basename(img_url)\n",
    "            # binary data를 file로 저장하기\n",
    "            dir_name = os.path.join('img',file_name)\n",
    "            with open(dir_name, 'wb') as file:\n",
    "                #print(f' writing to {file_name}({len(img_data):,} bytes)')\n",
    "                file.write(img_data)\n",
    "        else:\n",
    "            print(res.status_code)   \n",
    "else:\n",
    "    print(res.status_code)"
   ]
  },
  {
   "cell_type": "markdown",
   "id": "2ac9f5f9",
   "metadata": {},
   "source": [
    "### 파일 업로드 하기\n",
    "* http://httpbin.org/post 업로드 요청을 할 수 있는 url"
   ]
  },
  {
   "cell_type": "code",
   "execution_count": 51,
   "id": "04da4790",
   "metadata": {},
   "outputs": [],
   "source": [
    "import requests\n",
    "\n",
    "upload_files = {\n",
    "  'img1': open('f1.jpg','rb'),\n",
    "  'img2': open('f2.jpg','rb')  \n",
    "}\n",
    "url = 'http://httpbin.org/post'\n",
    "res = requests.post(url, files=upload_files)\n",
    "#print(res.status_code)\n",
    "#print(res.json()['files']['img1'])"
   ]
  },
  {
   "cell_type": "markdown",
   "id": "7ad65f12",
   "metadata": {},
   "source": [
    "### 번역 Open API 이용하기\n",
    "* urllib 를 사용한 예제"
   ]
  },
  {
   "cell_type": "code",
   "execution_count": 54,
   "id": "abbb0ebf",
   "metadata": {},
   "outputs": [
    {
     "name": "stdout",
     "output_type": "stream",
     "text": [
      "{\"message\":{\"@type\":\"response\",\"@service\":\"naverservice.nmt.proxy\",\"@version\":\"1.0.0\",\"result\":{\"srcLangType\":\"en\",\"tarLangType\":\"ko\",\"translatedText\":\"어제 나의 모든 고민은 너무 멀리있는것 같았다\",\"engineType\":\"N2MT\"}}}\n"
     ]
    }
   ],
   "source": [
    "# ZAZjlfXS4P5FW5DtE0wg\n",
    "# RNbe1ikysg\n",
    "import os\n",
    "import sys\n",
    "import urllib.request\n",
    "\n",
    "client_id = \"0hGIfoRxuXyDlDiR_bj9\" # 개발자센터에서 발급받은 Client ID 값\n",
    "client_secret = \"r_7a2J7D8G\" # 개발자센터에서 발급받은 Client Secret 값\n",
    "encText = urllib.parse.quote(\"Yesterday all my troubles seemed so far away\")\n",
    "data = \"source=en&target=ko&text=\" + encText\n",
    "url = \"https://openapi.naver.com/v1/papago/n2mt\"\n",
    "\n",
    "request = urllib.request.Request(url)\n",
    "request.add_header(\"X-Naver-Client-Id\",client_id)\n",
    "request.add_header(\"X-Naver-Client-Secret\",client_secret)\n",
    "\n",
    "response = urllib.request.urlopen(request, data=data.encode(\"utf-8\"))\n",
    "rescode = response.getcode()\n",
    "if(rescode==200):\n",
    "    response_body = response.read()\n",
    "    print(response_body.decode('utf-8'))\n",
    "else:\n",
    "    print(\"Error Code:\" + rescode)\n"
   ]
  },
  {
   "cell_type": "markdown",
   "id": "b7d984a6",
   "metadata": {},
   "source": [
    "### requests를 사용한 코드로 변경하기\n",
    "* [requests docs](https://requests.readthedocs.io/en/latest/user/quickstart/)\n",
    "* [Prepared Requests](https://requests.readthedocs.io/en/latest/user/advanced/#prepared-requests)"
   ]
  },
  {
   "cell_type": "code",
   "execution_count": null,
   "id": "727b427b",
   "metadata": {},
   "outputs": [],
   "source": [
    "from requests import Request, Session\n",
    "\n",
    "client_id = \"tCYiapKxMukSDtK7RsD_\" # 개발자센터에서 발급받은 Client ID 값\n",
    "client_secret = \"Ch_PDG7SUv\" # 개발자센터에서 발급받은 Client Secret 값\n",
    "trans_text = \"Yesterday all my troubles seemed so far away\"\n",
    "req_param = {\n",
    "    \"source\":\"en\",\n",
    "    \"target\":\"ko\",\n",
    "    \"text\":trans_text\n",
    "}\n",
    "req_header={\n",
    "    \"X-Naver-Client-Id\":client_id,\n",
    "    \"X-Naver-Client-Secret\":client_secret\n",
    "}\n",
    "url = \"https://openapi.naver.com/v1/papago/n2mt\"\n",
    "\n",
    "#Session객체생성\n",
    "session = Session()\n",
    "req = Request('POST', url, data=req_param, headers=req_header)\n",
    "prepped = req.prepare()\n",
    "res = session.send(prepped)\n",
    "print(res.status_code)\n",
    "if (res.ok):\n",
    "    print(type(res.text))\n",
    "    print(type(res.json()))\n",
    "    print(res.json())\n",
    "    result_text = res.json()['message']['result']['translatedText']\n",
    "    print(result_text)"
   ]
  }
 ],
 "metadata": {
  "kernelspec": {
   "display_name": "Python 3 (ipykernel)",
   "language": "python",
   "name": "python3"
  },
  "language_info": {
   "codemirror_mode": {
    "name": "ipython",
    "version": 3
   },
   "file_extension": ".py",
   "mimetype": "text/x-python",
   "name": "python",
   "nbconvert_exporter": "python",
   "pygments_lexer": "ipython3",
   "version": "3.10.9"
  }
 },
 "nbformat": 4,
 "nbformat_minor": 5
}
