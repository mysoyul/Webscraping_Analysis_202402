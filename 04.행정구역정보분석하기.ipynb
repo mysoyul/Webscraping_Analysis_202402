{
 "cells": [
  {
   "cell_type": "markdown",
   "id": "58832429",
   "metadata": {},
   "source": [
    "### 행정구역 정보 분석하기\n",
    "1. read_csv() 함수로 csv file을 읽어서 pandas의 DataFrame 객체로 생성하기\n",
    "2. Data Selection : loc[] / iloc[] 를 사용해서 특정 Row와 Column 선택하기\n",
    "3. 컬럼명 변경하기\n",
    "4. DataFrame 객체를 Excel file로 저장하기\n",
    "5. Data Grouping : groupby() 함수를 사용해서 긒"
   ]
  }
 ],
 "metadata": {
  "kernelspec": {
   "display_name": "Python 3 (ipykernel)",
   "language": "python",
   "name": "python3"
  },
  "language_info": {
   "codemirror_mode": {
    "name": "ipython",
    "version": 3
   },
   "file_extension": ".py",
   "mimetype": "text/x-python",
   "name": "python",
   "nbconvert_exporter": "python",
   "pygments_lexer": "ipython3",
   "version": "3.10.9"
  }
 },
 "nbformat": 4,
 "nbformat_minor": 5
}
