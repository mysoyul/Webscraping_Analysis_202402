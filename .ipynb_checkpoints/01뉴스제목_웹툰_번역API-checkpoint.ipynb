{
 "cells": [
  {
   "cell_type": "markdown",
   "id": "eb0bfa44",
   "metadata": {},
   "source": [
    "## 1. 뉴스제목 가져오기\n",
    "* user-agent 요청 헤더를 반드시 설정해야 한다."
   ]
  },
  {
   "cell_type": "code",
   "execution_count": 1,
   "id": "f0d27781",
   "metadata": {},
   "outputs": [
    {
     "name": "stdout",
     "output_type": "stream",
     "text": [
      "Name: requests\n",
      "Version: 2.28.1\n",
      "Summary: Python HTTP for Humans.\n",
      "Home-page: https://requests.readthedocs.io\n",
      "Author: Kenneth Reitz\n",
      "Author-email: me@kennethreitz.org\n",
      "License: Apache 2.0\n",
      "Location: c:\\users\\vega2\\anaconda3\\lib\\site-packages\n",
      "Requires: certifi, charset-normalizer, idna, urllib3\n",
      "Required-by: anaconda-client, anaconda-project, conda, conda-build, conda-repo-cli, conda_package_streaming, cookiecutter, datashader, huggingface-hub, jupyterlab_server, panel, pooch, PyGithub, requests-file, requests-toolbelt, Sphinx, tldextract, transformers, webdriver-manager\n"
     ]
    }
   ],
   "source": [
    "!pip show requests"
   ]
  },
  {
   "cell_type": "code",
   "execution_count": 6,
   "id": "bf80a429",
   "metadata": {},
   "outputs": [],
   "source": [
    "import requests\n",
    "import bs4\n",
    "from bs4 import BeautifulSoup"
   ]
  },
  {
   "cell_type": "code",
   "execution_count": 7,
   "id": "9788d6ac",
   "metadata": {
    "scrolled": true
   },
   "outputs": [
    {
     "name": "stdout",
     "output_type": "stream",
     "text": [
      "request ver  2.28.1\n",
      "beautifulsoup  4.11.1\n"
     ]
    }
   ],
   "source": [
    "print('request ver ' , requests.__version__)\n",
    "print('beautifulsoup ', bs4.__version__)"
   ]
  },
  {
   "cell_type": "code",
   "execution_count": 28,
   "id": "94c12fd6",
   "metadata": {},
   "outputs": [
    {
     "name": "stdout",
     "output_type": "stream",
     "text": [
      "200\n",
      "88\n",
      "'쌤과 함께' 위기의 홍해, ‘이-팔 전쟁’의 마침표는 언제쯤? https://n.news.naver.com/mnews/article/016/0002271447\n",
      " https://n.news.naver.com/mnews/article/comment/016/0002271447\n",
      "'헤일리 텃밭'에서 압승한 트럼프…부족한 정치자금 어쩌나 https://n.news.naver.com/mnews/article/018/0005680141\n",
      " https://n.news.naver.com/mnews/article/comment/018/0005680141\n",
      "젤렌스키, 러 침공 이후 자국 병사 3만1000명 사망 https://n.news.naver.com/mnews/article/014/0005147301\n",
      " https://n.news.naver.com/mnews/article/comment/014/0005147301\n",
      "美 “4개국, 이스라엘·하마스 휴전·인질 석방 협상 기본 윤곽 합의” https://n.news.naver.com/mnews/article/016/0002271598\n",
      " https://n.news.naver.com/mnews/article/comment/016/0002271598\n",
      "'테슬라 대항마'였는데…리비안, 전기차 한파에 주가 12% '뚝' https://n.news.naver.com/mnews/article/015/0004952641\n",
      " https://n.news.naver.com/mnews/article/comment/015/0004952641\n",
      "한때 中 최고부자 와하하 회장 별세…외동딸 경영 승계 전망 https://n.news.naver.com/mnews/article/001/0014527095\n",
      " https://n.news.naver.com/mnews/article/comment/001/0014527095\n",
      "사람처럼 커피 타는 로봇... 빅테크들, 7억 달러 투자했다 https://n.news.naver.com/mnews/article/023/0003818736\n",
      " https://n.news.naver.com/mnews/article/comment/023/0003818736\n",
      "中, '어민 사망' 대만 진먼 수역에 해경선 투입…\"순찰 강화\" https://n.news.naver.com/mnews/article/001/0014526396\n",
      " https://n.news.naver.com/mnews/article/comment/001/0014526396\n",
      "\"포르쉐보다 빨라\"…3억원 넘는 中 '전기 슈퍼카' 나왔다 https://n.news.naver.com/mnews/article/015/0004952767\n",
      " https://n.news.naver.com/mnews/article/comment/015/0004952767\n",
      "휴전협상 큰 틀 합의됐다는데…못마땅한 네타냐후, 재뿌리나 https://n.news.naver.com/mnews/article/001/0014527250\n",
      " https://n.news.naver.com/mnews/article/comment/001/0014527250\n",
      "후티 공격에 홍해 환경재앙 위기…침몰위기 배에 화학비료 가득 https://n.news.naver.com/mnews/article/056/0011669252\n",
      " https://n.news.naver.com/mnews/article/comment/056/0011669252\n",
      "우크라 '한달이 고비'…젤렌스키 \"영토 계속 더 잃는다\" 공포 https://n.news.naver.com/mnews/article/001/0014527234\n",
      " https://n.news.naver.com/mnews/article/comment/001/0014527234\n",
      "세계 집값 하락세 진정 후 반등 조짐…\"침체 전환기 맞아\" https://n.news.naver.com/mnews/article/374/0000371933\n",
      " https://n.news.naver.com/mnews/article/comment/374/0000371933\n",
      "\"러시아의 우크라이나 침공, 남의 일 아냐...한반도도 위협\" [Y녹취록] https://n.news.naver.com/mnews/article/052/0002002700\n",
      " https://n.news.naver.com/mnews/article/comment/052/0002002700\n",
      "한때 중국부자 1위 와하하 쭝칭허우 사망…‘개혁개방 1세대’ 사업가 https://n.news.naver.com/mnews/article/028/0002678383\n",
      " https://n.news.naver.com/mnews/article/comment/028/0002678383\n",
      "‘배당 연금’ 노려볼까…월가 최고 애널리스트들이 꼽은 배당주는? https://n.news.naver.com/mnews/article/016/0002271827\n",
      " https://n.news.naver.com/mnews/article/comment/016/0002271827\n",
      "휴머노이드 경쟁 나선 빅테크…테슬라도 ‘옵티머스’ 추가 영상 공개 https://n.news.naver.com/mnews/article/011/0004304687\n",
      " https://n.news.naver.com/mnews/article/comment/011/0004304687\n",
      "“한국·대만인에 라멘값·신칸센값 더 받자”…日 ‘이중가격제’ 논의 https://n.news.naver.com/mnews/article/023/0003818798\n",
      " https://n.news.naver.com/mnews/article/comment/023/0003818798\n",
      "자수성가 기업인 별세, 후계자는?…“나보다 낫다” 칭찬받던 외동딸 유력 https://n.news.naver.com/mnews/article/009/0005263663\n",
      " https://n.news.naver.com/mnews/article/comment/009/0005263663\n",
      "젤렌스키 “2년 전쟁에서 군인 3만1000명 전사...새로운 반격 준비 중” https://n.news.naver.com/mnews/article/025/0003343622\n",
      " https://n.news.naver.com/mnews/article/comment/025/0003343622\n",
      "LNG 강국 카타르, 美 공백 틈타 수출 1위 노린다 https://n.news.naver.com/mnews/article/016/0002271784\n",
      " https://n.news.naver.com/mnews/article/comment/016/0002271784\n",
      "국민당 부주석, 양안 신경전 가운데 전격 중국 방문 https://n.news.naver.com/mnews/article/014/0005147343\n",
      " https://n.news.naver.com/mnews/article/comment/014/0005147343\n",
      "미국 \"이스라엘 · 하마스 인질 석방 · 휴전 협상 기본 윤곽 합의\" https://n.news.naver.com/mnews/article/055/0001133886\n",
      " https://n.news.naver.com/mnews/article/comment/055/0001133886\n",
      "美 지난 4분기 EV판매량 40%↑…\"전기차 시장 붕괴는 잘못된 평가\" https://n.news.naver.com/mnews/article/123/0002328250\n",
      " https://n.news.naver.com/mnews/article/comment/123/0002328250\n",
      "'적대 관계' 북한과 대화 추진? 일본 외교의 독특한 특성 [Y녹취록] https://n.news.naver.com/mnews/article/052/0002002677\n",
      " https://n.news.naver.com/mnews/article/comment/052/0002002677\n",
      "AI 호재가 기준금리 우려 이길까…美증시, 물가 발표 주시 https://n.news.naver.com/mnews/article/374/0000371925\n",
      " https://n.news.naver.com/mnews/article/comment/374/0000371925\n",
      "일본기업, 對한국 투자 47% 감소…\"前정권 '탈일본' 정책 영향\" https://n.news.naver.com/mnews/article/003/0012392314\n",
      " https://n.news.naver.com/mnews/article/comment/003/0012392314\n",
      "30년 전만해도 돼지사료였는데…'땅속의 다이아몬드'된 것 中덕분 주장 https://n.news.naver.com/mnews/article/277/0005384480\n",
      " https://n.news.naver.com/mnews/article/comment/277/0005384480\n",
      "‘매그니피센트7′ 용어 만든 월가 전략가 “M7 시대는 끝났다” https://n.news.naver.com/mnews/article/366/0000973165\n",
      " https://n.news.naver.com/mnews/article/comment/366/0000973165\n",
      "중국 경제 역풍…미국만 무풍지대? https://n.news.naver.com/mnews/article/016/0002271763\n",
      " https://n.news.naver.com/mnews/article/comment/016/0002271763\n",
      "네타냐후 \"라파 작전시 몇 주 이내 승리…美에도 이익\"[이-팔 전쟁] https://n.news.naver.com/mnews/article/003/0012392259\n",
      " https://n.news.naver.com/mnews/article/comment/003/0012392259\n",
      "\"고물가로 원가 감당 못해\" 日 후쿠오카 명물, 돈코츠 라멘 사라지나 https://n.news.naver.com/mnews/article/277/0005384471\n",
      " https://n.news.naver.com/mnews/article/comment/277/0005384471\n",
      "집값 바닥 찍었나…OECD 선진국 집값 반등조짐 뚜렷해 2.1%↑ https://n.news.naver.com/mnews/article/011/0004304617\n",
      " https://n.news.naver.com/mnews/article/comment/011/0004304617\n",
      "‘한미 FTA 주역’ 커틀러 “트럼프, 한국에 10% 추가관세? FTA 위반” https://n.news.naver.com/mnews/article/025/0003343612\n",
      " https://n.news.naver.com/mnews/article/comment/025/0003343612\n",
      "커틀러 “트럼프 집권하면 미중 디커플링 재논의될 것” https://n.news.naver.com/mnews/article/028/0002678371\n",
      " https://n.news.naver.com/mnews/article/comment/028/0002678371\n",
      "헤일리, 공화당 후보 되기는 \"사실상 실패\"…사퇴 안 하는 이유는 https://n.news.naver.com/mnews/article/421/0007373865\n",
      " https://n.news.naver.com/mnews/article/comment/421/0007373865\n",
      "‘한미 FTA 주역’ 웬디 커틀러 “트럼프 재집권 땐 미중 ‘디커플링’ 예상” https://n.news.naver.com/mnews/article/469/0000787347\n",
      " https://n.news.naver.com/mnews/article/comment/469/0000787347\n",
      "前 USTR 부대표 \"트럼프, 韓에도 10% 관세 부과하면 FTA 위반\" https://n.news.naver.com/mnews/article/001/0014526925\n",
      " https://n.news.naver.com/mnews/article/comment/001/0014526925\n",
      "\"유럽 규제탓에 美·中에 밀려\"…맨유 구단주된 '석유거물'의 저격 https://n.news.naver.com/mnews/article/015/0004952725\n",
      " https://n.news.naver.com/mnews/article/comment/015/0004952725\n",
      "美 통상전문가 \"트럼프 재선 땐 중국과 경제 단절 추구\" https://n.news.naver.com/mnews/article/003/0012392189\n",
      " https://n.news.naver.com/mnews/article/comment/003/0012392189\n",
      "이스라엘, 가자 휴전 논의에 \"레바논은 상관없어, 계속 교전\" https://n.news.naver.com/mnews/article/014/0005147269\n",
      " https://n.news.naver.com/mnews/article/comment/014/0005147269\n",
      "비야디 이어 샤오미도…中전기차 업체 잇달아 슈퍼카 출시 https://n.news.naver.com/mnews/article/421/0007373846\n",
      " https://n.news.naver.com/mnews/article/comment/421/0007373846\n",
      "‘식음료’ 거물 와하하그룹 쭝칭허우 회장 별세...한때 中 최고 부자 https://n.news.naver.com/mnews/article/016/0002271731\n",
      " https://n.news.naver.com/mnews/article/comment/016/0002271731\n",
      "이스라엘 총리 \"하마스와 협상 불발되면 라파로 진격\" https://n.news.naver.com/mnews/article/421/0007373812\n",
      " https://n.news.naver.com/mnews/article/comment/421/0007373812\n"
     ]
    }
   ],
   "source": [
    "# IT/과학 뉴스\n",
    "req_param = {\n",
    "    'sid': 105\n",
    "}\n",
    "url = 'https://news.naver.com/section/{sid}'.format(**req_param)\n",
    "# 요청 헤더 설정 : 브라우저 정보\n",
    "req_header = {\n",
    "    'user-agent': 'Mozilla/5.0 (Windows NT 10.0; Win64; x64) AppleWebKit/537.36 (KHTML, like Gecko) Chrome/104.0.0.0 Safari/537.36'\n",
    "}\n",
    "res = requests.get(url, headers=req_header)\n",
    "print(res.status_code)\n",
    "# print('요청 header', res.request.headers)\n",
    "# print('응답 header', res.headers)\n",
    "if res.ok:\n",
    "    html = res.text # 소스보기 텍스트\n",
    "    soup = BeautifulSoup(html, 'html.parser')\n",
    "    '''\n",
    "        <div class=\"sa_text\"> div.sa_text\n",
    "    '''\n",
    "    print(len(soup.select(\"div.sa_text a[href*='n.news.naver.com/mnews/article']\")))\n",
    "    a_tag_list = soup.select(\"div.sa_text a[href*='n.news.naver.com/mnews/article']\")\n",
    "    for a_tag in a_tag_list:\n",
    "        title = a_tag.text.strip()\n",
    "        link = a_tag['href']\n",
    "        print(title, link)"
   ]
  },
  {
   "cell_type": "markdown",
   "id": "323196dc",
   "metadata": {},
   "source": [
    "### 2. Image 다운로드\n",
    "* referer 요청 헤더를 반드시 설정해야 한다."
   ]
  },
  {
   "cell_type": "code",
   "execution_count": 49,
   "id": "e39dce7a",
   "metadata": {},
   "outputs": [],
   "source": [
    "import requests\n",
    "import os"
   ]
  },
  {
   "cell_type": "code",
   "execution_count": 61,
   "id": "c72d6cb1",
   "metadata": {},
   "outputs": [
    {
     "name": "stdout",
     "output_type": "stream",
     "text": [
      "20220804112251_d97bd1e1b38f0cd022e4e3639d2926b3_IMAG01_1.jpg\n",
      " writing to 20220804112251_d97bd1e1b38f0cd022e4e3639d2926b3_IMAG01_1.jpg(299,319 bytes)\n",
      "20220804112251_d97bd1e1b38f0cd022e4e3639d2926b3_IMAG01_2.jpg\n",
      " writing to 20220804112251_d97bd1e1b38f0cd022e4e3639d2926b3_IMAG01_2.jpg(163,333 bytes)\n",
      "20220804112251_d97bd1e1b38f0cd022e4e3639d2926b3_IMAG01_3.jpg\n",
      " writing to 20220804112251_d97bd1e1b38f0cd022e4e3639d2926b3_IMAG01_3.jpg(182,530 bytes)\n"
     ]
    }
   ],
   "source": [
    "req_header = {\n",
    "    'referer':'https://comic.naver.com/webtoon/detail?titleId=798173&no=5&amp;weekday=thu'\n",
    "}\n",
    "img_urls = [\n",
    "    'https://image-comic.pstatic.net/webtoon/798173/5/20220804112251_d97bd1e1b38f0cd022e4e3639d2926b3_IMAG01_1.jpg',\n",
    "    'https://image-comic.pstatic.net/webtoon/798173/5/20220804112251_d97bd1e1b38f0cd022e4e3639d2926b3_IMAG01_2.jpg',\n",
    "    'https://image-comic.pstatic.net/webtoon/798173/5/20220804112251_d97bd1e1b38f0cd022e4e3639d2926b3_IMAG01_3.jpg'\n",
    "]\n",
    "for img_url in img_urls:\n",
    "    res = requests.get(img_url, headers=req_header)\n",
    "    if res.ok:\n",
    "        img_data = res.content\n",
    "        file_name = os.path.basename(img_url)\n",
    "        print(file_name)\n",
    "        # binary data를 file로 저장하기\n",
    "        with open(file_name, 'wb') as file:\n",
    "            print(f' writing to {file_name}({len(img_data):,} bytes)')\n",
    "            file.write(img_data)"
   ]
  },
  {
   "cell_type": "markdown",
   "id": "e8b00a04",
   "metadata": {},
   "source": [
    "#### 현재 요청된 페이지의 image 모두 다운로드 해보기"
   ]
  },
  {
   "cell_type": "code",
   "execution_count": 71,
   "id": "b30f7bf5",
   "metadata": {},
   "outputs": [
    {
     "name": "stdout",
     "output_type": "stream",
     "text": [
      "200 True\n",
      "68\n"
     ]
    }
   ],
   "source": [
    "  "
   ]
  },
  {
   "cell_type": "markdown",
   "id": "2ac9f5f9",
   "metadata": {},
   "source": [
    "### 파일 업로드 하기\n",
    "* http://httpbin.org/post 업로드 요청을 할 수 있는 url"
   ]
  },
  {
   "cell_type": "code",
   "execution_count": null,
   "id": "04da4790",
   "metadata": {},
   "outputs": [],
   "source": []
  },
  {
   "cell_type": "markdown",
   "id": "7ad65f12",
   "metadata": {},
   "source": [
    "### 번역 Open API 이용하기\n",
    "* urllib 를 사용한 예제"
   ]
  },
  {
   "cell_type": "code",
   "execution_count": 77,
   "id": "abbb0ebf",
   "metadata": {},
   "outputs": [
    {
     "name": "stdout",
     "output_type": "stream",
     "text": [
      "{\"message\":{\"result\":{\"srcLangType\":\"en\",\"tarLangType\":\"ko\",\"translatedText\":\"어제 나의 모든 고민은 너무 멀리 있는 것 같았다.\",\"engineType\":\"N2MT\",\"pivot\":null,\"dict\":null,\"tarDict\":null},\"@type\":\"response\",\"@service\":\"naverservice.nmt.proxy\",\"@version\":\"1.0.0\"}}\n"
     ]
    }
   ],
   "source": [
    "# ZAZjlfXS4P5FW5DtE0wg\n",
    "# RNbe1ikysg\n",
    "import os\n",
    "import sys\n",
    "import urllib.request\n",
    "\n",
    "client_id = \"ZAZjlfXS4P5FW5DtE0wg\" # 개발자센터에서 발급받은 Client ID 값\n",
    "client_secret = \"RNbe1ikysg\" # 개발자센터에서 발급받은 Client Secret 값\n",
    "encText = urllib.parse.quote(\"Yesterday all my troubles seemed so far away\")\n",
    "data = \"source=en&target=ko&text=\" + encText\n",
    "url = \"https://openapi.naver.com/v1/papago/n2mt\"\n",
    "\n",
    "request = urllib.request.Request(url)\n",
    "request.add_header(\"X-Naver-Client-Id\",client_id)\n",
    "request.add_header(\"X-Naver-Client-Secret\",client_secret)\n",
    "\n",
    "response = urllib.request.urlopen(request, data=data.encode(\"utf-8\"))\n",
    "rescode = response.getcode()\n",
    "if(rescode==200):\n",
    "    response_body = response.read()\n",
    "    print(response_body.decode('utf-8'))\n",
    "else:\n",
    "    print(\"Error Code:\" + rescode)\n"
   ]
  },
  {
   "cell_type": "markdown",
   "id": "b7d984a6",
   "metadata": {},
   "source": [
    "* requests를 사용한 코드로 변경하기\n",
    "* [requests docs](https://requests.readthedocs.io/en/latest/user/quickstart/)"
   ]
  },
  {
   "cell_type": "code",
   "execution_count": null,
   "id": "727b427b",
   "metadata": {},
   "outputs": [],
   "source": []
  }
 ],
 "metadata": {
  "kernelspec": {
   "display_name": "Python 3 (ipykernel)",
   "language": "python",
   "name": "python3"
  },
  "language_info": {
   "codemirror_mode": {
    "name": "ipython",
    "version": 3
   },
   "file_extension": ".py",
   "mimetype": "text/x-python",
   "name": "python",
   "nbconvert_exporter": "python",
   "pygments_lexer": "ipython3",
   "version": "3.10.9"
  }
 },
 "nbformat": 4,
 "nbformat_minor": 5
}
