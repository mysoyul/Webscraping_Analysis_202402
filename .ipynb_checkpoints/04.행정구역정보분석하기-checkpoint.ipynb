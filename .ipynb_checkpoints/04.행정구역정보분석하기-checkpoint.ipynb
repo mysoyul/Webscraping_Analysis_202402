{
 "cells": [
  {
   "cell_type": "markdown",
   "id": "8a497f0c",
   "metadata": {},
   "source": [
    "### 행정구역 정보 분석하기\n",
    "1. read_csv() 함수로 csv file을 읽어서 pandas의 DataFrame 객체로 생성하기\n",
    "2. Data Selection : loc[] / iloc[] 를 사용해서 특정 Row와 Column 선택하기\n",
    "3. 컬럼명 변경하기\n",
    "4. DataFrame 객체를 Excel file로 저장하기\n",
    "5. Data Grouping : groupby() 함수를 사용해서 그룹핑하기\n",
    "6. 상관관계 분석 : corr() 함수를 사용해서 인구수와 면적간의 상관관계 \n",
    "7. 시각화 : seaborn의 함수들을 사용해서 Plot 그리기"
   ]
  },
  {
   "cell_type": "code",
   "execution_count": 1,
   "id": "90eeaf08",
   "metadata": {},
   "outputs": [
    {
     "name": "stdout",
     "output_type": "stream",
     "text": [
      "1.5.3\n",
      "<class 'pandas.core.frame.DataFrame'>\n",
      "(229, 8)\n"
     ]
    }
   ],
   "source": [
    "import pandas as pd\n",
    "print(pd.__version__)\n",
    "\n",
    "data = pd.read_csv('data/data_draw_korea.csv')\n",
    "print(type(data))\n",
    "# 행과 열\n",
    "print(data.shape)"
   ]
  },
  {
   "cell_type": "code",
   "execution_count": 2,
   "id": "d1c66e46",
   "metadata": {},
   "outputs": [
    {
     "data": {
      "text/html": [
       "<div>\n",
       "<style scoped>\n",
       "    .dataframe tbody tr th:only-of-type {\n",
       "        vertical-align: middle;\n",
       "    }\n",
       "\n",
       "    .dataframe tbody tr th {\n",
       "        vertical-align: top;\n",
       "    }\n",
       "\n",
       "    .dataframe thead th {\n",
       "        text-align: right;\n",
       "    }\n",
       "</style>\n",
       "<table border=\"1\" class=\"dataframe\">\n",
       "  <thead>\n",
       "    <tr style=\"text-align: right;\">\n",
       "      <th></th>\n",
       "      <th>Unnamed: 0</th>\n",
       "      <th>인구수</th>\n",
       "      <th>shortName</th>\n",
       "      <th>x</th>\n",
       "      <th>y</th>\n",
       "      <th>면적</th>\n",
       "      <th>광역시도</th>\n",
       "      <th>행정구역</th>\n",
       "    </tr>\n",
       "  </thead>\n",
       "  <tbody>\n",
       "    <tr>\n",
       "      <th>0</th>\n",
       "      <td>0</td>\n",
       "      <td>202520</td>\n",
       "      <td>강릉</td>\n",
       "      <td>11</td>\n",
       "      <td>4</td>\n",
       "      <td>1040.07</td>\n",
       "      <td>강원도</td>\n",
       "      <td>강릉시</td>\n",
       "    </tr>\n",
       "    <tr>\n",
       "      <th>1</th>\n",
       "      <td>1</td>\n",
       "      <td>25589</td>\n",
       "      <td>고성(강원)</td>\n",
       "      <td>9</td>\n",
       "      <td>0</td>\n",
       "      <td>664.19</td>\n",
       "      <td>강원도</td>\n",
       "      <td>고성군</td>\n",
       "    </tr>\n",
       "    <tr>\n",
       "      <th>2</th>\n",
       "      <td>2</td>\n",
       "      <td>86747</td>\n",
       "      <td>동해</td>\n",
       "      <td>11</td>\n",
       "      <td>5</td>\n",
       "      <td>180.01</td>\n",
       "      <td>강원도</td>\n",
       "      <td>동해시</td>\n",
       "    </tr>\n",
       "  </tbody>\n",
       "</table>\n",
       "</div>"
      ],
      "text/plain": [
       "   Unnamed: 0     인구수 shortName   x  y       면적 광역시도 행정구역\n",
       "0           0  202520        강릉  11  4  1040.07  강원도  강릉시\n",
       "1           1   25589    고성(강원)   9  0   664.19  강원도  고성군\n",
       "2           2   86747        동해  11  5   180.01  강원도  동해시"
      ]
     },
     "execution_count": 2,
     "metadata": {},
     "output_type": "execute_result"
    }
   ],
   "source": [
    "data.head(3) #default=5"
   ]
  },
  {
   "cell_type": "code",
   "execution_count": 3,
   "id": "ed411700",
   "metadata": {},
   "outputs": [
    {
     "data": {
      "text/html": [
       "<div>\n",
       "<style scoped>\n",
       "    .dataframe tbody tr th:only-of-type {\n",
       "        vertical-align: middle;\n",
       "    }\n",
       "\n",
       "    .dataframe tbody tr th {\n",
       "        vertical-align: top;\n",
       "    }\n",
       "\n",
       "    .dataframe thead th {\n",
       "        text-align: right;\n",
       "    }\n",
       "</style>\n",
       "<table border=\"1\" class=\"dataframe\">\n",
       "  <thead>\n",
       "    <tr style=\"text-align: right;\">\n",
       "      <th></th>\n",
       "      <th>Unnamed: 0</th>\n",
       "      <th>인구수</th>\n",
       "      <th>shortName</th>\n",
       "      <th>x</th>\n",
       "      <th>y</th>\n",
       "      <th>면적</th>\n",
       "      <th>광역시도</th>\n",
       "      <th>행정구역</th>\n",
       "    </tr>\n",
       "  </thead>\n",
       "  <tbody>\n",
       "    <tr>\n",
       "      <th>224</th>\n",
       "      <td>224</td>\n",
       "      <td>127462</td>\n",
       "      <td>제천</td>\n",
       "      <td>8</td>\n",
       "      <td>10</td>\n",
       "      <td>882.47</td>\n",
       "      <td>충청북도</td>\n",
       "      <td>제천시</td>\n",
       "    </tr>\n",
       "    <tr>\n",
       "      <th>225</th>\n",
       "      <td>225</td>\n",
       "      <td>34480</td>\n",
       "      <td>증평</td>\n",
       "      <td>6</td>\n",
       "      <td>11</td>\n",
       "      <td>81.84</td>\n",
       "      <td>충청북도</td>\n",
       "      <td>증평군</td>\n",
       "    </tr>\n",
       "    <tr>\n",
       "      <th>226</th>\n",
       "      <td>226</td>\n",
       "      <td>62809</td>\n",
       "      <td>진천</td>\n",
       "      <td>5</td>\n",
       "      <td>11</td>\n",
       "      <td>406.08</td>\n",
       "      <td>충청북도</td>\n",
       "      <td>진천군</td>\n",
       "    </tr>\n",
       "    <tr>\n",
       "      <th>227</th>\n",
       "      <td>227</td>\n",
       "      <td>790216</td>\n",
       "      <td>청주</td>\n",
       "      <td>6</td>\n",
       "      <td>12</td>\n",
       "      <td>932.51</td>\n",
       "      <td>충청북도</td>\n",
       "      <td>청주시</td>\n",
       "    </tr>\n",
       "    <tr>\n",
       "      <th>228</th>\n",
       "      <td>228</td>\n",
       "      <td>198077</td>\n",
       "      <td>충주</td>\n",
       "      <td>6</td>\n",
       "      <td>10</td>\n",
       "      <td>983.70</td>\n",
       "      <td>충청북도</td>\n",
       "      <td>충주시</td>\n",
       "    </tr>\n",
       "  </tbody>\n",
       "</table>\n",
       "</div>"
      ],
      "text/plain": [
       "     Unnamed: 0     인구수 shortName  x   y      면적  광역시도 행정구역\n",
       "224         224  127462        제천  8  10  882.47  충청북도  제천시\n",
       "225         225   34480        증평  6  11   81.84  충청북도  증평군\n",
       "226         226   62809        진천  5  11  406.08  충청북도  진천군\n",
       "227         227  790216        청주  6  12  932.51  충청북도  청주시\n",
       "228         228  198077        충주  6  10  983.70  충청북도  충주시"
      ]
     },
     "execution_count": 3,
     "metadata": {},
     "output_type": "execute_result"
    }
   ],
   "source": [
    "data.tail()"
   ]
  },
  {
   "cell_type": "code",
   "execution_count": 4,
   "id": "c283c5e6",
   "metadata": {},
   "outputs": [
    {
     "data": {
      "text/html": [
       "<div>\n",
       "<style scoped>\n",
       "    .dataframe tbody tr th:only-of-type {\n",
       "        vertical-align: middle;\n",
       "    }\n",
       "\n",
       "    .dataframe tbody tr th {\n",
       "        vertical-align: top;\n",
       "    }\n",
       "\n",
       "    .dataframe thead th {\n",
       "        text-align: right;\n",
       "    }\n",
       "</style>\n",
       "<table border=\"1\" class=\"dataframe\">\n",
       "  <thead>\n",
       "    <tr style=\"text-align: right;\">\n",
       "      <th></th>\n",
       "      <th>Unnamed: 0</th>\n",
       "      <th>인구수</th>\n",
       "      <th>shortName</th>\n",
       "      <th>x</th>\n",
       "      <th>y</th>\n",
       "      <th>면적</th>\n",
       "      <th>광역시도</th>\n",
       "      <th>행정구역</th>\n",
       "    </tr>\n",
       "  </thead>\n",
       "  <tbody>\n",
       "    <tr>\n",
       "      <th>56</th>\n",
       "      <td>56</td>\n",
       "      <td>31983</td>\n",
       "      <td>산청</td>\n",
       "      <td>5</td>\n",
       "      <td>18</td>\n",
       "      <td>794.59</td>\n",
       "      <td>경상남도</td>\n",
       "      <td>산청군</td>\n",
       "    </tr>\n",
       "    <tr>\n",
       "      <th>29</th>\n",
       "      <td>29</td>\n",
       "      <td>911628</td>\n",
       "      <td>성남</td>\n",
       "      <td>7</td>\n",
       "      <td>8</td>\n",
       "      <td>141.82</td>\n",
       "      <td>경기도</td>\n",
       "      <td>성남시</td>\n",
       "    </tr>\n",
       "    <tr>\n",
       "      <th>132</th>\n",
       "      <td>132</td>\n",
       "      <td>547202</td>\n",
       "      <td>서울노원</td>\n",
       "      <td>6</td>\n",
       "      <td>1</td>\n",
       "      <td>35.44</td>\n",
       "      <td>서울특별시</td>\n",
       "      <td>노원구</td>\n",
       "    </tr>\n",
       "  </tbody>\n",
       "</table>\n",
       "</div>"
      ],
      "text/plain": [
       "     Unnamed: 0     인구수 shortName  x   y      면적   광역시도 행정구역\n",
       "56           56   31983        산청  5  18  794.59   경상남도  산청군\n",
       "29           29  911628        성남  7   8  141.82    경기도  성남시\n",
       "132         132  547202      서울노원  6   1   35.44  서울특별시  노원구"
      ]
     },
     "execution_count": 4,
     "metadata": {},
     "output_type": "execute_result"
    }
   ],
   "source": [
    "data.sample(3)"
   ]
  },
  {
   "cell_type": "code",
   "execution_count": 5,
   "id": "5ebe60d9",
   "metadata": {},
   "outputs": [
    {
     "name": "stdout",
     "output_type": "stream",
     "text": [
      "컬럼명 : Index(['Unnamed: 0', '인구수', 'shortName', 'x', 'y', '면적', '광역시도', '행정구역'], dtype='object')\n",
      "인덱스 : RangeIndex(start=0, stop=229, step=1)\n"
     ]
    }
   ],
   "source": [
    "print(f'컬럼명 : {data.columns}')\n",
    "print(f'인덱스 : {data.index}')"
   ]
  },
  {
   "cell_type": "code",
   "execution_count": 6,
   "id": "7396bc44",
   "metadata": {},
   "outputs": [
    {
     "name": "stdout",
     "output_type": "stream",
     "text": [
      "<class 'numpy.ndarray'>\n"
     ]
    },
    {
     "data": {
      "text/plain": [
       "array([[0, 202520, '강릉', ..., 1040.07, '강원도', '강릉시'],\n",
       "       [1, 25589, '고성(강원)', ..., 664.19, '강원도', '고성군'],\n",
       "       [2, 86747, '동해', ..., 180.01, '강원도', '동해시'],\n",
       "       ...,\n",
       "       [226, 62809, '진천', ..., 406.08, '충청북도', '진천군'],\n",
       "       [227, 790216, '청주', ..., 932.51, '충청북도', '청주시'],\n",
       "       [228, 198077, '충주', ..., 983.7, '충청북도', '충주시']], dtype=object)"
      ]
     },
     "execution_count": 6,
     "metadata": {},
     "output_type": "execute_result"
    }
   ],
   "source": [
    "print(type(data.values))\n",
    "data.values"
   ]
  },
  {
   "cell_type": "code",
   "execution_count": 7,
   "id": "a7ff5b86",
   "metadata": {},
   "outputs": [
    {
     "name": "stdout",
     "output_type": "stream",
     "text": [
      "<class 'pandas.core.frame.DataFrame'>\n",
      "RangeIndex: 229 entries, 0 to 228\n",
      "Data columns (total 8 columns):\n",
      " #   Column      Non-Null Count  Dtype  \n",
      "---  ------      --------------  -----  \n",
      " 0   Unnamed: 0  229 non-null    int64  \n",
      " 1   인구수         229 non-null    int64  \n",
      " 2   shortName   229 non-null    object \n",
      " 3   x           229 non-null    int64  \n",
      " 4   y           229 non-null    int64  \n",
      " 5   면적          229 non-null    float64\n",
      " 6   광역시도        229 non-null    object \n",
      " 7   행정구역        229 non-null    object \n",
      "dtypes: float64(1), int64(4), object(3)\n",
      "memory usage: 14.4+ KB\n"
     ]
    }
   ],
   "source": [
    "data.info()"
   ]
  },
  {
   "cell_type": "code",
   "execution_count": 8,
   "id": "f94410b9",
   "metadata": {},
   "outputs": [
    {
     "data": {
      "text/plain": [
       "Unnamed: 0      int64\n",
       "인구수             int64\n",
       "shortName      object\n",
       "x               int64\n",
       "y               int64\n",
       "면적            float64\n",
       "광역시도           object\n",
       "행정구역           object\n",
       "dtype: object"
      ]
     },
     "execution_count": 8,
     "metadata": {},
     "output_type": "execute_result"
    }
   ],
   "source": [
    "# 모든 컬럼의 타입 확인\n",
    "data.dtypes"
   ]
  },
  {
   "cell_type": "code",
   "execution_count": 9,
   "id": "9a1df5eb",
   "metadata": {},
   "outputs": [
    {
     "data": {
      "text/plain": [
       "dtype('int64')"
      ]
     },
     "execution_count": 9,
     "metadata": {},
     "output_type": "execute_result"
    }
   ],
   "source": [
    "# 특정 컬럼의 타입 확인\n",
    "data['인구수'].dtypes"
   ]
  },
  {
   "cell_type": "code",
   "execution_count": 10,
   "id": "ed337b44",
   "metadata": {},
   "outputs": [
    {
     "data": {
      "text/html": [
       "<div>\n",
       "<style scoped>\n",
       "    .dataframe tbody tr th:only-of-type {\n",
       "        vertical-align: middle;\n",
       "    }\n",
       "\n",
       "    .dataframe tbody tr th {\n",
       "        vertical-align: top;\n",
       "    }\n",
       "\n",
       "    .dataframe thead th {\n",
       "        text-align: right;\n",
       "    }\n",
       "</style>\n",
       "<table border=\"1\" class=\"dataframe\">\n",
       "  <thead>\n",
       "    <tr style=\"text-align: right;\">\n",
       "      <th></th>\n",
       "      <th>Unnamed: 0</th>\n",
       "      <th>인구수</th>\n",
       "      <th>x</th>\n",
       "      <th>y</th>\n",
       "      <th>면적</th>\n",
       "    </tr>\n",
       "  </thead>\n",
       "  <tbody>\n",
       "    <tr>\n",
       "      <th>count</th>\n",
       "      <td>229.000000</td>\n",
       "      <td>2.290000e+02</td>\n",
       "      <td>229.000000</td>\n",
       "      <td>229.000000</td>\n",
       "      <td>229.000000</td>\n",
       "    </tr>\n",
       "    <tr>\n",
       "      <th>mean</th>\n",
       "      <td>114.000000</td>\n",
       "      <td>2.110898e+05</td>\n",
       "      <td>6.117904</td>\n",
       "      <td>11.262009</td>\n",
       "      <td>435.419795</td>\n",
       "    </tr>\n",
       "    <tr>\n",
       "      <th>std</th>\n",
       "      <td>66.250786</td>\n",
       "      <td>2.074378e+05</td>\n",
       "      <td>3.320469</td>\n",
       "      <td>6.040898</td>\n",
       "      <td>381.612549</td>\n",
       "    </tr>\n",
       "    <tr>\n",
       "      <th>min</th>\n",
       "      <td>0.000000</td>\n",
       "      <td>8.392000e+03</td>\n",
       "      <td>0.000000</td>\n",
       "      <td>0.000000</td>\n",
       "      <td>2.800000</td>\n",
       "    </tr>\n",
       "    <tr>\n",
       "      <th>25%</th>\n",
       "      <td>57.000000</td>\n",
       "      <td>4.955900e+04</td>\n",
       "      <td>3.000000</td>\n",
       "      <td>6.000000</td>\n",
       "      <td>54.000000</td>\n",
       "    </tr>\n",
       "    <tr>\n",
       "      <th>50%</th>\n",
       "      <td>114.000000</td>\n",
       "      <td>1.401590e+05</td>\n",
       "      <td>6.000000</td>\n",
       "      <td>11.000000</td>\n",
       "      <td>436.400000</td>\n",
       "    </tr>\n",
       "    <tr>\n",
       "      <th>75%</th>\n",
       "      <td>171.000000</td>\n",
       "      <td>3.216180e+05</td>\n",
       "      <td>9.000000</td>\n",
       "      <td>16.000000</td>\n",
       "      <td>692.800000</td>\n",
       "    </tr>\n",
       "    <tr>\n",
       "      <th>max</th>\n",
       "      <td>228.000000</td>\n",
       "      <td>1.125461e+06</td>\n",
       "      <td>13.000000</td>\n",
       "      <td>25.000000</td>\n",
       "      <td>1817.940000</td>\n",
       "    </tr>\n",
       "  </tbody>\n",
       "</table>\n",
       "</div>"
      ],
      "text/plain": [
       "       Unnamed: 0           인구수           x           y           면적\n",
       "count  229.000000  2.290000e+02  229.000000  229.000000   229.000000\n",
       "mean   114.000000  2.110898e+05    6.117904   11.262009   435.419795\n",
       "std     66.250786  2.074378e+05    3.320469    6.040898   381.612549\n",
       "min      0.000000  8.392000e+03    0.000000    0.000000     2.800000\n",
       "25%     57.000000  4.955900e+04    3.000000    6.000000    54.000000\n",
       "50%    114.000000  1.401590e+05    6.000000   11.000000   436.400000\n",
       "75%    171.000000  3.216180e+05    9.000000   16.000000   692.800000\n",
       "max    228.000000  1.125461e+06   13.000000   25.000000  1817.940000"
      ]
     },
     "execution_count": 10,
     "metadata": {},
     "output_type": "execute_result"
    }
   ],
   "source": [
    "# import numpy as np\n",
    "# data.describe(include=[np.number]) 와 동일한 결과\n",
    "data.describe()  "
   ]
  },
  {
   "cell_type": "code",
   "execution_count": 11,
   "id": "8ab088db",
   "metadata": {},
   "outputs": [
    {
     "data": {
      "text/html": [
       "<div>\n",
       "<style scoped>\n",
       "    .dataframe tbody tr th:only-of-type {\n",
       "        vertical-align: middle;\n",
       "    }\n",
       "\n",
       "    .dataframe tbody tr th {\n",
       "        vertical-align: top;\n",
       "    }\n",
       "\n",
       "    .dataframe thead th {\n",
       "        text-align: right;\n",
       "    }\n",
       "</style>\n",
       "<table border=\"1\" class=\"dataframe\">\n",
       "  <thead>\n",
       "    <tr style=\"text-align: right;\">\n",
       "      <th></th>\n",
       "      <th>shortName</th>\n",
       "      <th>광역시도</th>\n",
       "      <th>행정구역</th>\n",
       "    </tr>\n",
       "  </thead>\n",
       "  <tbody>\n",
       "    <tr>\n",
       "      <th>count</th>\n",
       "      <td>229</td>\n",
       "      <td>229</td>\n",
       "      <td>229</td>\n",
       "    </tr>\n",
       "    <tr>\n",
       "      <th>unique</th>\n",
       "      <td>229</td>\n",
       "      <td>17</td>\n",
       "      <td>206</td>\n",
       "    </tr>\n",
       "    <tr>\n",
       "      <th>top</th>\n",
       "      <td>강릉</td>\n",
       "      <td>경기도</td>\n",
       "      <td>동구</td>\n",
       "    </tr>\n",
       "    <tr>\n",
       "      <th>freq</th>\n",
       "      <td>1</td>\n",
       "      <td>31</td>\n",
       "      <td>6</td>\n",
       "    </tr>\n",
       "  </tbody>\n",
       "</table>\n",
       "</div>"
      ],
      "text/plain": [
       "       shortName 광역시도 행정구역\n",
       "count        229  229  229\n",
       "unique       229   17  206\n",
       "top           강릉  경기도   동구\n",
       "freq           1   31    6"
      ]
     },
     "execution_count": 11,
     "metadata": {},
     "output_type": "execute_result"
    }
   ],
   "source": [
    "data.describe(include=[object])"
   ]
  },
  {
   "cell_type": "code",
   "execution_count": 12,
   "id": "30d2f5d3",
   "metadata": {},
   "outputs": [
    {
     "data": {
      "text/html": [
       "<div>\n",
       "<style scoped>\n",
       "    .dataframe tbody tr th:only-of-type {\n",
       "        vertical-align: middle;\n",
       "    }\n",
       "\n",
       "    .dataframe tbody tr th {\n",
       "        vertical-align: top;\n",
       "    }\n",
       "\n",
       "    .dataframe thead th {\n",
       "        text-align: right;\n",
       "    }\n",
       "</style>\n",
       "<table border=\"1\" class=\"dataframe\">\n",
       "  <thead>\n",
       "    <tr style=\"text-align: right;\">\n",
       "      <th></th>\n",
       "      <th>Unnamed: 0</th>\n",
       "      <th>인구수</th>\n",
       "      <th>shortName</th>\n",
       "      <th>x</th>\n",
       "      <th>y</th>\n",
       "      <th>면적</th>\n",
       "      <th>광역시도</th>\n",
       "      <th>행정구역</th>\n",
       "    </tr>\n",
       "  </thead>\n",
       "  <tbody>\n",
       "    <tr>\n",
       "      <th>count</th>\n",
       "      <td>229.000000</td>\n",
       "      <td>2.290000e+02</td>\n",
       "      <td>229</td>\n",
       "      <td>229.000000</td>\n",
       "      <td>229.000000</td>\n",
       "      <td>229.000000</td>\n",
       "      <td>229</td>\n",
       "      <td>229</td>\n",
       "    </tr>\n",
       "    <tr>\n",
       "      <th>unique</th>\n",
       "      <td>NaN</td>\n",
       "      <td>NaN</td>\n",
       "      <td>229</td>\n",
       "      <td>NaN</td>\n",
       "      <td>NaN</td>\n",
       "      <td>NaN</td>\n",
       "      <td>17</td>\n",
       "      <td>206</td>\n",
       "    </tr>\n",
       "    <tr>\n",
       "      <th>top</th>\n",
       "      <td>NaN</td>\n",
       "      <td>NaN</td>\n",
       "      <td>강릉</td>\n",
       "      <td>NaN</td>\n",
       "      <td>NaN</td>\n",
       "      <td>NaN</td>\n",
       "      <td>경기도</td>\n",
       "      <td>동구</td>\n",
       "    </tr>\n",
       "    <tr>\n",
       "      <th>freq</th>\n",
       "      <td>NaN</td>\n",
       "      <td>NaN</td>\n",
       "      <td>1</td>\n",
       "      <td>NaN</td>\n",
       "      <td>NaN</td>\n",
       "      <td>NaN</td>\n",
       "      <td>31</td>\n",
       "      <td>6</td>\n",
       "    </tr>\n",
       "    <tr>\n",
       "      <th>mean</th>\n",
       "      <td>114.000000</td>\n",
       "      <td>2.110898e+05</td>\n",
       "      <td>NaN</td>\n",
       "      <td>6.117904</td>\n",
       "      <td>11.262009</td>\n",
       "      <td>435.419795</td>\n",
       "      <td>NaN</td>\n",
       "      <td>NaN</td>\n",
       "    </tr>\n",
       "    <tr>\n",
       "      <th>std</th>\n",
       "      <td>66.250786</td>\n",
       "      <td>2.074378e+05</td>\n",
       "      <td>NaN</td>\n",
       "      <td>3.320469</td>\n",
       "      <td>6.040898</td>\n",
       "      <td>381.612549</td>\n",
       "      <td>NaN</td>\n",
       "      <td>NaN</td>\n",
       "    </tr>\n",
       "    <tr>\n",
       "      <th>min</th>\n",
       "      <td>0.000000</td>\n",
       "      <td>8.392000e+03</td>\n",
       "      <td>NaN</td>\n",
       "      <td>0.000000</td>\n",
       "      <td>0.000000</td>\n",
       "      <td>2.800000</td>\n",
       "      <td>NaN</td>\n",
       "      <td>NaN</td>\n",
       "    </tr>\n",
       "    <tr>\n",
       "      <th>25%</th>\n",
       "      <td>57.000000</td>\n",
       "      <td>4.955900e+04</td>\n",
       "      <td>NaN</td>\n",
       "      <td>3.000000</td>\n",
       "      <td>6.000000</td>\n",
       "      <td>54.000000</td>\n",
       "      <td>NaN</td>\n",
       "      <td>NaN</td>\n",
       "    </tr>\n",
       "    <tr>\n",
       "      <th>50%</th>\n",
       "      <td>114.000000</td>\n",
       "      <td>1.401590e+05</td>\n",
       "      <td>NaN</td>\n",
       "      <td>6.000000</td>\n",
       "      <td>11.000000</td>\n",
       "      <td>436.400000</td>\n",
       "      <td>NaN</td>\n",
       "      <td>NaN</td>\n",
       "    </tr>\n",
       "    <tr>\n",
       "      <th>75%</th>\n",
       "      <td>171.000000</td>\n",
       "      <td>3.216180e+05</td>\n",
       "      <td>NaN</td>\n",
       "      <td>9.000000</td>\n",
       "      <td>16.000000</td>\n",
       "      <td>692.800000</td>\n",
       "      <td>NaN</td>\n",
       "      <td>NaN</td>\n",
       "    </tr>\n",
       "    <tr>\n",
       "      <th>max</th>\n",
       "      <td>228.000000</td>\n",
       "      <td>1.125461e+06</td>\n",
       "      <td>NaN</td>\n",
       "      <td>13.000000</td>\n",
       "      <td>25.000000</td>\n",
       "      <td>1817.940000</td>\n",
       "      <td>NaN</td>\n",
       "      <td>NaN</td>\n",
       "    </tr>\n",
       "  </tbody>\n",
       "</table>\n",
       "</div>"
      ],
      "text/plain": [
       "        Unnamed: 0           인구수 shortName           x           y  \\\n",
       "count   229.000000  2.290000e+02       229  229.000000  229.000000   \n",
       "unique         NaN           NaN       229         NaN         NaN   \n",
       "top            NaN           NaN        강릉         NaN         NaN   \n",
       "freq           NaN           NaN         1         NaN         NaN   \n",
       "mean    114.000000  2.110898e+05       NaN    6.117904   11.262009   \n",
       "std      66.250786  2.074378e+05       NaN    3.320469    6.040898   \n",
       "min       0.000000  8.392000e+03       NaN    0.000000    0.000000   \n",
       "25%      57.000000  4.955900e+04       NaN    3.000000    6.000000   \n",
       "50%     114.000000  1.401590e+05       NaN    6.000000   11.000000   \n",
       "75%     171.000000  3.216180e+05       NaN    9.000000   16.000000   \n",
       "max     228.000000  1.125461e+06       NaN   13.000000   25.000000   \n",
       "\n",
       "                 면적 광역시도 행정구역  \n",
       "count    229.000000  229  229  \n",
       "unique          NaN   17  206  \n",
       "top             NaN  경기도   동구  \n",
       "freq            NaN   31    6  \n",
       "mean     435.419795  NaN  NaN  \n",
       "std      381.612549  NaN  NaN  \n",
       "min        2.800000  NaN  NaN  \n",
       "25%       54.000000  NaN  NaN  \n",
       "50%      436.400000  NaN  NaN  \n",
       "75%      692.800000  NaN  NaN  \n",
       "max     1817.940000  NaN  NaN  "
      ]
     },
     "execution_count": 12,
     "metadata": {},
     "output_type": "execute_result"
    }
   ],
   "source": [
    "data.describe(include='all')"
   ]
  },
  {
   "cell_type": "markdown",
   "id": "c50e4cb1",
   "metadata": {},
   "source": [
    "#### Data Selection"
   ]
  },
  {
   "cell_type": "code",
   "execution_count": 13,
   "id": "7132d6e0",
   "metadata": {},
   "outputs": [
    {
     "name": "stdout",
     "output_type": "stream",
     "text": [
      "<class 'pandas.core.series.Series'>\n"
     ]
    },
    {
     "data": {
      "text/plain": [
       "0      202520\n",
       "1       25589\n",
       "2       86747\n",
       "3       63986\n",
       "4       76733\n",
       "        ...  \n",
       "224    127462\n",
       "225     34480\n",
       "226     62809\n",
       "227    790216\n",
       "228    198077\n",
       "Name: 인구수, Length: 229, dtype: int64"
      ]
     },
     "execution_count": 13,
     "metadata": {},
     "output_type": "execute_result"
    }
   ],
   "source": [
    "# 인구수 1개의 컬럼 선택\n",
    "print(type(data['인구수']))\n",
    "data['인구수']"
   ]
  },
  {
   "cell_type": "code",
   "execution_count": 14,
   "id": "66cd0129",
   "metadata": {},
   "outputs": [
    {
     "name": "stdout",
     "output_type": "stream",
     "text": [
      "인구수 최대값 1,125,461\n",
      "인구수 최소값 8,392\n",
      "인구수 평균 211,090\n",
      "인구수 표준편차 207,438\n",
      "인구수 중간값 140,159.0\n"
     ]
    },
    {
     "data": {
      "text/plain": [
       "0.25     49559.0\n",
       "0.75    321618.0\n",
       "Name: 인구수, dtype: float64"
      ]
     },
     "execution_count": 14,
     "metadata": {},
     "output_type": "execute_result"
    }
   ],
   "source": [
    "# 인구수 컬럼의 집계함수\n",
    "print(f\"인구수 최대값 {data['인구수'].max():,}\")\n",
    "print(f\"인구수 최소값 {data['인구수'].min():,}\")\n",
    "print(f\"인구수 평균 {round(data['인구수'].mean()):,}\")\n",
    "print(f\"인구수 표준편차 {round(data['인구수'].std()):,}\")\n",
    "print(f\"인구수 중간값 {data['인구수'].median():,}\")\n",
    "data['인구수'].quantile([0.25, 0.75])"
   ]
  },
  {
   "cell_type": "code",
   "execution_count": 15,
   "id": "ab0feb25",
   "metadata": {},
   "outputs": [
    {
     "data": {
      "text/html": [
       "<div>\n",
       "<style scoped>\n",
       "    .dataframe tbody tr th:only-of-type {\n",
       "        vertical-align: middle;\n",
       "    }\n",
       "\n",
       "    .dataframe tbody tr th {\n",
       "        vertical-align: top;\n",
       "    }\n",
       "\n",
       "    .dataframe thead th {\n",
       "        text-align: right;\n",
       "    }\n",
       "</style>\n",
       "<table border=\"1\" class=\"dataframe\">\n",
       "  <thead>\n",
       "    <tr style=\"text-align: right;\">\n",
       "      <th></th>\n",
       "      <th>Unnamed: 0</th>\n",
       "      <th>인구수</th>\n",
       "      <th>shortName</th>\n",
       "      <th>x</th>\n",
       "      <th>y</th>\n",
       "      <th>면적</th>\n",
       "      <th>광역시도</th>\n",
       "      <th>행정구역</th>\n",
       "    </tr>\n",
       "  </thead>\n",
       "  <tbody>\n",
       "    <tr>\n",
       "      <th>30</th>\n",
       "      <td>30</td>\n",
       "      <td>1125461</td>\n",
       "      <td>수원</td>\n",
       "      <td>6</td>\n",
       "      <td>9</td>\n",
       "      <td>121.09</td>\n",
       "      <td>경기도</td>\n",
       "      <td>수원시</td>\n",
       "    </tr>\n",
       "  </tbody>\n",
       "</table>\n",
       "</div>"
      ],
      "text/plain": [
       "    Unnamed: 0      인구수 shortName  x  y      면적 광역시도 행정구역\n",
       "30          30  1125461        수원  6  9  121.09  경기도  수원시"
      ]
     },
     "execution_count": 15,
     "metadata": {},
     "output_type": "execute_result"
    }
   ],
   "source": [
    "# 인구수가 가장 높은 행정구역?\n",
    "max_prop = data['인구수'].max()\n",
    "data.loc[data['인구수'] == max_prop]"
   ]
  },
  {
   "cell_type": "code",
   "execution_count": 16,
   "id": "d48f3d21",
   "metadata": {},
   "outputs": [
    {
     "data": {
      "text/plain": [
       "array(['강원도', '경기도', '경상남도', '경상북도', '광주광역시', '대구광역시', '대전광역시', '부산광역시',\n",
       "       '서울특별시', '세종특별자치시', '울산광역시', '인천광역시', '전라남도', '전라북도', '제주특별자치도',\n",
       "       '충청남도', '충청북도'], dtype=object)"
      ]
     },
     "execution_count": 16,
     "metadata": {},
     "output_type": "execute_result"
    }
   ],
   "source": [
    "# unique 한 광역시도명\n",
    "data['광역시도'].unique()"
   ]
  },
  {
   "cell_type": "code",
   "execution_count": 17,
   "id": "4c8991eb",
   "metadata": {},
   "outputs": [
    {
     "data": {
      "text/plain": [
       "경기도        31\n",
       "서울특별시      25\n",
       "경상북도       23\n",
       "전라남도       22\n",
       "강원도        18\n",
       "경상남도       18\n",
       "부산광역시      16\n",
       "충청남도       15\n",
       "전라북도       14\n",
       "충청북도       11\n",
       "인천광역시      10\n",
       "대구광역시       8\n",
       "대전광역시       5\n",
       "광주광역시       5\n",
       "울산광역시       5\n",
       "제주특별자치도     2\n",
       "세종특별자치시     1\n",
       "Name: 광역시도, dtype: int64"
      ]
     },
     "execution_count": 17,
     "metadata": {},
     "output_type": "execute_result"
    }
   ],
   "source": [
    "# 광역시도별 Row Counting\n",
    "data['광역시도'].value_counts()"
   ]
  },
  {
   "cell_type": "code",
   "execution_count": 18,
   "id": "aef151d5",
   "metadata": {},
   "outputs": [
    {
     "data": {
      "text/html": [
       "<div>\n",
       "<style scoped>\n",
       "    .dataframe tbody tr th:only-of-type {\n",
       "        vertical-align: middle;\n",
       "    }\n",
       "\n",
       "    .dataframe tbody tr th {\n",
       "        vertical-align: top;\n",
       "    }\n",
       "\n",
       "    .dataframe thead th {\n",
       "        text-align: right;\n",
       "    }\n",
       "</style>\n",
       "<table border=\"1\" class=\"dataframe\">\n",
       "  <thead>\n",
       "    <tr style=\"text-align: right;\">\n",
       "      <th></th>\n",
       "      <th>행정구역</th>\n",
       "      <th>인구수</th>\n",
       "      <th>면적</th>\n",
       "    </tr>\n",
       "  </thead>\n",
       "  <tbody>\n",
       "    <tr>\n",
       "      <th>0</th>\n",
       "      <td>수원시</td>\n",
       "      <td>1125461</td>\n",
       "      <td>121.090</td>\n",
       "    </tr>\n",
       "    <tr>\n",
       "      <th>1</th>\n",
       "      <td>고양시</td>\n",
       "      <td>955384</td>\n",
       "      <td>267.330</td>\n",
       "    </tr>\n",
       "    <tr>\n",
       "      <th>2</th>\n",
       "      <td>용인시</td>\n",
       "      <td>915005</td>\n",
       "      <td>591.500</td>\n",
       "    </tr>\n",
       "    <tr>\n",
       "      <th>3</th>\n",
       "      <td>성남시</td>\n",
       "      <td>911628</td>\n",
       "      <td>141.820</td>\n",
       "    </tr>\n",
       "    <tr>\n",
       "      <th>4</th>\n",
       "      <td>부천시</td>\n",
       "      <td>805473</td>\n",
       "      <td>53.440</td>\n",
       "    </tr>\n",
       "    <tr>\n",
       "      <th>5</th>\n",
       "      <td>안산시</td>\n",
       "      <td>668089</td>\n",
       "      <td>144.780</td>\n",
       "    </tr>\n",
       "    <tr>\n",
       "      <th>6</th>\n",
       "      <td>남양주시</td>\n",
       "      <td>610300</td>\n",
       "      <td>458.440</td>\n",
       "    </tr>\n",
       "    <tr>\n",
       "      <th>7</th>\n",
       "      <td>안양시</td>\n",
       "      <td>566558</td>\n",
       "      <td>58.520</td>\n",
       "    </tr>\n",
       "    <tr>\n",
       "      <th>8</th>\n",
       "      <td>화성시</td>\n",
       "      <td>555129</td>\n",
       "      <td>688.100</td>\n",
       "    </tr>\n",
       "    <tr>\n",
       "      <th>9</th>\n",
       "      <td>평택시</td>\n",
       "      <td>423763</td>\n",
       "      <td>452.310</td>\n",
       "    </tr>\n",
       "    <tr>\n",
       "      <th>10</th>\n",
       "      <td>의정부시</td>\n",
       "      <td>408220</td>\n",
       "      <td>81.590</td>\n",
       "    </tr>\n",
       "    <tr>\n",
       "      <th>11</th>\n",
       "      <td>파주시</td>\n",
       "      <td>385528</td>\n",
       "      <td>672.560</td>\n",
       "    </tr>\n",
       "    <tr>\n",
       "      <th>12</th>\n",
       "      <td>시흥시</td>\n",
       "      <td>381412</td>\n",
       "      <td>134.400</td>\n",
       "    </tr>\n",
       "    <tr>\n",
       "      <th>13</th>\n",
       "      <td>광명시</td>\n",
       "      <td>327111</td>\n",
       "      <td>38.500</td>\n",
       "    </tr>\n",
       "    <tr>\n",
       "      <th>14</th>\n",
       "      <td>김포시</td>\n",
       "      <td>326523</td>\n",
       "      <td>276.640</td>\n",
       "    </tr>\n",
       "    <tr>\n",
       "      <th>15</th>\n",
       "      <td>광주시</td>\n",
       "      <td>290210</td>\n",
       "      <td>431.840</td>\n",
       "    </tr>\n",
       "    <tr>\n",
       "      <th>16</th>\n",
       "      <td>군포시</td>\n",
       "      <td>273302</td>\n",
       "      <td>36.350</td>\n",
       "    </tr>\n",
       "    <tr>\n",
       "      <th>17</th>\n",
       "      <td>오산시</td>\n",
       "      <td>200793</td>\n",
       "      <td>42.740</td>\n",
       "    </tr>\n",
       "    <tr>\n",
       "      <th>18</th>\n",
       "      <td>양주시</td>\n",
       "      <td>191266</td>\n",
       "      <td>310.310</td>\n",
       "    </tr>\n",
       "    <tr>\n",
       "      <th>19</th>\n",
       "      <td>이천시</td>\n",
       "      <td>190537</td>\n",
       "      <td>461.020</td>\n",
       "    </tr>\n",
       "    <tr>\n",
       "      <th>20</th>\n",
       "      <td>구리시</td>\n",
       "      <td>175676</td>\n",
       "      <td>33.300</td>\n",
       "    </tr>\n",
       "    <tr>\n",
       "      <th>21</th>\n",
       "      <td>안성시</td>\n",
       "      <td>173061</td>\n",
       "      <td>554.200</td>\n",
       "    </tr>\n",
       "    <tr>\n",
       "      <th>22</th>\n",
       "      <td>하남시</td>\n",
       "      <td>150061</td>\n",
       "      <td>93.100</td>\n",
       "    </tr>\n",
       "    <tr>\n",
       "      <th>23</th>\n",
       "      <td>의왕시</td>\n",
       "      <td>149080</td>\n",
       "      <td>54.000</td>\n",
       "    </tr>\n",
       "    <tr>\n",
       "      <th>24</th>\n",
       "      <td>포천시</td>\n",
       "      <td>140159</td>\n",
       "      <td>826.380</td>\n",
       "    </tr>\n",
       "    <tr>\n",
       "      <th>25</th>\n",
       "      <td>여주시</td>\n",
       "      <td>100669</td>\n",
       "      <td>608.640</td>\n",
       "    </tr>\n",
       "    <tr>\n",
       "      <th>26</th>\n",
       "      <td>양평군</td>\n",
       "      <td>95614</td>\n",
       "      <td>877.080</td>\n",
       "    </tr>\n",
       "    <tr>\n",
       "      <th>27</th>\n",
       "      <td>동두천시</td>\n",
       "      <td>90398</td>\n",
       "      <td>95.680</td>\n",
       "    </tr>\n",
       "    <tr>\n",
       "      <th>28</th>\n",
       "      <td>과천시</td>\n",
       "      <td>63227</td>\n",
       "      <td>35.813</td>\n",
       "    </tr>\n",
       "    <tr>\n",
       "      <th>29</th>\n",
       "      <td>가평군</td>\n",
       "      <td>53497</td>\n",
       "      <td>843.040</td>\n",
       "    </tr>\n",
       "    <tr>\n",
       "      <th>30</th>\n",
       "      <td>연천군</td>\n",
       "      <td>41076</td>\n",
       "      <td>695.230</td>\n",
       "    </tr>\n",
       "  </tbody>\n",
       "</table>\n",
       "</div>"
      ],
      "text/plain": [
       "    행정구역      인구수       면적\n",
       "0    수원시  1125461  121.090\n",
       "1    고양시   955384  267.330\n",
       "2    용인시   915005  591.500\n",
       "3    성남시   911628  141.820\n",
       "4    부천시   805473   53.440\n",
       "5    안산시   668089  144.780\n",
       "6   남양주시   610300  458.440\n",
       "7    안양시   566558   58.520\n",
       "8    화성시   555129  688.100\n",
       "9    평택시   423763  452.310\n",
       "10  의정부시   408220   81.590\n",
       "11   파주시   385528  672.560\n",
       "12   시흥시   381412  134.400\n",
       "13   광명시   327111   38.500\n",
       "14   김포시   326523  276.640\n",
       "15   광주시   290210  431.840\n",
       "16   군포시   273302   36.350\n",
       "17   오산시   200793   42.740\n",
       "18   양주시   191266  310.310\n",
       "19   이천시   190537  461.020\n",
       "20   구리시   175676   33.300\n",
       "21   안성시   173061  554.200\n",
       "22   하남시   150061   93.100\n",
       "23   의왕시   149080   54.000\n",
       "24   포천시   140159  826.380\n",
       "25   여주시   100669  608.640\n",
       "26   양평군    95614  877.080\n",
       "27  동두천시    90398   95.680\n",
       "28   과천시    63227   35.813\n",
       "29   가평군    53497  843.040\n",
       "30   연천군    41076  695.230"
      ]
     },
     "execution_count": 18,
     "metadata": {},
     "output_type": "execute_result"
    }
   ],
   "source": [
    "# 경기도에 속한 행정구역의 행정구역명, 인구수, 면적 출력하기\n",
    "# data.loc[ row , col ]\n",
    "gy_df = data.loc[data['광역시도'] == '경기도', ['행정구역','인구수','면적'] ]\\\n",
    ".sort_values(by='인구수',ascending=False).reset_index(drop=True)\n",
    "gy_df"
   ]
  },
  {
   "cell_type": "code",
   "execution_count": 19,
   "id": "00222660",
   "metadata": {},
   "outputs": [
    {
     "name": "stdout",
     "output_type": "stream",
     "text": [
      "경기도 인구수 평균 = 378845.48387096776\n",
      "경기도 인구수 편차 = 304548.39514203876\n"
     ]
    }
   ],
   "source": [
    "#경기도 인구수의 평균과 표준편차\n",
    "print(f\"경기도 인구수 평균 = {gy_df['인구수'].mean()}\")\n",
    "print(f\"경기도 인구수 편차 = {gy_df['인구수'].std()}\")"
   ]
  },
  {
   "cell_type": "code",
   "execution_count": 20,
   "id": "a2437f70",
   "metadata": {},
   "outputs": [],
   "source": [
    "def pop_mean_std(sido_name):\n",
    "    sido_df = data.loc[data['광역시도'] == sido_name,'인구수':'행정구역']\n",
    "    print(f\"{sido_name} 인구수 평균 = {sido_df['인구수'].mean()}\")\n",
    "    print(f\"{sido_name} 인구수 편차 = {sido_df['인구수'].std()}\")"
   ]
  },
  {
   "cell_type": "code",
   "execution_count": 21,
   "id": "20528297",
   "metadata": {},
   "outputs": [
    {
     "name": "stdout",
     "output_type": "stream",
     "text": [
      "서울특별시 인구수 평균 = 375792.28\n",
      "서울특별시 인구수 편차 = 125231.24797500289\n"
     ]
    }
   ],
   "source": [
    "pop_mean_std('서울특별시')"
   ]
  },
  {
   "cell_type": "code",
   "execution_count": 22,
   "id": "0c457025",
   "metadata": {},
   "outputs": [
    {
     "name": "stdout",
     "output_type": "stream",
     "text": [
      "부산광역시 인구수 평균 = 207724.4375\n",
      "부산광역시 인구수 편차 = 106246.04138380481\n"
     ]
    }
   ],
   "source": [
    "pop_mean_std('부산광역시')"
   ]
  },
  {
   "cell_type": "code",
   "execution_count": 23,
   "id": "eae64f72",
   "metadata": {},
   "outputs": [
    {
     "name": "stdout",
     "output_type": "stream",
     "text": [
      "강원도 인구수 평균 = 79413.22222222222\n",
      "강원도 인구수 편차 = 87316.38323837094\n",
      "경기도 인구수 평균 = 378845.48387096776\n",
      "경기도 인구수 편차 = 304548.39514203876\n",
      "경상남도 인구수 평균 = 174693.72222222222\n",
      "경상남도 인구수 편차 = 245796.4650767224\n",
      "경상북도 인구수 평균 = 109085.39130434782\n",
      "경상북도 인구수 편차 = 124954.74088490057\n",
      "광주광역시 인구수 평균 = 287641.8\n",
      "광주광역시 인구수 편차 = 137076.68320578814\n",
      "대구광역시 인구수 평균 = 297306.25\n",
      "대구광역시 인구수 편차 = 174375.39437968715\n",
      "대전광역시 인구수 평균 = 293535.4\n",
      "대전광역시 인구수 편차 = 111853.57188217103\n",
      "부산광역시 인구수 평균 = 207724.4375\n",
      "부산광역시 인구수 편차 = 106246.04138380481\n",
      "서울특별시 인구수 평균 = 375792.28\n",
      "서울특별시 인구수 편차 = 125231.24797500289\n",
      "세종특별자치시 인구수 평균 = 191233.0\n",
      "세종특별자치시 인구수 편차 = nan\n",
      "울산광역시 인구수 평균 = 221117.0\n",
      "울산광역시 인구수 편차 = 64163.28658196991\n",
      "인천광역시 인구수 평균 = 276657.5\n",
      "인천광역시 인구수 편차 = 199353.5964908417\n",
      "전라남도 인구수 평균 = 77298.31818181818\n",
      "전라남도 인구수 편차 = 74413.25322969875\n",
      "전라북도 인구수 평균 = 124217.71428571429\n",
      "전라북도 인구수 편차 = 168327.13482128442\n",
      "제주특별자치도 인구수 평균 = 287936.5\n",
      "제주특별자치도 인구수 편차 = 201620.89205362622\n",
      "충청남도 인구수 평균 = 129741.93333333333\n",
      "충청남도 인구수 편차 = 141125.1080796583\n",
      "충청북도 인구수 평균 = 134974.54545454544\n",
      "충청북도 인구수 편차 = 223460.35665744546\n"
     ]
    }
   ],
   "source": [
    "for sido_name in data['광역시도'].unique():\n",
    "    pop_mean_std(sido_name)"
   ]
  },
  {
   "cell_type": "markdown",
   "id": "84bb336e",
   "metadata": {},
   "source": [
    "#### Data Selection\n",
    "* loc[] 과 iloc[] 사용하기"
   ]
  },
  {
   "cell_type": "code",
   "execution_count": 24,
   "id": "06b4d0b2",
   "metadata": {},
   "outputs": [
    {
     "data": {
      "text/html": [
       "<div>\n",
       "<style scoped>\n",
       "    .dataframe tbody tr th:only-of-type {\n",
       "        vertical-align: middle;\n",
       "    }\n",
       "\n",
       "    .dataframe tbody tr th {\n",
       "        vertical-align: top;\n",
       "    }\n",
       "\n",
       "    .dataframe thead th {\n",
       "        text-align: right;\n",
       "    }\n",
       "</style>\n",
       "<table border=\"1\" class=\"dataframe\">\n",
       "  <thead>\n",
       "    <tr style=\"text-align: right;\">\n",
       "      <th></th>\n",
       "      <th>Unnamed: 0</th>\n",
       "      <th>인구수</th>\n",
       "      <th>shortName</th>\n",
       "      <th>x</th>\n",
       "      <th>y</th>\n",
       "      <th>면적</th>\n",
       "      <th>광역시도</th>\n",
       "      <th>행정구역</th>\n",
       "    </tr>\n",
       "  </thead>\n",
       "  <tbody>\n",
       "    <tr>\n",
       "      <th>20</th>\n",
       "      <td>20</td>\n",
       "      <td>63227</td>\n",
       "      <td>과천</td>\n",
       "      <td>7</td>\n",
       "      <td>7</td>\n",
       "      <td>35.813</td>\n",
       "      <td>경기도</td>\n",
       "      <td>과천시</td>\n",
       "    </tr>\n",
       "    <tr>\n",
       "      <th>21</th>\n",
       "      <td>21</td>\n",
       "      <td>327111</td>\n",
       "      <td>광명</td>\n",
       "      <td>3</td>\n",
       "      <td>3</td>\n",
       "      <td>38.500</td>\n",
       "      <td>경기도</td>\n",
       "      <td>광명시</td>\n",
       "    </tr>\n",
       "    <tr>\n",
       "      <th>22</th>\n",
       "      <td>22</td>\n",
       "      <td>290210</td>\n",
       "      <td>광주</td>\n",
       "      <td>8</td>\n",
       "      <td>7</td>\n",
       "      <td>431.840</td>\n",
       "      <td>경기도</td>\n",
       "      <td>광주시</td>\n",
       "    </tr>\n",
       "    <tr>\n",
       "      <th>23</th>\n",
       "      <td>23</td>\n",
       "      <td>175676</td>\n",
       "      <td>구리</td>\n",
       "      <td>9</td>\n",
       "      <td>4</td>\n",
       "      <td>33.300</td>\n",
       "      <td>경기도</td>\n",
       "      <td>구리시</td>\n",
       "    </tr>\n",
       "    <tr>\n",
       "      <th>24</th>\n",
       "      <td>24</td>\n",
       "      <td>273302</td>\n",
       "      <td>군포</td>\n",
       "      <td>5</td>\n",
       "      <td>8</td>\n",
       "      <td>36.350</td>\n",
       "      <td>경기도</td>\n",
       "      <td>군포시</td>\n",
       "    </tr>\n",
       "    <tr>\n",
       "      <th>25</th>\n",
       "      <td>25</td>\n",
       "      <td>326523</td>\n",
       "      <td>김포</td>\n",
       "      <td>2</td>\n",
       "      <td>3</td>\n",
       "      <td>276.640</td>\n",
       "      <td>경기도</td>\n",
       "      <td>김포시</td>\n",
       "    </tr>\n",
       "  </tbody>\n",
       "</table>\n",
       "</div>"
      ],
      "text/plain": [
       "    Unnamed: 0     인구수 shortName  x  y       면적 광역시도 행정구역\n",
       "20          20   63227        과천  7  7   35.813  경기도  과천시\n",
       "21          21  327111        광명  3  3   38.500  경기도  광명시\n",
       "22          22  290210        광주  8  7  431.840  경기도  광주시\n",
       "23          23  175676        구리  9  4   33.300  경기도  구리시\n",
       "24          24  273302        군포  5  8   36.350  경기도  군포시\n",
       "25          25  326523        김포  2  3  276.640  경기도  김포시"
      ]
     },
     "execution_count": 24,
     "metadata": {},
     "output_type": "execute_result"
    }
   ],
   "source": [
    "#loc[] 사용\n",
    "#인덱스가 20 부터 25까지\n",
    "data.loc[20:25]"
   ]
  },
  {
   "cell_type": "code",
   "execution_count": 25,
   "id": "eb83d94e",
   "metadata": {},
   "outputs": [
    {
     "data": {
      "text/html": [
       "<div>\n",
       "<style scoped>\n",
       "    .dataframe tbody tr th:only-of-type {\n",
       "        vertical-align: middle;\n",
       "    }\n",
       "\n",
       "    .dataframe tbody tr th {\n",
       "        vertical-align: top;\n",
       "    }\n",
       "\n",
       "    .dataframe thead th {\n",
       "        text-align: right;\n",
       "    }\n",
       "</style>\n",
       "<table border=\"1\" class=\"dataframe\">\n",
       "  <thead>\n",
       "    <tr style=\"text-align: right;\">\n",
       "      <th></th>\n",
       "      <th>Unnamed: 0</th>\n",
       "      <th>인구수</th>\n",
       "      <th>shortName</th>\n",
       "      <th>x</th>\n",
       "      <th>y</th>\n",
       "      <th>면적</th>\n",
       "      <th>광역시도</th>\n",
       "      <th>행정구역</th>\n",
       "    </tr>\n",
       "  </thead>\n",
       "  <tbody>\n",
       "    <tr>\n",
       "      <th>20</th>\n",
       "      <td>20</td>\n",
       "      <td>63227</td>\n",
       "      <td>과천</td>\n",
       "      <td>7</td>\n",
       "      <td>7</td>\n",
       "      <td>35.813</td>\n",
       "      <td>경기도</td>\n",
       "      <td>과천시</td>\n",
       "    </tr>\n",
       "    <tr>\n",
       "      <th>21</th>\n",
       "      <td>21</td>\n",
       "      <td>327111</td>\n",
       "      <td>광명</td>\n",
       "      <td>3</td>\n",
       "      <td>3</td>\n",
       "      <td>38.500</td>\n",
       "      <td>경기도</td>\n",
       "      <td>광명시</td>\n",
       "    </tr>\n",
       "    <tr>\n",
       "      <th>22</th>\n",
       "      <td>22</td>\n",
       "      <td>290210</td>\n",
       "      <td>광주</td>\n",
       "      <td>8</td>\n",
       "      <td>7</td>\n",
       "      <td>431.840</td>\n",
       "      <td>경기도</td>\n",
       "      <td>광주시</td>\n",
       "    </tr>\n",
       "    <tr>\n",
       "      <th>23</th>\n",
       "      <td>23</td>\n",
       "      <td>175676</td>\n",
       "      <td>구리</td>\n",
       "      <td>9</td>\n",
       "      <td>4</td>\n",
       "      <td>33.300</td>\n",
       "      <td>경기도</td>\n",
       "      <td>구리시</td>\n",
       "    </tr>\n",
       "    <tr>\n",
       "      <th>24</th>\n",
       "      <td>24</td>\n",
       "      <td>273302</td>\n",
       "      <td>군포</td>\n",
       "      <td>5</td>\n",
       "      <td>8</td>\n",
       "      <td>36.350</td>\n",
       "      <td>경기도</td>\n",
       "      <td>군포시</td>\n",
       "    </tr>\n",
       "  </tbody>\n",
       "</table>\n",
       "</div>"
      ],
      "text/plain": [
       "    Unnamed: 0     인구수 shortName  x  y       면적 광역시도 행정구역\n",
       "20          20   63227        과천  7  7   35.813  경기도  과천시\n",
       "21          21  327111        광명  3  3   38.500  경기도  광명시\n",
       "22          22  290210        광주  8  7  431.840  경기도  광주시\n",
       "23          23  175676        구리  9  4   33.300  경기도  구리시\n",
       "24          24  273302        군포  5  8   36.350  경기도  군포시"
      ]
     },
     "execution_count": 25,
     "metadata": {},
     "output_type": "execute_result"
    }
   ],
   "source": [
    "#iloc[] 사용\n",
    "#인덱스가 20 부터 25까지\n",
    "data.iloc[20:25]"
   ]
  },
  {
   "cell_type": "code",
   "execution_count": 26,
   "id": "e241b4b3",
   "metadata": {},
   "outputs": [
    {
     "data": {
      "text/html": [
       "<div>\n",
       "<style scoped>\n",
       "    .dataframe tbody tr th:only-of-type {\n",
       "        vertical-align: middle;\n",
       "    }\n",
       "\n",
       "    .dataframe tbody tr th {\n",
       "        vertical-align: top;\n",
       "    }\n",
       "\n",
       "    .dataframe thead th {\n",
       "        text-align: right;\n",
       "    }\n",
       "</style>\n",
       "<table border=\"1\" class=\"dataframe\">\n",
       "  <thead>\n",
       "    <tr style=\"text-align: right;\">\n",
       "      <th></th>\n",
       "      <th>인구수</th>\n",
       "      <th>shortName</th>\n",
       "      <th>x</th>\n",
       "      <th>y</th>\n",
       "      <th>면적</th>\n",
       "      <th>광역시도</th>\n",
       "    </tr>\n",
       "  </thead>\n",
       "  <tbody>\n",
       "    <tr>\n",
       "      <th>20</th>\n",
       "      <td>63227</td>\n",
       "      <td>과천</td>\n",
       "      <td>7</td>\n",
       "      <td>7</td>\n",
       "      <td>35.813</td>\n",
       "      <td>경기도</td>\n",
       "    </tr>\n",
       "    <tr>\n",
       "      <th>21</th>\n",
       "      <td>327111</td>\n",
       "      <td>광명</td>\n",
       "      <td>3</td>\n",
       "      <td>3</td>\n",
       "      <td>38.500</td>\n",
       "      <td>경기도</td>\n",
       "    </tr>\n",
       "    <tr>\n",
       "      <th>22</th>\n",
       "      <td>290210</td>\n",
       "      <td>광주</td>\n",
       "      <td>8</td>\n",
       "      <td>7</td>\n",
       "      <td>431.840</td>\n",
       "      <td>경기도</td>\n",
       "    </tr>\n",
       "    <tr>\n",
       "      <th>23</th>\n",
       "      <td>175676</td>\n",
       "      <td>구리</td>\n",
       "      <td>9</td>\n",
       "      <td>4</td>\n",
       "      <td>33.300</td>\n",
       "      <td>경기도</td>\n",
       "    </tr>\n",
       "    <tr>\n",
       "      <th>24</th>\n",
       "      <td>273302</td>\n",
       "      <td>군포</td>\n",
       "      <td>5</td>\n",
       "      <td>8</td>\n",
       "      <td>36.350</td>\n",
       "      <td>경기도</td>\n",
       "    </tr>\n",
       "  </tbody>\n",
       "</table>\n",
       "</div>"
      ],
      "text/plain": [
       "       인구수 shortName  x  y       면적 광역시도\n",
       "20   63227        과천  7  7   35.813  경기도\n",
       "21  327111        광명  3  3   38.500  경기도\n",
       "22  290210        광주  8  7  431.840  경기도\n",
       "23  175676        구리  9  4   33.300  경기도\n",
       "24  273302        군포  5  8   36.350  경기도"
      ]
     },
     "execution_count": 26,
     "metadata": {},
     "output_type": "execute_result"
    }
   ],
   "source": [
    "#iloc[] 사용\n",
    "#인덱스가 20 부터 25까지 컬럼이 인구수부터 광역시도 까지\n",
    "data.iloc[20:25,1:7]"
   ]
  },
  {
   "cell_type": "code",
   "execution_count": 27,
   "id": "4ae4d722",
   "metadata": {},
   "outputs": [
    {
     "data": {
      "text/html": [
       "<div>\n",
       "<style scoped>\n",
       "    .dataframe tbody tr th:only-of-type {\n",
       "        vertical-align: middle;\n",
       "    }\n",
       "\n",
       "    .dataframe tbody tr th {\n",
       "        vertical-align: top;\n",
       "    }\n",
       "\n",
       "    .dataframe thead th {\n",
       "        text-align: right;\n",
       "    }\n",
       "</style>\n",
       "<table border=\"1\" class=\"dataframe\">\n",
       "  <thead>\n",
       "    <tr style=\"text-align: right;\">\n",
       "      <th></th>\n",
       "      <th>인구수</th>\n",
       "      <th>광역시도</th>\n",
       "      <th>행정구역</th>\n",
       "    </tr>\n",
       "  </thead>\n",
       "  <tbody>\n",
       "    <tr>\n",
       "      <th>40</th>\n",
       "      <td>915005</td>\n",
       "      <td>경기도</td>\n",
       "      <td>용인시</td>\n",
       "    </tr>\n",
       "    <tr>\n",
       "      <th>55</th>\n",
       "      <td>106388</td>\n",
       "      <td>경상남도</td>\n",
       "      <td>사천시</td>\n",
       "    </tr>\n",
       "    <tr>\n",
       "      <th>60</th>\n",
       "      <td>56734</td>\n",
       "      <td>경상남도</td>\n",
       "      <td>창녕군</td>\n",
       "    </tr>\n",
       "  </tbody>\n",
       "</table>\n",
       "</div>"
      ],
      "text/plain": [
       "       인구수  광역시도 행정구역\n",
       "40  915005   경기도  용인시\n",
       "55  106388  경상남도  사천시\n",
       "60   56734  경상남도  창녕군"
      ]
     },
     "execution_count": 27,
     "metadata": {},
     "output_type": "execute_result"
    }
   ],
   "source": [
    "#loc[] 사용\n",
    "#index가 40,55,60 이고, column이 인구수,광역시도,행정구역\n",
    "data.loc[[40,55,60],['인구수','광역시도','행정구역']]"
   ]
  },
  {
   "cell_type": "code",
   "execution_count": 28,
   "id": "79d067d4",
   "metadata": {},
   "outputs": [
    {
     "name": "stdout",
     "output_type": "stream",
     "text": [
      "<class 'pandas.core.series.Series'>\n"
     ]
    },
    {
     "data": {
      "text/plain": [
       "Unnamed: 0          0\n",
       "인구수            202520\n",
       "shortName          강릉\n",
       "x                  11\n",
       "y                   4\n",
       "면적            1040.07\n",
       "광역시도              강원도\n",
       "행정구역              강릉시\n",
       "Name: 0, dtype: object"
      ]
     },
     "execution_count": 28,
     "metadata": {},
     "output_type": "execute_result"
    }
   ],
   "source": [
    "#인덱스가 0인 행 하나만 선택\n",
    "print(type(data.loc[0]))\n",
    "data.loc[0]"
   ]
  },
  {
   "cell_type": "code",
   "execution_count": 29,
   "id": "1556b081",
   "metadata": {},
   "outputs": [
    {
     "name": "stdout",
     "output_type": "stream",
     "text": [
      "<class 'pandas.core.series.Series'>\n"
     ]
    },
    {
     "data": {
      "text/plain": [
       "0      1040.07\n",
       "1       664.19\n",
       "2       180.01\n",
       "3      1185.80\n",
       "4       105.25\n",
       "        ...   \n",
       "224     882.47\n",
       "225      81.84\n",
       "226     406.08\n",
       "227     932.51\n",
       "228     983.70\n",
       "Name: 면적, Length: 229, dtype: float64"
      ]
     },
     "execution_count": 29,
     "metadata": {},
     "output_type": "execute_result"
    }
   ],
   "source": [
    "#열 하나만 선택\n",
    "print(type(data['면적']))\n",
    "data['면적']"
   ]
  },
  {
   "cell_type": "markdown",
   "id": "3d7417fb",
   "metadata": {},
   "source": [
    "#### 컬럼명 변경하기\n",
    "* rename() 함수\n",
    "   - inplace=False(default) 원본 DataFrame객체를 변경하지는 않고, 변경한 결과를 출력하기\n",
    "   - inplace=True  원본 DataFrame객체를 변경하고, 변경한 결과를 출력하지 않는다."
   ]
  },
  {
   "cell_type": "code",
   "execution_count": 30,
   "id": "4661debe",
   "metadata": {},
   "outputs": [
    {
     "data": {
      "text/plain": [
       "Index(['Unnamed: 0', '인구수', 'shortName', 'x', 'y', '면적', '광역시도', '행정구역'], dtype='object')"
      ]
     },
     "execution_count": 30,
     "metadata": {},
     "output_type": "execute_result"
    }
   ],
   "source": [
    "data.columns"
   ]
  },
  {
   "cell_type": "code",
   "execution_count": 31,
   "id": "d856e29d",
   "metadata": {},
   "outputs": [],
   "source": [
    "data.rename(columns={'Unnamed: 0':'seq'}, inplace=True)"
   ]
  },
  {
   "cell_type": "markdown",
   "id": "a995078c-e8ae-475f-924f-c6b70a8ef9ff",
   "metadata": {},
   "source": [
    "#### DataFrame을 Excel file로 저장하기\n",
    "* 인구수가 전국평균보다 작은 지역의 광역시도,행정구역,인구수를 선택해서 DataFrame을 생성하기\n",
    "* DataFrame의 to_excel() 함수 사용"
   ]
  },
  {
   "cell_type": "code",
   "execution_count": 32,
   "id": "8edee08e-7c27-4aa4-aa8a-9c23eddb6fd3",
   "metadata": {},
   "outputs": [
    {
     "name": "stdout",
     "output_type": "stream",
     "text": [
      "211089.77729257641\n",
      "211090\n",
      "211089.78\n"
     ]
    }
   ],
   "source": [
    "#인구수가 전국평균 보다 작은 지역(인구수,행정구역,광역시도)을 선택해서 결과를 엑셀파일로 저장하기\n",
    "pop_mean_value=data['인구수'].mean()\n",
    "print(pop_mean_value)\n",
    "print(round(pop_mean_value))\n",
    "print(f'{pop_mean_value:.2f}')\n",
    "\n",
    "pop_mean_lt_df = data.loc[data['인구수'] < pop_mean_value,['광역시도','행정구역','인구수']]\\\n",
    ".sort_values(by=['광역시도','인구수'],ascending=[True,False])\\\n",
    ".reset_index(drop=True)\n",
    "#excel 파일로 저장\n",
    "pop_mean_lt_df.to_excel('data/평균인구수미만지역.xlsx')"
   ]
  },
  {
   "cell_type": "markdown",
   "id": "a3e5ddce-b058-4b57-a936-ca9399c2a069",
   "metadata": {},
   "source": [
    "### GroupBy 기능 사용하기\n",
    "* 광역시도별 행정구역의 인구수 합계\n",
    "* ~별에 해당하는 컬럼명이나 컬럼값을 groupby() 함수의 인자로 전달한다. \n",
    "* Series 객체의 groupby() 함수는 컬럼의 값을 인자로 전달하고, DataFrame 객체의 groupby() 함수는 컬럼명을 인자로 전달합니다. "
   ]
  },
  {
   "cell_type": "code",
   "execution_count": 35,
   "id": "d32c4ff7-7f44-4f45-95bd-a4afe45b0547",
   "metadata": {},
   "outputs": [
    {
     "data": {
      "text/plain": [
       "광역시도\n",
       "경기도        11744210\n",
       "서울특별시       9394807\n",
       "부산광역시       3323591\n",
       "경상남도        3144487\n",
       "인천광역시       2766575\n",
       "경상북도        2508964\n",
       "대구광역시       2378450\n",
       "충청남도        1946129\n",
       "전라북도        1739048\n",
       "전라남도        1700563\n",
       "충청북도        1484720\n",
       "대전광역시       1467677\n",
       "광주광역시       1438209\n",
       "강원도         1429438\n",
       "울산광역시       1105585\n",
       "제주특별자치도      575873\n",
       "세종특별자치시      191233\n",
       "Name: 인구수, dtype: int64"
      ]
     },
     "execution_count": 35,
     "metadata": {},
     "output_type": "execute_result"
    }
   ],
   "source": [
    "# Series 객체 사용 - 광역시도별 인구수의 합계 \n",
    "# SeriesGroupBy object\n",
    "data['인구수'].groupby(data['광역시도']).sum().sort_values(ascending=False)"
   ]
  },
  {
   "cell_type": "code",
   "execution_count": 38,
   "id": "21c4dcee-40c8-4743-84f9-3cca00ea18f4",
   "metadata": {},
   "outputs": [
    {
     "data": {
      "text/html": [
       "<div>\n",
       "<style scoped>\n",
       "    .dataframe tbody tr th:only-of-type {\n",
       "        vertical-align: middle;\n",
       "    }\n",
       "\n",
       "    .dataframe tbody tr th {\n",
       "        vertical-align: top;\n",
       "    }\n",
       "\n",
       "    .dataframe thead th {\n",
       "        text-align: right;\n",
       "    }\n",
       "</style>\n",
       "<table border=\"1\" class=\"dataframe\">\n",
       "  <thead>\n",
       "    <tr style=\"text-align: right;\">\n",
       "      <th></th>\n",
       "      <th>seq</th>\n",
       "      <th>인구수</th>\n",
       "      <th>x</th>\n",
       "      <th>y</th>\n",
       "      <th>면적</th>\n",
       "    </tr>\n",
       "    <tr>\n",
       "      <th>광역시도</th>\n",
       "      <th></th>\n",
       "      <th></th>\n",
       "      <th></th>\n",
       "      <th></th>\n",
       "      <th></th>\n",
       "    </tr>\n",
       "  </thead>\n",
       "  <tbody>\n",
       "    <tr>\n",
       "      <th>강원도</th>\n",
       "      <td>153</td>\n",
       "      <td>1429438</td>\n",
       "      <td>173</td>\n",
       "      <td>68</td>\n",
       "      <td>16874.810</td>\n",
       "    </tr>\n",
       "    <tr>\n",
       "      <th>경기도</th>\n",
       "      <td>1023</td>\n",
       "      <td>11744210</td>\n",
       "      <td>182</td>\n",
       "      <td>162</td>\n",
       "      <td>10179.743</td>\n",
       "    </tr>\n",
       "    <tr>\n",
       "      <th>경상남도</th>\n",
       "      <td>1035</td>\n",
       "      <td>3144487</td>\n",
       "      <td>123</td>\n",
       "      <td>313</td>\n",
       "      <td>10437.460</td>\n",
       "    </tr>\n",
       "    <tr>\n",
       "      <th>경상북도</th>\n",
       "      <td>1794</td>\n",
       "      <td>2508964</td>\n",
       "      <td>229</td>\n",
       "      <td>240</td>\n",
       "      <td>19021.850</td>\n",
       "    </tr>\n",
       "    <tr>\n",
       "      <th>광주광역시</th>\n",
       "      <td>460</td>\n",
       "      <td>1438209</td>\n",
       "      <td>12</td>\n",
       "      <td>99</td>\n",
       "      <td>501.280</td>\n",
       "    </tr>\n",
       "    <tr>\n",
       "      <th>대구광역시</th>\n",
       "      <td>788</td>\n",
       "      <td>2378450</td>\n",
       "      <td>74</td>\n",
       "      <td>111</td>\n",
       "      <td>885.690</td>\n",
       "    </tr>\n",
       "    <tr>\n",
       "      <th>대전광역시</th>\n",
       "      <td>525</td>\n",
       "      <td>1467677</td>\n",
       "      <td>23</td>\n",
       "      <td>66</td>\n",
       "      <td>539.640</td>\n",
       "    </tr>\n",
       "    <tr>\n",
       "      <th>부산광역시</th>\n",
       "      <td>1848</td>\n",
       "      <td>3323591</td>\n",
       "      <td>162</td>\n",
       "      <td>276</td>\n",
       "      <td>763.240</td>\n",
       "    </tr>\n",
       "    <tr>\n",
       "      <th>서울특별시</th>\n",
       "      <td>3400</td>\n",
       "      <td>9394807</td>\n",
       "      <td>142</td>\n",
       "      <td>111</td>\n",
       "      <td>605.390</td>\n",
       "    </tr>\n",
       "    <tr>\n",
       "      <th>세종특별자치시</th>\n",
       "      <td>149</td>\n",
       "      <td>191233</td>\n",
       "      <td>4</td>\n",
       "      <td>11</td>\n",
       "      <td>465.230</td>\n",
       "    </tr>\n",
       "    <tr>\n",
       "      <th>울산광역시</th>\n",
       "      <td>760</td>\n",
       "      <td>1105585</td>\n",
       "      <td>58</td>\n",
       "      <td>71</td>\n",
       "      <td>980.220</td>\n",
       "    </tr>\n",
       "    <tr>\n",
       "      <th>인천광역시</th>\n",
       "      <td>1595</td>\n",
       "      <td>2766575</td>\n",
       "      <td>13</td>\n",
       "      <td>61</td>\n",
       "      <td>1022.910</td>\n",
       "    </tr>\n",
       "    <tr>\n",
       "      <th>전라남도</th>\n",
       "      <td>3861</td>\n",
       "      <td>1700563</td>\n",
       "      <td>44</td>\n",
       "      <td>438</td>\n",
       "      <td>12008.390</td>\n",
       "    </tr>\n",
       "    <tr>\n",
       "      <th>전라북도</th>\n",
       "      <td>2709</td>\n",
       "      <td>1739048</td>\n",
       "      <td>46</td>\n",
       "      <td>219</td>\n",
       "      <td>7907.220</td>\n",
       "    </tr>\n",
       "    <tr>\n",
       "      <th>제주특별자치도</th>\n",
       "      <td>403</td>\n",
       "      <td>575873</td>\n",
       "      <td>8</td>\n",
       "      <td>49</td>\n",
       "      <td>1848.480</td>\n",
       "    </tr>\n",
       "    <tr>\n",
       "      <th>충청남도</th>\n",
       "      <td>3150</td>\n",
       "      <td>1946129</td>\n",
       "      <td>39</td>\n",
       "      <td>160</td>\n",
       "      <td>8272.270</td>\n",
       "    </tr>\n",
       "    <tr>\n",
       "      <th>충청북도</th>\n",
       "      <td>2453</td>\n",
       "      <td>1484720</td>\n",
       "      <td>69</td>\n",
       "      <td>124</td>\n",
       "      <td>7397.310</td>\n",
       "    </tr>\n",
       "  </tbody>\n",
       "</table>\n",
       "</div>"
      ],
      "text/plain": [
       "          seq       인구수    x    y         면적\n",
       "광역시도                                        \n",
       "강원도       153   1429438  173   68  16874.810\n",
       "경기도      1023  11744210  182  162  10179.743\n",
       "경상남도     1035   3144487  123  313  10437.460\n",
       "경상북도     1794   2508964  229  240  19021.850\n",
       "광주광역시     460   1438209   12   99    501.280\n",
       "대구광역시     788   2378450   74  111    885.690\n",
       "대전광역시     525   1467677   23   66    539.640\n",
       "부산광역시    1848   3323591  162  276    763.240\n",
       "서울특별시    3400   9394807  142  111    605.390\n",
       "세종특별자치시   149    191233    4   11    465.230\n",
       "울산광역시     760   1105585   58   71    980.220\n",
       "인천광역시    1595   2766575   13   61   1022.910\n",
       "전라남도     3861   1700563   44  438  12008.390\n",
       "전라북도     2709   1739048   46  219   7907.220\n",
       "제주특별자치도   403    575873    8   49   1848.480\n",
       "충청남도     3150   1946129   39  160   8272.270\n",
       "충청북도     2453   1484720   69  124   7397.310"
      ]
     },
     "execution_count": 38,
     "metadata": {},
     "output_type": "execute_result"
    }
   ],
   "source": [
    "# DataFrame 객체 사용 - 광역시도별 인구수의 합계 \n",
    "# DataFrameGroupBy object\n",
    "data.groupby('광역시도').sum(numeric_only=True)"
   ]
  },
  {
   "cell_type": "code",
   "execution_count": 39,
   "id": "73d2df6a-0d32-446f-84ec-cce75de34e3e",
   "metadata": {},
   "outputs": [
    {
     "data": {
      "text/plain": [
       "광역시도\n",
       "경기도        11744210\n",
       "서울특별시       9394807\n",
       "부산광역시       3323591\n",
       "경상남도        3144487\n",
       "인천광역시       2766575\n",
       "경상북도        2508964\n",
       "대구광역시       2378450\n",
       "충청남도        1946129\n",
       "전라북도        1739048\n",
       "전라남도        1700563\n",
       "충청북도        1484720\n",
       "대전광역시       1467677\n",
       "광주광역시       1438209\n",
       "강원도         1429438\n",
       "울산광역시       1105585\n",
       "제주특별자치도      575873\n",
       "세종특별자치시      191233\n",
       "Name: 인구수, dtype: int64"
      ]
     },
     "execution_count": 39,
     "metadata": {},
     "output_type": "execute_result"
    }
   ],
   "source": [
    "# 광역시도별 인구수의 합계\n",
    "data.groupby('광역시도')['인구수'].sum().sort_values(ascending=False)"
   ]
  },
  {
   "cell_type": "code",
   "execution_count": 47,
   "id": "fd2eb486-b07d-436d-a70a-c5dbd6af69e3",
   "metadata": {},
   "outputs": [],
   "source": [
    "# 광역시도별 행정구역별 인구수의 합계\n",
    "group_df = data.groupby(['광역시도','행정구역'])['인구수'].sum()"
   ]
  },
  {
   "cell_type": "code",
   "execution_count": 44,
   "id": "697744cd-0f13-4fd3-957d-729a0124cf79",
   "metadata": {},
   "outputs": [],
   "source": [
    "group_df.to_excel('data/광역시도별행정구역별인구수의합계.xlsx', sheet_name='인구수')"
   ]
  },
  {
   "cell_type": "markdown",
   "id": "f0b2537a-a397-42a1-85ed-35028e42fce8",
   "metadata": {},
   "source": [
    "#### 엑셀 수치데이터에 콤마찍기\n",
    "* [ExcelWriter](https://pandas.pydata.org/docs/reference/api/pandas.ExcelWriter.html)"
   ]
  },
  {
   "cell_type": "code",
   "execution_count": 42,
   "id": "c5546790-0ade-4367-a5e4-3fa1531ca14a",
   "metadata": {},
   "outputs": [
    {
     "name": "stdout",
     "output_type": "stream",
     "text": [
      "Requirement already satisfied: xlsxwriter in c:\\users\\vega2\\anaconda3\\lib\\site-packages (3.1.2)\n"
     ]
    }
   ],
   "source": [
    "!pip install xlsxwriter"
   ]
  },
  {
   "cell_type": "code",
   "execution_count": 48,
   "id": "bee1108d-1faa-4615-8010-1d24b8fdece9",
   "metadata": {},
   "outputs": [],
   "source": [
    "# Create a Pandas Excel writer using XlsxWriter as the engine.\n",
    "writer = pd.ExcelWriter('data/광역시도별인구수의합계1.xlsx', engine='xlsxwriter')\n",
    "\n",
    "# Convert the dataframe to an XlsxWriter Excel object.\n",
    "group_df.to_excel(writer, sheet_name='인구수합계')\n",
    "\n",
    "# Get the xlsxwriter workbook and worksheet objects.\n",
    "workbook  = writer.book\n",
    "worksheet = writer.sheets['인구수합계']\n",
    "\n",
    "# Set a currency number format for a column.\n",
    "num_format = workbook.add_format({'num_format': '#,###'})\n",
    "worksheet.set_column('C:C', None, num_format)\n",
    "\n",
    "# Close the Pandas Excel writer and output the Excel file.\n",
    "writer.close() #_save()"
   ]
  },
  {
   "cell_type": "markdown",
   "id": "6512da2b-d5f7-421f-a273-4ee2708da69e",
   "metadata": {},
   "source": [
    "#### 상관계수 (Correlation Coefficient)\n",
    "* 인구수와 면적 데이터간에 관련성이 있는지 살펴보기 위해서 상관계수 구하기\n",
    "* 상관계수 값은 -1 ~ 1 사이의 값이며, 0에 가까울 수록 관련성이 낮고, 1에 가까울 수록 관련성이 높다. \n",
    "* 음수는 반비례 (면적이 넓은 반면 인구수는 적은 경우), 양수는 비례 (면적이 넓고, 인구수도 높은 경우)\n",
    "* corr() 함수"
   ]
  },
  {
   "cell_type": "code",
   "execution_count": 50,
   "id": "4a30ca65-7a1b-404f-a429-b5b0103aaa84",
   "metadata": {},
   "outputs": [
    {
     "data": {
      "text/plain": [
       "-0.3460351605045768"
      ]
     },
     "execution_count": 50,
     "metadata": {},
     "output_type": "execute_result"
    }
   ],
   "source": [
    "#전국의 면적과 인구수의 상관계수 구하기\n",
    "data['면적'].corr(data['인구수'])"
   ]
  },
  {
   "cell_type": "code",
   "execution_count": 51,
   "id": "1bc2de92-839a-4432-862c-e08ef8b48636",
   "metadata": {},
   "outputs": [
    {
     "data": {
      "text/plain": [
       "0.6644268188909778"
      ]
     },
     "execution_count": 51,
     "metadata": {},
     "output_type": "execute_result"
    }
   ],
   "source": [
    "#서울의 면적과 인구수의 상관계수 구하기\n",
    "seoul_df = data.loc[data['광역시도'] == '서울특별시']\n",
    "seoul_df['면적'].corr(seoul_df['인구수'])"
   ]
  },
  {
   "cell_type": "code",
   "execution_count": 52,
   "id": "ed58dbb5-9c35-467c-a3ca-daeb80b01f5e",
   "metadata": {},
   "outputs": [
    {
     "data": {
      "text/plain": [
       "-0.21572485071590813"
      ]
     },
     "execution_count": 52,
     "metadata": {},
     "output_type": "execute_result"
    }
   ],
   "source": [
    "#경기도의 면적과 인구수의 상관계수 구하기\n",
    "gy_df['면적'].corr(gy_df['인구수'])"
   ]
  },
  {
   "cell_type": "markdown",
   "id": "e58cc277-502d-41a9-bb72-ac6a663ccc32",
   "metadata": {},
   "source": [
    "#### Groupby 한 DataFrame에 집계함수를 여러개 설정하기\n",
    "* agg() 함수 \n",
    "* agg(['max','mean','std'])"
   ]
  },
  {
   "cell_type": "code",
   "execution_count": 53,
   "id": "2e3df044-9011-47a3-8c42-1ad6aa915180",
   "metadata": {},
   "outputs": [
    {
     "data": {
      "text/html": [
       "<div>\n",
       "<style scoped>\n",
       "    .dataframe tbody tr th:only-of-type {\n",
       "        vertical-align: middle;\n",
       "    }\n",
       "\n",
       "    .dataframe tbody tr th {\n",
       "        vertical-align: top;\n",
       "    }\n",
       "\n",
       "    .dataframe thead th {\n",
       "        text-align: right;\n",
       "    }\n",
       "</style>\n",
       "<table border=\"1\" class=\"dataframe\">\n",
       "  <thead>\n",
       "    <tr style=\"text-align: right;\">\n",
       "      <th></th>\n",
       "      <th>max</th>\n",
       "      <th>mean</th>\n",
       "      <th>std</th>\n",
       "      <th>min</th>\n",
       "    </tr>\n",
       "    <tr>\n",
       "      <th>광역시도</th>\n",
       "      <th></th>\n",
       "      <th></th>\n",
       "      <th></th>\n",
       "      <th></th>\n",
       "    </tr>\n",
       "  </thead>\n",
       "  <tbody>\n",
       "    <tr>\n",
       "      <th>강원도</th>\n",
       "      <td>313851</td>\n",
       "      <td>79413.222222</td>\n",
       "      <td>87316.383238</td>\n",
       "      <td>20809</td>\n",
       "    </tr>\n",
       "    <tr>\n",
       "      <th>경기도</th>\n",
       "      <td>1125461</td>\n",
       "      <td>378845.483871</td>\n",
       "      <td>304548.395142</td>\n",
       "      <td>41076</td>\n",
       "    </tr>\n",
       "    <tr>\n",
       "      <th>경상남도</th>\n",
       "      <td>1010040</td>\n",
       "      <td>174693.722222</td>\n",
       "      <td>245796.465077</td>\n",
       "      <td>25091</td>\n",
       "    </tr>\n",
       "    <tr>\n",
       "      <th>경상북도</th>\n",
       "      <td>488395</td>\n",
       "      <td>109085.391304</td>\n",
       "      <td>124954.740885</td>\n",
       "      <td>8392</td>\n",
       "    </tr>\n",
       "    <tr>\n",
       "      <th>광주광역시</th>\n",
       "      <td>439683</td>\n",
       "      <td>287641.800000</td>\n",
       "      <td>137076.683206</td>\n",
       "      <td>97571</td>\n",
       "    </tr>\n",
       "    <tr>\n",
       "      <th>대구광역시</th>\n",
       "      <td>584517</td>\n",
       "      <td>297306.250000</td>\n",
       "      <td>174375.394380</td>\n",
       "      <td>74950</td>\n",
       "    </tr>\n",
       "    <tr>\n",
       "      <th>대전광역시</th>\n",
       "      <td>475094</td>\n",
       "      <td>293535.400000</td>\n",
       "      <td>111853.571882</td>\n",
       "      <td>190815</td>\n",
       "    </tr>\n",
       "    <tr>\n",
       "      <th>부산광역시</th>\n",
       "      <td>397134</td>\n",
       "      <td>207724.437500</td>\n",
       "      <td>106246.041384</td>\n",
       "      <td>43105</td>\n",
       "    </tr>\n",
       "    <tr>\n",
       "      <th>서울특별시</th>\n",
       "      <td>615487</td>\n",
       "      <td>375792.280000</td>\n",
       "      <td>125231.247975</td>\n",
       "      <td>114967</td>\n",
       "    </tr>\n",
       "    <tr>\n",
       "      <th>세종특별자치시</th>\n",
       "      <td>191233</td>\n",
       "      <td>191233.000000</td>\n",
       "      <td>NaN</td>\n",
       "      <td>191233</td>\n",
       "    </tr>\n",
       "    <tr>\n",
       "      <th>울산광역시</th>\n",
       "      <td>327270</td>\n",
       "      <td>221117.000000</td>\n",
       "      <td>64163.286582</td>\n",
       "      <td>164738</td>\n",
       "    </tr>\n",
       "    <tr>\n",
       "      <th>인천광역시</th>\n",
       "      <td>527153</td>\n",
       "      <td>276657.500000</td>\n",
       "      <td>199353.596491</td>\n",
       "      <td>17735</td>\n",
       "    </tr>\n",
       "    <tr>\n",
       "      <th>전라남도</th>\n",
       "      <td>263166</td>\n",
       "      <td>77298.318182</td>\n",
       "      <td>74413.253230</td>\n",
       "      <td>23189</td>\n",
       "    </tr>\n",
       "    <tr>\n",
       "      <th>전라북도</th>\n",
       "      <td>630708</td>\n",
       "      <td>124217.714286</td>\n",
       "      <td>168327.134821</td>\n",
       "      <td>20492</td>\n",
       "    </tr>\n",
       "    <tr>\n",
       "      <th>제주특별자치도</th>\n",
       "      <td>430504</td>\n",
       "      <td>287936.500000</td>\n",
       "      <td>201620.892054</td>\n",
       "      <td>145369</td>\n",
       "    </tr>\n",
       "    <tr>\n",
       "      <th>충청남도</th>\n",
       "      <td>584912</td>\n",
       "      <td>129741.933333</td>\n",
       "      <td>141125.108080</td>\n",
       "      <td>29671</td>\n",
       "    </tr>\n",
       "    <tr>\n",
       "      <th>충청북도</th>\n",
       "      <td>790216</td>\n",
       "      <td>134974.545455</td>\n",
       "      <td>223460.356657</td>\n",
       "      <td>27130</td>\n",
       "    </tr>\n",
       "  </tbody>\n",
       "</table>\n",
       "</div>"
      ],
      "text/plain": [
       "             max           mean            std     min\n",
       "광역시도                                                  \n",
       "강원도       313851   79413.222222   87316.383238   20809\n",
       "경기도      1125461  378845.483871  304548.395142   41076\n",
       "경상남도     1010040  174693.722222  245796.465077   25091\n",
       "경상북도      488395  109085.391304  124954.740885    8392\n",
       "광주광역시     439683  287641.800000  137076.683206   97571\n",
       "대구광역시     584517  297306.250000  174375.394380   74950\n",
       "대전광역시     475094  293535.400000  111853.571882  190815\n",
       "부산광역시     397134  207724.437500  106246.041384   43105\n",
       "서울특별시     615487  375792.280000  125231.247975  114967\n",
       "세종특별자치시   191233  191233.000000            NaN  191233\n",
       "울산광역시     327270  221117.000000   64163.286582  164738\n",
       "인천광역시     527153  276657.500000  199353.596491   17735\n",
       "전라남도      263166   77298.318182   74413.253230   23189\n",
       "전라북도      630708  124217.714286  168327.134821   20492\n",
       "제주특별자치도   430504  287936.500000  201620.892054  145369\n",
       "충청남도      584912  129741.933333  141125.108080   29671\n",
       "충청북도      790216  134974.545455  223460.356657   27130"
      ]
     },
     "execution_count": 53,
     "metadata": {},
     "output_type": "execute_result"
    }
   ],
   "source": [
    "data.groupby('광역시도')['인구수'].agg(['max','mean','std','min']).fillna(0)"
   ]
  },
  {
   "cell_type": "code",
   "execution_count": null,
   "id": "2cb687e9-8557-4f6b-a18d-7d44178f9074",
   "metadata": {},
   "outputs": [],
   "source": []
  }
 ],
 "metadata": {
  "kernelspec": {
   "display_name": "Python 3 (ipykernel)",
   "language": "python",
   "name": "python3"
  },
  "language_info": {
   "codemirror_mode": {
    "name": "ipython",
    "version": 3
   },
   "file_extension": ".py",
   "mimetype": "text/x-python",
   "name": "python",
   "nbconvert_exporter": "python",
   "pygments_lexer": "ipython3",
   "version": "3.10.9"
  }
 },
 "nbformat": 4,
 "nbformat_minor": 5
}
